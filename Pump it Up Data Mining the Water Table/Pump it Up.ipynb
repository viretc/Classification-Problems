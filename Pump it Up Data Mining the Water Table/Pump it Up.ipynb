{
 "cells": [
  {
   "cell_type": "markdown",
   "metadata": {},
   "source": [
    "# Pump it Up: Data Mining the Water Table"
   ]
  },
  {
   "cell_type": "markdown",
   "metadata": {},
   "source": [
    "## Methodology "
   ]
  },
  {
   "cell_type": "markdown",
   "metadata": {},
   "source": [
    "In this notebook, we will only show the features selection, dimensionality reduction and modelling that gave us the high score; However, we will comment on all the trails we made prior to come to our final best score.\n",
    "\n",
    "### Data understanding\n",
    "Understand the data distribution, the amount of levels per features, the target distribution, etc..\n",
    "### Features engineering\n",
    "- 1) Dealing with missing values: replacing missing values (with modes or “None”)\n",
    "- 2) Features selection: discard not informative enough features (mostly because they contain to mainly levels)\n",
    "- 3) Dimensionality reduction: reduce the amount of level per features \n",
    "- 4) Label Encoder: Choose Label Encoder over One Hot Encoder (the features have still a lot of dimensions)\n",
    "\n",
    "### Modelling\n",
    "- 1) Base model: Random Forest\n",
    "- 2) Element Ensemble: Voting Classifier\n",
    "\n",
    "### Prediction\n",
    "Out of Sample predication\n",
    "\n",
    "### Conclusion\n",
    "Interpretation of the most important features and potential further improvement of our analysis and modelling\n",
    "\n",
    "\n",
    "\n",
    "**Best out of sample score 82.55 % - Top 1% as of March 2018**\n",
    "\n",
    "[Competition link](https://www.drivendata.org/competitions/7/pump-it-up-data-mining-the-water-table/)\n",
    "\n",
    "\n",
    "### Authors: Cedric Viret and Alexandre Olivier "
   ]
  },
  {
   "cell_type": "markdown",
   "metadata": {},
   "source": [
    "#### Importing basic libraries"
   ]
  },
  {
   "cell_type": "code",
   "execution_count": 94,
   "metadata": {
    "collapsed": true
   },
   "outputs": [],
   "source": [
    "import pandas as pd\n",
    "import matplotlib.pyplot as plt\n",
    "%matplotlib inline\n",
    "plt.style.use('seaborn')\n",
    "from scipy.stats import norm, skew\n",
    "import numpy as np\n",
    "import seaborn as sns\n",
    "import warnings\n",
    "warnings.filterwarnings('ignore')"
   ]
  },
  {
   "cell_type": "markdown",
   "metadata": {},
   "source": [
    "### Impot data"
   ]
  },
  {
   "cell_type": "code",
   "execution_count": 95,
   "metadata": {
    "collapsed": true
   },
   "outputs": [],
   "source": [
    "training = pd.read_csv(\"Training.csv\")\n",
    "test =  pd.read_csv(\"Test.csv\")\n",
    "Y_training = pd.read_csv(\"Y_Training.csv\")\n"
   ]
  },
  {
   "cell_type": "markdown",
   "metadata": {},
   "source": [
    "#### Basic maniplulation on the data"
   ]
  },
  {
   "cell_type": "code",
   "execution_count": 96,
   "metadata": {},
   "outputs": [
    {
     "name": "stdout",
     "output_type": "stream",
     "text": [
      "Making sure that download data are accurate\n",
      "training shape: (59400, 40)\n",
      "test shape: (14850, 40)\n",
      "training target shape: (59400, 2)\n",
      "--------------------------------------\n",
      "Merge training + target: (59400, 41)\n",
      "--------------------------------------\n",
      "check if ID are unique: True\n",
      "check if ID are unique: True\n",
      "--------------------------------------\n",
      "Final Training shape: (59400, 40)\n",
      "Final Testing shape: (14850, 39)\n",
      "\n",
      "---------concat data-----------\n",
      "y shape: (59400, 1)\n",
      "features shape: (74250, 39)\n"
     ]
    }
   ],
   "source": [
    "#shape of the csv\n",
    "print(\"Making sure that download data are accurate\")\n",
    "print(\"training shape:\",training.shape)\n",
    "print(\"test shape:\",test.shape)\n",
    "print(\"training target shape:\",Y_training.shape)\n",
    "print(\"--------------------------------------\")\n",
    "\n",
    "#merge Y_training and training\n",
    "training = training.merge(Y_training, left_on='id', right_on='id', how='inner')\n",
    "print(\"Merge training + target:\",training.shape)\n",
    "print(\"--------------------------------------\")\n",
    "\n",
    "#check is ID is unique\n",
    "print(\"check if ID are unique:\", len(training.id.unique()) == len(training))\n",
    "print(\"check if ID are unique:\", len(test.id.unique()) == len(test))\n",
    "print(\"--------------------------------------\")\n",
    "\n",
    "#Id's are unique we store them and remove them\n",
    "training_id = training.id\n",
    "test_id = test.id\n",
    "training = training.drop(\"id\", inplace = False, axis = 1)\n",
    "test = test.drop(\"id\", inplace = False, axis = 1)\n",
    "\n",
    "\n",
    "#print(final shape)\n",
    "print(\"Final Training shape:\",training.shape)\n",
    "print(\"Final Testing shape:\",test.shape)\n",
    "\n",
    "#concante test and training\n",
    "print(\"\")\n",
    "print(\"---------concat data-----------\")\n",
    "y = pd.DataFrame({'status_group':training.status_group})\n",
    "print(\"y shape:\",y.shape)\n",
    "features = training.drop('status_group', inplace = False, axis = 1)\n",
    "features = pd.concat([features, test]).reset_index(drop=True)\n",
    "print(\"features shape:\",features.shape)\n"
   ]
  },
  {
   "cell_type": "markdown",
   "metadata": {},
   "source": [
    "After this manipulation, we have:<br>\n",
    "-  \"features\" that contains all the features form the original dataset\n",
    "-  \"y\" which is the target variable with 3 levels: \"functional\", \"functional needs repair\" and \"non functional\"<br>\n",
    "\n",
    "**It is a multiclass classification problem**"
   ]
  },
  {
   "cell_type": "markdown",
   "metadata": {},
   "source": [
    "### Data understanding"
   ]
  },
  {
   "cell_type": "code",
   "execution_count": 97,
   "metadata": {},
   "outputs": [
    {
     "data": {
      "text/html": [
       "<div>\n",
       "<style scoped>\n",
       "    .dataframe tbody tr th:only-of-type {\n",
       "        vertical-align: middle;\n",
       "    }\n",
       "\n",
       "    .dataframe tbody tr th {\n",
       "        vertical-align: top;\n",
       "    }\n",
       "\n",
       "    .dataframe thead th {\n",
       "        text-align: right;\n",
       "    }\n",
       "</style>\n",
       "<table border=\"1\" class=\"dataframe\">\n",
       "  <thead>\n",
       "    <tr style=\"text-align: right;\">\n",
       "      <th></th>\n",
       "      <th>amount_tsh</th>\n",
       "      <th>date_recorded</th>\n",
       "      <th>funder</th>\n",
       "      <th>gps_height</th>\n",
       "      <th>installer</th>\n",
       "      <th>longitude</th>\n",
       "      <th>latitude</th>\n",
       "      <th>wpt_name</th>\n",
       "      <th>num_private</th>\n",
       "      <th>basin</th>\n",
       "      <th>subvillage</th>\n",
       "      <th>region</th>\n",
       "      <th>region_code</th>\n",
       "      <th>district_code</th>\n",
       "      <th>lga</th>\n",
       "      <th>ward</th>\n",
       "      <th>population</th>\n",
       "      <th>public_meeting</th>\n",
       "      <th>recorded_by</th>\n",
       "      <th>scheme_management</th>\n",
       "      <th>scheme_name</th>\n",
       "      <th>permit</th>\n",
       "      <th>construction_year</th>\n",
       "      <th>extraction_type</th>\n",
       "      <th>extraction_type_group</th>\n",
       "      <th>extraction_type_class</th>\n",
       "      <th>management</th>\n",
       "      <th>management_group</th>\n",
       "      <th>payment</th>\n",
       "      <th>payment_type</th>\n",
       "      <th>water_quality</th>\n",
       "      <th>quality_group</th>\n",
       "      <th>quantity</th>\n",
       "      <th>quantity_group</th>\n",
       "      <th>source</th>\n",
       "      <th>source_type</th>\n",
       "      <th>source_class</th>\n",
       "      <th>waterpoint_type</th>\n",
       "      <th>waterpoint_type_group</th>\n",
       "    </tr>\n",
       "  </thead>\n",
       "  <tbody>\n",
       "    <tr>\n",
       "      <th>0</th>\n",
       "      <td>6000.0</td>\n",
       "      <td>2011-03-14</td>\n",
       "      <td>Roman</td>\n",
       "      <td>1390</td>\n",
       "      <td>Roman</td>\n",
       "      <td>34.938093</td>\n",
       "      <td>-9.856322</td>\n",
       "      <td>none</td>\n",
       "      <td>0</td>\n",
       "      <td>Lake Nyasa</td>\n",
       "      <td>Mnyusi B</td>\n",
       "      <td>Iringa</td>\n",
       "      <td>11</td>\n",
       "      <td>5</td>\n",
       "      <td>Ludewa</td>\n",
       "      <td>Mundindi</td>\n",
       "      <td>109</td>\n",
       "      <td>True</td>\n",
       "      <td>GeoData Consultants Ltd</td>\n",
       "      <td>VWC</td>\n",
       "      <td>Roman</td>\n",
       "      <td>False</td>\n",
       "      <td>1999</td>\n",
       "      <td>gravity</td>\n",
       "      <td>gravity</td>\n",
       "      <td>gravity</td>\n",
       "      <td>vwc</td>\n",
       "      <td>user-group</td>\n",
       "      <td>pay annually</td>\n",
       "      <td>annually</td>\n",
       "      <td>soft</td>\n",
       "      <td>good</td>\n",
       "      <td>enough</td>\n",
       "      <td>enough</td>\n",
       "      <td>spring</td>\n",
       "      <td>spring</td>\n",
       "      <td>groundwater</td>\n",
       "      <td>communal standpipe</td>\n",
       "      <td>communal standpipe</td>\n",
       "    </tr>\n",
       "    <tr>\n",
       "      <th>1</th>\n",
       "      <td>0.0</td>\n",
       "      <td>2013-03-06</td>\n",
       "      <td>Grumeti</td>\n",
       "      <td>1399</td>\n",
       "      <td>GRUMETI</td>\n",
       "      <td>34.698766</td>\n",
       "      <td>-2.147466</td>\n",
       "      <td>Zahanati</td>\n",
       "      <td>0</td>\n",
       "      <td>Lake Victoria</td>\n",
       "      <td>Nyamara</td>\n",
       "      <td>Mara</td>\n",
       "      <td>20</td>\n",
       "      <td>2</td>\n",
       "      <td>Serengeti</td>\n",
       "      <td>Natta</td>\n",
       "      <td>280</td>\n",
       "      <td>NaN</td>\n",
       "      <td>GeoData Consultants Ltd</td>\n",
       "      <td>Other</td>\n",
       "      <td>NaN</td>\n",
       "      <td>True</td>\n",
       "      <td>2010</td>\n",
       "      <td>gravity</td>\n",
       "      <td>gravity</td>\n",
       "      <td>gravity</td>\n",
       "      <td>wug</td>\n",
       "      <td>user-group</td>\n",
       "      <td>never pay</td>\n",
       "      <td>never pay</td>\n",
       "      <td>soft</td>\n",
       "      <td>good</td>\n",
       "      <td>insufficient</td>\n",
       "      <td>insufficient</td>\n",
       "      <td>rainwater harvesting</td>\n",
       "      <td>rainwater harvesting</td>\n",
       "      <td>surface</td>\n",
       "      <td>communal standpipe</td>\n",
       "      <td>communal standpipe</td>\n",
       "    </tr>\n",
       "  </tbody>\n",
       "</table>\n",
       "</div>"
      ],
      "text/plain": [
       "   amount_tsh date_recorded   funder  gps_height installer  longitude  \\\n",
       "0      6000.0    2011-03-14    Roman        1390     Roman  34.938093   \n",
       "1         0.0    2013-03-06  Grumeti        1399   GRUMETI  34.698766   \n",
       "\n",
       "   latitude  wpt_name  num_private          basin subvillage  region  \\\n",
       "0 -9.856322      none            0     Lake Nyasa   Mnyusi B  Iringa   \n",
       "1 -2.147466  Zahanati            0  Lake Victoria    Nyamara    Mara   \n",
       "\n",
       "   region_code  district_code        lga      ward  population public_meeting  \\\n",
       "0           11              5     Ludewa  Mundindi         109           True   \n",
       "1           20              2  Serengeti     Natta         280            NaN   \n",
       "\n",
       "               recorded_by scheme_management scheme_name permit  \\\n",
       "0  GeoData Consultants Ltd               VWC       Roman  False   \n",
       "1  GeoData Consultants Ltd             Other         NaN   True   \n",
       "\n",
       "   construction_year extraction_type extraction_type_group  \\\n",
       "0               1999         gravity               gravity   \n",
       "1               2010         gravity               gravity   \n",
       "\n",
       "  extraction_type_class management management_group       payment  \\\n",
       "0               gravity        vwc       user-group  pay annually   \n",
       "1               gravity        wug       user-group     never pay   \n",
       "\n",
       "  payment_type water_quality quality_group      quantity quantity_group  \\\n",
       "0     annually          soft          good        enough         enough   \n",
       "1    never pay          soft          good  insufficient   insufficient   \n",
       "\n",
       "                 source           source_type source_class  \\\n",
       "0                spring                spring  groundwater   \n",
       "1  rainwater harvesting  rainwater harvesting      surface   \n",
       "\n",
       "      waterpoint_type waterpoint_type_group  \n",
       "0  communal standpipe    communal standpipe  \n",
       "1  communal standpipe    communal standpipe  "
      ]
     },
     "execution_count": 97,
     "metadata": {},
     "output_type": "execute_result"
    }
   ],
   "source": [
    "pd.set_option('max_columns', None)\n",
    "features.head(2)\n"
   ]
  },
  {
   "cell_type": "code",
   "execution_count": 98,
   "metadata": {
    "scrolled": true
   },
   "outputs": [
    {
     "name": "stdout",
     "output_type": "stream",
     "text": [
      "amount_tsh               float64\n",
      "date_recorded             object\n",
      "funder                    object\n",
      "gps_height                 int64\n",
      "installer                 object\n",
      "longitude                float64\n",
      "latitude                 float64\n",
      "wpt_name                  object\n",
      "num_private                int64\n",
      "basin                     object\n",
      "subvillage                object\n",
      "region                    object\n",
      "region_code                int64\n",
      "district_code              int64\n",
      "lga                       object\n",
      "ward                      object\n",
      "population                 int64\n",
      "public_meeting            object\n",
      "recorded_by               object\n",
      "scheme_management         object\n",
      "scheme_name               object\n",
      "permit                    object\n",
      "construction_year          int64\n",
      "extraction_type           object\n",
      "extraction_type_group     object\n",
      "extraction_type_class     object\n",
      "management                object\n",
      "management_group          object\n",
      "payment                   object\n",
      "payment_type              object\n",
      "water_quality             object\n",
      "quality_group             object\n",
      "quantity                  object\n",
      "quantity_group            object\n",
      "source                    object\n",
      "source_type               object\n",
      "source_class              object\n",
      "waterpoint_type           object\n",
      "waterpoint_type_group     object\n",
      "dtype: object\n"
     ]
    }
   ],
   "source": [
    "#data type\n",
    "print(features.dtypes)"
   ]
  },
  {
   "cell_type": "markdown",
   "metadata": {},
   "source": [
    "Having a look at the 39 features of the dataset we realized that we have only 9 numerical features; while the others are categorical with a **crazy amount of level per feature** - therefore we will have to somehow find a way to reduce the dimensiality of our features to have a good modelling result."
   ]
  },
  {
   "cell_type": "markdown",
   "metadata": {},
   "source": [
    "#### Understanding target distribution"
   ]
  },
  {
   "cell_type": "code",
   "execution_count": 99,
   "metadata": {},
   "outputs": [
    {
     "data": {
      "text/html": [
       "<div>\n",
       "<style scoped>\n",
       "    .dataframe tbody tr th:only-of-type {\n",
       "        vertical-align: middle;\n",
       "    }\n",
       "\n",
       "    .dataframe tbody tr th {\n",
       "        vertical-align: top;\n",
       "    }\n",
       "\n",
       "    .dataframe thead th {\n",
       "        text-align: right;\n",
       "    }\n",
       "</style>\n",
       "<table border=\"1\" class=\"dataframe\">\n",
       "  <thead>\n",
       "    <tr style=\"text-align: right;\">\n",
       "      <th></th>\n",
       "      <th>Class</th>\n",
       "      <th>y_value</th>\n",
       "      <th>y_value_prct</th>\n",
       "    </tr>\n",
       "  </thead>\n",
       "  <tbody>\n",
       "    <tr>\n",
       "      <th>0</th>\n",
       "      <td>functional</td>\n",
       "      <td>32259</td>\n",
       "      <td>0.543081</td>\n",
       "    </tr>\n",
       "    <tr>\n",
       "      <th>1</th>\n",
       "      <td>functional needs repair</td>\n",
       "      <td>4317</td>\n",
       "      <td>0.072677</td>\n",
       "    </tr>\n",
       "    <tr>\n",
       "      <th>2</th>\n",
       "      <td>non functional</td>\n",
       "      <td>22824</td>\n",
       "      <td>0.384242</td>\n",
       "    </tr>\n",
       "  </tbody>\n",
       "</table>\n",
       "</div>"
      ],
      "text/plain": [
       "                     Class  y_value  y_value_prct\n",
       "0               functional    32259      0.543081\n",
       "1  functional needs repair     4317      0.072677\n",
       "2           non functional    22824      0.384242"
      ]
     },
     "execution_count": 99,
     "metadata": {},
     "output_type": "execute_result"
    }
   ],
   "source": [
    "y_grouped = y.groupby('status_group')['status_group'].count()\n",
    "y_grouped_index = y_grouped.index\n",
    "y_grouped_prct = y_grouped / len(y)\n",
    "pd.DataFrame(list(zip(y_grouped_index,y_grouped, y_grouped_prct )), columns=['Class', 'y_value', 'y_value_prct'])"
   ]
  },
  {
   "cell_type": "markdown",
   "metadata": {},
   "source": [
    "Looking at the distribution of the target variable we see that the class \"functional needs repair\" is low compare to the other two ('<10%') - potential imbalance distribution.<br>\n",
    "So we already know that for our cross validation strategry we will choose \"StratifiedKFold\" over a \"NormalKfold\" - it fits better for imbalance classes."
   ]
  },
  {
   "cell_type": "markdown",
   "metadata": {},
   "source": [
    "### Features engineering"
   ]
  },
  {
   "cell_type": "markdown",
   "metadata": {},
   "source": [
    "It is compose of three main parts:\n",
    "- 1) Dealing with with missing values\n",
    "- 2) Features selection\n",
    "- 3) Dimensionality reduction <br>\n",
    "\n",
    "For each sections with will list all the trails we made but only show the code that give us the best model."
   ]
  },
  {
   "cell_type": "markdown",
   "metadata": {},
   "source": [
    "#### Dealing with missing values"
   ]
  },
  {
   "cell_type": "code",
   "execution_count": 100,
   "metadata": {},
   "outputs": [
    {
     "name": "stdout",
     "output_type": "stream",
     "text": [
      "                       0         1       2\n",
      "scheme_name        35258  0.474855  object\n",
      "scheme_management   4846  0.065266  object\n",
      "installer           4532  0.061037  object\n",
      "funder              4504  0.060660  object\n",
      "public_meeting      4155  0.055960  object\n",
      "permit              3793  0.051084  object\n",
      "subvillage           470  0.006330  object\n",
      "There are 7 columns with missing values\n"
     ]
    }
   ],
   "source": [
    "#understand the missing vales\n",
    "nulls = np.sum(features.isnull())\n",
    "nullcols = nulls.loc[(nulls != 0)]\n",
    "dtypes = features.dtypes\n",
    "dtypes2 = dtypes.loc[(nulls != 0)]\n",
    "nullcols2 = nullcols / len(features)\n",
    "info = pd.concat([nullcols,nullcols2, dtypes2], axis=1).sort_values(by=0, ascending=False)\n",
    "print(info)\n",
    "print(\"There are\", len(nullcols), \"columns with missing values\")"
   ]
  },
  {
   "cell_type": "markdown",
   "metadata": {},
   "source": [
    "Except for scheme_name, all the featires have less that 10% missing values.<br>\n",
    "We tried to better understand the missing values patterns with a graph."
   ]
  },
  {
   "cell_type": "code",
   "execution_count": 101,
   "metadata": {},
   "outputs": [
    {
     "data": {
      "text/plain": [
       "<matplotlib.axes._subplots.AxesSubplot at 0x2a435b51550>"
      ]
     },
     "execution_count": 101,
     "metadata": {},
     "output_type": "execute_result"
    },
    {
     "data": {
      "image/png": "[encoded data removed]",
      "text/plain": [
       "<matplotlib.figure.Figure at 0x2a4357045f8>"
      ]
     },
     "metadata": {},
     "output_type": "display_data"
    }
   ],
   "source": [
    "import missingno as msno\n",
    "missingdata_df = features.columns[features.isnull().any()].tolist()\n",
    "msno.matrix(features[missingdata_df])"
   ]
  },
  {
   "cell_type": "markdown",
   "metadata": {},
   "source": [
    "With this matrix it seems that funder and installer have the same missing values; for the other features there is no clear pattern."
   ]
  },
  {
   "cell_type": "code",
   "execution_count": 102,
   "metadata": {
    "collapsed": true
   },
   "outputs": [],
   "source": [
    "#copy of the features before Nan imputation\n",
    "feature_initial = pd.DataFrame.copy(features)"
   ]
  },
  {
   "cell_type": "markdown",
   "metadata": {},
   "source": [
    "#### Na imputation<br>\n",
    "\n",
    "To deal with NaN values we try different approaches:\n",
    "- 1) using KNN from package FancyImpute to fill the Nan. We were not able to implement it properly. Because fancy impute only work with numerical features... We tried to convert all the categorical features into numerical before applying Fancy impute but even with those it was not working properly (for instance: KNN return 1.2 for a categorical variable that could either be 1 or 2). With this kind of results we could not have any meaningful output. so we tried:\n",
    "- 2) unsupervised KNN. To do that we used all the rows with missing values as testing set and the rows without Nan as training. It worked, however the results on our base model were not satisfying so we use decided on a last approach:\n",
    "- 3) standard approach where we filled this NaN by either \"None\" or features ‘mode.\n"
   ]
  },
  {
   "cell_type": "markdown",
   "metadata": {},
   "source": [
    "**“Scheme_name”, installer, funder and “subvillage” we replaced the missing values by \"None\".** <br>\n",
    "\n",
    "- 1) “Scheme_name” have so many NaN that we create a category called \"None\" for all the missing information\n",
    "- 2) installer, funder and “subvillage”, we could not find any relevant information related to those missing values and the other features so we apply the category \"None\".\n"
   ]
  },
  {
   "cell_type": "code",
   "execution_count": 103,
   "metadata": {
    "collapsed": true
   },
   "outputs": [],
   "source": [
    "features.scheme_name.fillna('None', inplace = True) # to many level inside the class to do anything\n",
    "features.installer.fillna('None', inplace = True) #none again to many catergory\n",
    "features.funder.fillna('None', inplace = True) #none again to many catergoy\n",
    "features.subvillage.fillna('None', inplace = True) #none again to many catergoy\n"
   ]
  },
  {
   "cell_type": "markdown",
   "metadata": {},
   "source": [
    "**For \"scheme_management\", \"public_meeting\" and \"permit\" we imputed the mode of each features.**<br>\n",
    "\n",
    "\n",
    "- 1) There are not a lot of levels for those features - so we choose to not increase it with another category such as \"None\" - especially knowing that what we already have, overall, some many levels for each features (it would add more complexity).\n",
    "- 2) After many changes we realized that our baseline model produces a better in and out of sample accuracy score with mode instead of assigning another class to the missing NaNs."
   ]
  },
  {
   "cell_type": "code",
   "execution_count": 104,
   "metadata": {
    "collapsed": true
   },
   "outputs": [],
   "source": [
    "features.scheme_management.fillna(features['scheme_management'].mode()[0], inplace = True) #on the class mode\n",
    "features.public_meeting.fillna(features['public_meeting'].mode()[0], inplace = True) #on the class mode\n",
    "features.permit.fillna(features['permit'].mode()[0], inplace = True) #on the class mode\n"
   ]
  },
  {
   "cell_type": "code",
   "execution_count": 105,
   "metadata": {
    "scrolled": true
   },
   "outputs": [
    {
     "name": "stdout",
     "output_type": "stream",
     "text": [
      "There are 0 columns with missing values\n"
     ]
    }
   ],
   "source": [
    "#CHECKING for Nans\n",
    "nulls = np.sum(features.isnull())\n",
    "nullcols = nulls.loc[(nulls != 0)]\n",
    "dtypes = features.dtypes\n",
    "dtypes2 = dtypes.loc[(nulls != 0)]\n",
    "nullcols2 = nullcols / len(features)\n",
    "info = pd.concat([nullcols,nullcols2, dtypes2], axis=1).sort_values(by=0, ascending=False)\n",
    "print(\"There are\", len(nullcols), \"columns with missing values\")"
   ]
  },
  {
   "cell_type": "markdown",
   "metadata": {
    "collapsed": true
   },
   "source": [
    "#### Features Selection - Dimensionality Reduction\n",
    "In this section we apply the same logic to each categorical features:\n",
    "- 1) we apply the created function: *serie_understanding* to have a data frame with the amount and percentage of each unique levels for each features\n",
    "- 2) if needed, we transform the features by grouping the lower level together - (*function replacement*)\n"
   ]
  },
  {
   "cell_type": "code",
   "execution_count": 106,
   "metadata": {
    "collapsed": true
   },
   "outputs": [],
   "source": [
    "#function to understand the serie:\n",
    "def serie_understanding(serie):\n",
    "    group = features.groupby(serie)[serie].count()\n",
    "    df = pd.DataFrame(list(zip(group.index, group, group/sum(group))), columns = ['Class', 'Count', 'Percentage']).sort_values('Percentage', ascending = False)\n",
    "    return df\n",
    "\n",
    "#########\n",
    "def replacement(thresold, colum):\n",
    "    list1 = []\n",
    "    thresold = int(thresold)\n",
    "    for a,b in zip(df.Count, df.Class): \n",
    "        if a <= thresold:\n",
    "            list1.append(b)\n",
    "    ###\n",
    "    for i in list1:\n",
    "        features[colum].replace([i],\"Group\", inplace = True)\n",
    "    print(\"REPACEMENT DONE WITH A THRESHOLD OF\", thresold)"
   ]
  },
  {
   "cell_type": "markdown",
   "metadata": {},
   "source": [
    "##### Understanding class distribution per catergorical features"
   ]
  },
  {
   "cell_type": "code",
   "execution_count": 107,
   "metadata": {},
   "outputs": [
    {
     "name": "stdout",
     "output_type": "stream",
     "text": [
      "\n"
     ]
    },
    {
     "data": {
      "image/png": "[encoded data removed]",
      "text/plain": [
       "<matplotlib.figure.Figure at 0x2a435b8ae80>"
      ]
     },
     "metadata": {},
     "output_type": "display_data"
    }
   ],
   "source": [
    "from itertools import chain\n",
    "objects = []\n",
    "features_name = []\n",
    "\n",
    "#Getting number of levels for each features\n",
    "for i in features.columns:\n",
    "    if features[i].dtype == object:\n",
    "        objects.append(len(features[i].unique()))\n",
    "        features_name.append([i])\n",
    "        #print([i],len(features[i].unique()), features[i].dtype) to have all the features not only the object type\n",
    "\n",
    "\n",
    "#creating a list instead of a list of a list for feature_name\n",
    "features_name = list(chain.from_iterable(features_name))\n",
    "\n",
    "#create a dataframes\n",
    "graph_df = pd.DataFrame()\n",
    "graph_df['features_name'] = features_name\n",
    "graph_df['features_uniquer_values'] = objects\n",
    "\n",
    "#first DF\n",
    "graph_df.sort_values('features_uniquer_values', axis=0, ascending=True, inplace=True, kind='quicksort', na_position='last')\n",
    "#second df\n",
    "graph_df2 = graph_df[graph_df['features_uniquer_values'] >= 70].sort_values('features_uniquer_values', axis=0, ascending=True, inplace=False, kind='quicksort', na_position='last')\n",
    "\n",
    "print(\"\")\n",
    "\n",
    "\"-------------------------graphs-------------------------\"\n",
    "#plot1\n",
    "plt.subplot(2,1,1)\n",
    "plt.legend(\"All categorical features - Y axis limited to 70\")\n",
    "\n",
    "plt.xticks(rotation=90)\n",
    "plt.ylim(ymax=70)\n",
    "sns.barplot(x=graph_df['features_name'], y=\"features_uniquer_values\", data = graph_df)\n",
    "plt.title('All categorical features - Y axis limited to 70')\n",
    "\n",
    "#plot2\n",
    "plt.subplot(2,1,2)\n",
    "plt.xticks(rotation=90)\n",
    "sns.barplot(x='features_name', y=\"features_uniquer_values\", data = graph_df2)\n",
    "plt.title('Categorical Features with unique values higher that 70')\n",
    "\n",
    "plt.tight_layout()\n"
   ]
  },
  {
   "cell_type": "markdown",
   "metadata": {},
   "source": [
    "With these plots we can clearly see that we have 8 features with more than 70 classes, with two of them having more than 2000 classes. To handle that problem we look at each feature individually to see if we could find patterns in each class of the features. Below an example on how we proceeded."
   ]
  },
  {
   "cell_type": "code",
   "execution_count": 108,
   "metadata": {
    "scrolled": true
   },
   "outputs": [
    {
     "data": {
      "text/html": [
       "<div>\n",
       "<style scoped>\n",
       "    .dataframe tbody tr th:only-of-type {\n",
       "        vertical-align: middle;\n",
       "    }\n",
       "\n",
       "    .dataframe tbody tr th {\n",
       "        vertical-align: top;\n",
       "    }\n",
       "\n",
       "    .dataframe thead th {\n",
       "        text-align: right;\n",
       "    }\n",
       "</style>\n",
       "<table border=\"1\" class=\"dataframe\">\n",
       "  <thead>\n",
       "    <tr style=\"text-align: right;\">\n",
       "      <th></th>\n",
       "      <th>Class</th>\n",
       "      <th>Count</th>\n",
       "      <th>Percentage</th>\n",
       "    </tr>\n",
       "  </thead>\n",
       "  <tbody>\n",
       "    <tr>\n",
       "      <th>3</th>\n",
       "      <td>gravity</td>\n",
       "      <td>33263</td>\n",
       "      <td>0.447987</td>\n",
       "    </tr>\n",
       "    <tr>\n",
       "      <th>8</th>\n",
       "      <td>nira/tanira</td>\n",
       "      <td>10205</td>\n",
       "      <td>0.137441</td>\n",
       "    </tr>\n",
       "    <tr>\n",
       "      <th>9</th>\n",
       "      <td>other</td>\n",
       "      <td>8102</td>\n",
       "      <td>0.109118</td>\n",
       "    </tr>\n",
       "    <tr>\n",
       "      <th>14</th>\n",
       "      <td>submersible</td>\n",
       "      <td>5982</td>\n",
       "      <td>0.080566</td>\n",
       "    </tr>\n",
       "    <tr>\n",
       "      <th>15</th>\n",
       "      <td>swn 80</td>\n",
       "      <td>4588</td>\n",
       "      <td>0.061791</td>\n",
       "    </tr>\n",
       "    <tr>\n",
       "      <th>7</th>\n",
       "      <td>mono</td>\n",
       "      <td>3628</td>\n",
       "      <td>0.048862</td>\n",
       "    </tr>\n",
       "    <tr>\n",
       "      <th>4</th>\n",
       "      <td>india mark ii</td>\n",
       "      <td>3029</td>\n",
       "      <td>0.040795</td>\n",
       "    </tr>\n",
       "    <tr>\n",
       "      <th>0</th>\n",
       "      <td>afridev</td>\n",
       "      <td>2208</td>\n",
       "      <td>0.029737</td>\n",
       "    </tr>\n",
       "    <tr>\n",
       "      <th>6</th>\n",
       "      <td>ksb</td>\n",
       "      <td>1790</td>\n",
       "      <td>0.024108</td>\n",
       "    </tr>\n",
       "    <tr>\n",
       "      <th>12</th>\n",
       "      <td>other - rope pump</td>\n",
       "      <td>572</td>\n",
       "      <td>0.007704</td>\n",
       "    </tr>\n",
       "    <tr>\n",
       "      <th>13</th>\n",
       "      <td>other - swn 81</td>\n",
       "      <td>284</td>\n",
       "      <td>0.003825</td>\n",
       "    </tr>\n",
       "    <tr>\n",
       "      <th>17</th>\n",
       "      <td>windmill</td>\n",
       "      <td>152</td>\n",
       "      <td>0.002047</td>\n",
       "    </tr>\n",
       "    <tr>\n",
       "      <th>5</th>\n",
       "      <td>india mark iii</td>\n",
       "      <td>135</td>\n",
       "      <td>0.001818</td>\n",
       "    </tr>\n",
       "    <tr>\n",
       "      <th>1</th>\n",
       "      <td>cemo</td>\n",
       "      <td>108</td>\n",
       "      <td>0.001455</td>\n",
       "    </tr>\n",
       "    <tr>\n",
       "      <th>11</th>\n",
       "      <td>other - play pump</td>\n",
       "      <td>101</td>\n",
       "      <td>0.001360</td>\n",
       "    </tr>\n",
       "    <tr>\n",
       "      <th>16</th>\n",
       "      <td>walimi</td>\n",
       "      <td>60</td>\n",
       "      <td>0.000808</td>\n",
       "    </tr>\n",
       "    <tr>\n",
       "      <th>2</th>\n",
       "      <td>climax</td>\n",
       "      <td>41</td>\n",
       "      <td>0.000552</td>\n",
       "    </tr>\n",
       "    <tr>\n",
       "      <th>10</th>\n",
       "      <td>other - mkulima/shinyanga</td>\n",
       "      <td>2</td>\n",
       "      <td>0.000027</td>\n",
       "    </tr>\n",
       "  </tbody>\n",
       "</table>\n",
       "</div>"
      ],
      "text/plain": [
       "                        Class  Count  Percentage\n",
       "3                     gravity  33263    0.447987\n",
       "8                 nira/tanira  10205    0.137441\n",
       "9                       other   8102    0.109118\n",
       "14                submersible   5982    0.080566\n",
       "15                     swn 80   4588    0.061791\n",
       "7                        mono   3628    0.048862\n",
       "4               india mark ii   3029    0.040795\n",
       "0                     afridev   2208    0.029737\n",
       "6                         ksb   1790    0.024108\n",
       "12          other - rope pump    572    0.007704\n",
       "13             other - swn 81    284    0.003825\n",
       "17                   windmill    152    0.002047\n",
       "5              india mark iii    135    0.001818\n",
       "1                        cemo    108    0.001455\n",
       "11          other - play pump    101    0.001360\n",
       "16                     walimi     60    0.000808\n",
       "2                      climax     41    0.000552\n",
       "10  other - mkulima/shinyanga      2    0.000027"
      ]
     },
     "execution_count": 108,
     "metadata": {},
     "output_type": "execute_result"
    }
   ],
   "source": [
    "df = serie_understanding('extraction_type') #Calling the function to run a the serie\n",
    "df #printing dataframe that is composed of Class Count amount of unique value and pourcentage (that for only one serie in the DF)"
   ]
  },
  {
   "cell_type": "code",
   "execution_count": 109,
   "metadata": {},
   "outputs": [
    {
     "data": {
      "text/plain": [
       "(array([ 0,  1,  2,  3,  4,  5,  6,  7,  8,  9, 10, 11, 12, 13, 14, 15, 16,\n",
       "        17]), <a list of 18 Text xticklabel objects>)"
      ]
     },
     "execution_count": 109,
     "metadata": {},
     "output_type": "execute_result"
    },
    {
     "data": {
      "image/png": "[encoded data removed]",
      "text/plain": [
       "<matplotlib.figure.Figure at 0x2a435b572e8>"
      ]
     },
     "metadata": {},
     "output_type": "display_data"
    }
   ],
   "source": [
    "#visual representation of the serie\n",
    "df.sort_values('Percentage', axis=0, ascending=True, inplace=True, kind='quicksort', na_position='last')\n",
    "sns.barplot(df.Class, df.Percentage)\n",
    "plt.xticks(rotation=90)"
   ]
  },
  {
   "cell_type": "markdown",
   "metadata": {},
   "source": [
    "We used both the data frame (with Class, unique value amount and percentage) and the graph to perform features selections and dimensionality reduction. We will only comment on the features change for the rest on the notebook and not show the graph and data frame anymore to avoid making it too long."
   ]
  },
  {
   "cell_type": "markdown",
   "metadata": {},
   "source": [
    "we dropped 3 features because:\n",
    "- 1) “subvillage” has to many class so we wanted to avoid adding noise to the data\n",
    "- 2) “recorded_by” has only 1 class, so it can be dropped\n",
    "- 3) “num_private” do not add any valuable information to the analysis\n"
   ]
  },
  {
   "cell_type": "code",
   "execution_count": 110,
   "metadata": {
    "collapsed": true
   },
   "outputs": [],
   "source": [
    "features.drop(\"subvillage\", inplace = True, axis = 1) # not relevant\n",
    "features.drop(\"num_private\", inplace = True, axis = 1) # not relevant\n",
    "features.drop(\"recorded_by\", inplace = True, axis = 1) #only one values so it can be deleted"
   ]
  },
  {
   "cell_type": "markdown",
   "metadata": {},
   "source": [
    "#### Dimensionality reduction <br>\n",
    "We tried using PCA and LDA to reduce dimension of our data, however the impact of either PCA or LDA was not significant on our base model, therefore we use a more \"manual\" approach, where we group the features by threshold. <br>\n",
    "\n",
    "**We know that by doing that we do not take into consideration any interaction between features when applying some dimensionality reduction, since we reduce each feature one by one. However, that method gave us our best accuracy score. **\n"
   ]
  },
  {
   "cell_type": "markdown",
   "metadata": {},
   "source": [
    "Group into one class all the unique values for “funder”, “installer”, “wpt_name”, “scheme_name”."
   ]
  },
  {
   "cell_type": "code",
   "execution_count": 111,
   "metadata": {},
   "outputs": [
    {
     "name": "stdout",
     "output_type": "stream",
     "text": [
      "REPACEMENT DONE WITH A THRESHOLD OF 1\n"
     ]
    }
   ],
   "source": [
    "df = serie_understanding('funder')\n",
    "replacement(1, 'funder')"
   ]
  },
  {
   "cell_type": "code",
   "execution_count": 112,
   "metadata": {},
   "outputs": [
    {
     "name": "stdout",
     "output_type": "stream",
     "text": [
      "REPACEMENT DONE WITH A THRESHOLD OF 1\n"
     ]
    }
   ],
   "source": [
    "df = serie_understanding('installer')\n",
    "replacement(1, 'installer')"
   ]
  },
  {
   "cell_type": "code",
   "execution_count": 113,
   "metadata": {},
   "outputs": [
    {
     "name": "stdout",
     "output_type": "stream",
     "text": [
      "REPACEMENT DONE WITH A THRESHOLD OF 1\n"
     ]
    }
   ],
   "source": [
    "df = serie_understanding('wpt_name')\n",
    "replacement(1, 'wpt_name')"
   ]
  },
  {
   "cell_type": "code",
   "execution_count": 114,
   "metadata": {},
   "outputs": [
    {
     "name": "stdout",
     "output_type": "stream",
     "text": [
      "REPACEMENT DONE WITH A THRESHOLD OF 1\n"
     ]
    }
   ],
   "source": [
    "df = serie_understanding('scheme_name') # keep ward as it is\n",
    "replacement(1, 'scheme_name')"
   ]
  },
  {
   "cell_type": "markdown",
   "metadata": {},
   "source": [
    "#### Changing features types<br>\n",
    "“Region_code” and “district_code” should be categorical rather that numerical\n"
   ]
  },
  {
   "cell_type": "code",
   "execution_count": 115,
   "metadata": {
    "collapsed": true
   },
   "outputs": [],
   "source": [
    "features['region_code'] = features['region_code'].astype(str) #changing type for region_code\n",
    "features['district_code'] = features['district_code'].astype(str) #changing type for district_code\n"
   ]
  },
  {
   "cell_type": "markdown",
   "metadata": {},
   "source": [
    "**For the remaining features we did not perform any features selection or dimensionality reduction**"
   ]
  },
  {
   "cell_type": "markdown",
   "metadata": {},
   "source": [
    "#### Reducing scale from numerical variable<br>\n",
    "We applied MinMaxscaler to reduce the scale of the numerical features"
   ]
  },
  {
   "cell_type": "code",
   "execution_count": 116,
   "metadata": {
    "collapsed": true
   },
   "outputs": [],
   "source": [
    "from sklearn.preprocessing import MinMaxScaler\n",
    "min_max_scaler = MinMaxScaler()\n",
    "\n",
    "features_ti = ['amount_tsh', 'gps_height', 'longitude', 'latitude', 'population','construction_year' ]\n",
    "for i in features_ti:\n",
    "    min_max_scaler.fit_transform(features[i].reshape(-1,1))\n"
   ]
  },
  {
   "cell_type": "markdown",
   "metadata": {},
   "source": [
    "#### Label Encoder<br>\n",
    "We used Label Encoder over One Hot Encoder for dummy creation because we still have our features containing a lot of dimensions (levels)."
   ]
  },
  {
   "cell_type": "code",
   "execution_count": 117,
   "metadata": {},
   "outputs": [
    {
     "name": "stdout",
     "output_type": "stream",
     "text": [
      "Shape all_data: (74250, 36)\n"
     ]
    }
   ],
   "source": [
    "from sklearn.preprocessing import LabelEncoder\n",
    "features_to = ['date_recorded', 'funder', 'installer', 'wpt_name', 'basin', 'region','region_code', 'district_code','lga',\n",
    "              'ward', 'public_meeting', 'scheme_management', 'scheme_name', 'permit', 'extraction_type',\n",
    "              'extraction_type_group', 'extraction_type_group', 'extraction_type_class', 'management', 'management_group', 'payment',\n",
    "              'payment_type', 'water_quality', 'quality_group', 'quantity', 'quantity_group', 'source','source_type', 'source_class',\n",
    "              'waterpoint_type', 'waterpoint_type_group']\n",
    "\n",
    "# process columns, apply LabelEncoder to categorical features\n",
    "cols = features_to\n",
    "for c in cols:\n",
    "    lbl = LabelEncoder() \n",
    "    lbl.fit(list(features[c].values)) \n",
    "    features[c] = lbl.transform(list(features[c].values))\n",
    "\n",
    "# shape        \n",
    "print('Shape all_data: {}'.format(features.shape))\n"
   ]
  },
  {
   "cell_type": "markdown",
   "metadata": {},
   "source": [
    "#### Spliting Features into Training (X) and Testing"
   ]
  },
  {
   "cell_type": "code",
   "execution_count": 118,
   "metadata": {
    "collapsed": true
   },
   "outputs": [],
   "source": [
    "X = features.iloc[:len(training),:]\n",
    "testing_features = features.iloc[len(training):,:]"
   ]
  },
  {
   "cell_type": "markdown",
   "metadata": {
    "collapsed": true
   },
   "source": [
    "### Modelling"
   ]
  },
  {
   "cell_type": "markdown",
   "metadata": {},
   "source": [
    "#### Importing Modelling Librarbies"
   ]
  },
  {
   "cell_type": "code",
   "execution_count": 119,
   "metadata": {
    "collapsed": true
   },
   "outputs": [],
   "source": [
    "#model selection:\n",
    "from sklearn.model_selection import StratifiedKFold, cross_val_score, GridSearchCV,RandomizedSearchCV\n",
    "\n",
    "#models\n",
    "from sklearn.ensemble import RandomForestClassifier, AdaBoostClassifier, VotingClassifier, GradientBoostingClassifier\n",
    "from xgboost import XGBClassifier\n",
    "from sklearn.svm import SVC\n",
    "from lightgbm import LGBMClassifier\n",
    "\n",
    "#discriminant\n",
    "from sklearn.discriminant_analysis import LinearDiscriminantAnalysis\n",
    "#Evaluation\n",
    "from sklearn.metrics import accuracy_score\n",
    "\n",
    "#Hide Warning\n",
    "#import warnings\n",
    "#warnings.filterwarnings('ignore')"
   ]
  },
  {
   "cell_type": "markdown",
   "metadata": {
    "collapsed": true
   },
   "source": [
    "#### Cross validation strategy.<br>\n",
    "As mentionned earlier in the note book we will used StratifiedKFold over KFold."
   ]
  },
  {
   "cell_type": "code",
   "execution_count": 120,
   "metadata": {
    "collapsed": true
   },
   "outputs": [],
   "source": [
    "#cross validation\n",
    "kfold = StratifiedKFold(n_splits=7, random_state=42, shuffle=True)"
   ]
  },
  {
   "cell_type": "markdown",
   "metadata": {},
   "source": [
    "#### Base Model <br>\n",
    "Since it is a classification problem we choose as a base model: RandomForestClassifier"
   ]
  },
  {
   "cell_type": "code",
   "execution_count": 137,
   "metadata": {
    "collapsed": true
   },
   "outputs": [],
   "source": [
    "\n",
    "rf = RandomForestClassifier()\n",
    "clf = rf.fit(X, y) "
   ]
  },
  {
   "cell_type": "code",
   "execution_count": 138,
   "metadata": {},
   "outputs": [
    {
     "name": "stdout",
     "output_type": "stream",
     "text": [
      "Base line model: Random Forest average score: 80.03874502833774\n"
     ]
    }
   ],
   "source": [
    "cross_val =  cross_val_score(clf, X, y, scoring='accuracy', cv = kfold)\n",
    "print(\"Base line model: Random Forest average score:\",cross_val.mean()*100)"
   ]
  },
  {
   "cell_type": "markdown",
   "metadata": {},
   "source": [
    "After having a descent base model score, we tried different models with different parameters. To find the optimal parameters we used Gridsearch.<br>\n",
    "**we will not show all the models trials**, however our best single model **Out of Sample results** was 80% using Random Forest Classifier with best parameters.\n"
   ]
  },
  {
   "cell_type": "markdown",
   "metadata": {},
   "source": [
    "#### All the Models (with best paramters) <br>\n",
    "we did not used SVM because of the number of levels per feature - even the simple SVM was taking too long to converge. We also tried with CatBoost, but it seems that CatBoost is facing some implementation issue in python, so we were not able to use it."
   ]
  },
  {
   "cell_type": "code",
   "execution_count": 30,
   "metadata": {
    "collapsed": true
   },
   "outputs": [],
   "source": [
    "#RANDOM FOREST\n",
    "rf = RandomForestClassifier(bootstrap=True, class_weight=None, criterion='gini',\n",
    "            max_depth=None, max_features='auto', max_leaf_nodes=None,\n",
    "            min_impurity_decrease=0.0, min_impurity_split=None,\n",
    "            min_samples_leaf=2, min_samples_split=2,\n",
    "            min_weight_fraction_leaf=0.0, n_estimators=500, n_jobs=1,\n",
    "            oob_score=False, random_state=42, verbose=0,\n",
    "            warm_start=False)\n",
    "\n",
    "#XBBOOST\n",
    "xgb = XGBClassifier(base_score=0.5, booster='gbtree', colsample_bylevel=1,\n",
    "       colsample_bytree=1, gamma=0, learning_rate=0.4, max_delta_step=0,\n",
    "       max_depth=3, min_child_weight=1, missing=None, n_estimators=1000,\n",
    "       n_jobs=1, nthread=None, objective='multi:softprob', random_state=0,\n",
    "       reg_alpha=0, reg_lambda=1, scale_pos_weight=1, seed=None,\n",
    "       silent=True, subsample=1)\n",
    "\n",
    "#ADABOOST\n",
    "ada = AdaBoostClassifier(algorithm='SAMME.R', base_estimator=None,\n",
    "          learning_rate=0.8, n_estimators=1000, random_state=None)\n",
    "\n",
    "#LIGHTGBM\n",
    "gbm = LGBMClassifier(boosting_type='gbdt', class_weight=None, colsample_bytree=1.0,\n",
    "        learning_rate=0.3, max_depth=-1, min_child_samples=20,\n",
    "        min_child_weight=0.001, min_split_gain=0.0, n_estimators=300,\n",
    "        n_jobs=-1, num_leaves=40, objective='binary', random_state=None,\n",
    "        reg_alpha=0.0, reg_lambda=0.0, silent=True, subsample=1.0,\n",
    "        subsample_for_bin=200000, subsample_freq=1)\n",
    "\n",
    "#Gradient Boosting Classifier\n",
    "gbc = GradientBoostingClassifier(criterion='friedman_mse', init=None,\n",
    "              learning_rate=0.6, loss='deviance', max_depth=6,\n",
    "              max_features=None, max_leaf_nodes=None,\n",
    "              min_impurity_decrease=0.0, min_impurity_split=None,\n",
    "              min_samples_leaf=1, min_samples_split=2,\n",
    "              min_weight_fraction_leaf=0.0, n_estimators=1000,\n",
    "              presort='auto', random_state=None, subsample=1.0, verbose=0,\n",
    "              warm_start=False)\n"
   ]
  },
  {
   "cell_type": "markdown",
   "metadata": {},
   "source": [
    "#### Element Ensemble <br>\n",
    "Improving our best single results we used soft Voting Classifier to create an element Ensemble."
   ]
  },
  {
   "cell_type": "code",
   "execution_count": 31,
   "metadata": {
    "scrolled": true
   },
   "outputs": [
    {
     "name": "stderr",
     "output_type": "stream",
     "text": [
      "C:\\Users\\User\\Anaconda3\\lib\\site-packages\\sklearn\\model_selection\\_validation.py:458: DataConversionWarning: A column-vector y was passed when a 1d array was expected. Please change the shape of y to (n_samples,), for example using ravel().\n",
      "  estimator.fit(X_train, y_train, **fit_params)\n",
      "C:\\Users\\User\\Anaconda3\\lib\\site-packages\\sklearn\\model_selection\\_validation.py:458: DataConversionWarning: A column-vector y was passed when a 1d array was expected. Please change the shape of y to (n_samples,), for example using ravel().\n",
      "  estimator.fit(X_train, y_train, **fit_params)\n",
      "C:\\Users\\User\\Anaconda3\\lib\\site-packages\\sklearn\\model_selection\\_validation.py:458: DataConversionWarning: A column-vector y was passed when a 1d array was expected. Please change the shape of y to (n_samples,), for example using ravel().\n",
      "  estimator.fit(X_train, y_train, **fit_params)\n",
      "C:\\Users\\User\\Anaconda3\\lib\\site-packages\\sklearn\\model_selection\\_validation.py:458: DataConversionWarning: A column-vector y was passed when a 1d array was expected. Please change the shape of y to (n_samples,), for example using ravel().\n",
      "  estimator.fit(X_train, y_train, **fit_params)\n",
      "C:\\Users\\User\\Anaconda3\\lib\\site-packages\\sklearn\\model_selection\\_validation.py:458: DataConversionWarning: A column-vector y was passed when a 1d array was expected. Please change the shape of y to (n_samples,), for example using ravel().\n",
      "  estimator.fit(X_train, y_train, **fit_params)\n"
     ]
    },
    {
     "name": "stdout",
     "output_type": "stream",
     "text": [
      "Accuracy: 0.82 (+/- 0.00) [Random Forest]\n"
     ]
    },
    {
     "name": "stderr",
     "output_type": "stream",
     "text": [
      "C:\\Users\\User\\Anaconda3\\lib\\site-packages\\sklearn\\preprocessing\\label.py:95: DataConversionWarning: A column-vector y was passed when a 1d array was expected. Please change the shape of y to (n_samples, ), for example using ravel().\n",
      "  y = column_or_1d(y, warn=True)\n",
      "C:\\Users\\User\\Anaconda3\\lib\\site-packages\\sklearn\\preprocessing\\label.py:128: DataConversionWarning: A column-vector y was passed when a 1d array was expected. Please change the shape of y to (n_samples, ), for example using ravel().\n",
      "  y = column_or_1d(y, warn=True)\n",
      "C:\\Users\\User\\Anaconda3\\lib\\site-packages\\sklearn\\preprocessing\\label.py:151: DeprecationWarning: The truth value of an empty array is ambiguous. Returning False, but in future this will result in an error. Use `array.size > 0` to check that an array is not empty.\n",
      "  if diff:\n",
      "C:\\Users\\User\\Anaconda3\\lib\\site-packages\\sklearn\\preprocessing\\label.py:95: DataConversionWarning: A column-vector y was passed when a 1d array was expected. Please change the shape of y to (n_samples, ), for example using ravel().\n",
      "  y = column_or_1d(y, warn=True)\n",
      "C:\\Users\\User\\Anaconda3\\lib\\site-packages\\sklearn\\preprocessing\\label.py:128: DataConversionWarning: A column-vector y was passed when a 1d array was expected. Please change the shape of y to (n_samples, ), for example using ravel().\n",
      "  y = column_or_1d(y, warn=True)\n",
      "C:\\Users\\User\\Anaconda3\\lib\\site-packages\\sklearn\\preprocessing\\label.py:151: DeprecationWarning: The truth value of an empty array is ambiguous. Returning False, but in future this will result in an error. Use `array.size > 0` to check that an array is not empty.\n",
      "  if diff:\n",
      "C:\\Users\\User\\Anaconda3\\lib\\site-packages\\sklearn\\preprocessing\\label.py:95: DataConversionWarning: A column-vector y was passed when a 1d array was expected. Please change the shape of y to (n_samples, ), for example using ravel().\n",
      "  y = column_or_1d(y, warn=True)\n",
      "C:\\Users\\User\\Anaconda3\\lib\\site-packages\\sklearn\\preprocessing\\label.py:128: DataConversionWarning: A column-vector y was passed when a 1d array was expected. Please change the shape of y to (n_samples, ), for example using ravel().\n",
      "  y = column_or_1d(y, warn=True)\n",
      "C:\\Users\\User\\Anaconda3\\lib\\site-packages\\sklearn\\preprocessing\\label.py:151: DeprecationWarning: The truth value of an empty array is ambiguous. Returning False, but in future this will result in an error. Use `array.size > 0` to check that an array is not empty.\n",
      "  if diff:\n",
      "C:\\Users\\User\\Anaconda3\\lib\\site-packages\\sklearn\\preprocessing\\label.py:95: DataConversionWarning: A column-vector y was passed when a 1d array was expected. Please change the shape of y to (n_samples, ), for example using ravel().\n",
      "  y = column_or_1d(y, warn=True)\n",
      "C:\\Users\\User\\Anaconda3\\lib\\site-packages\\sklearn\\preprocessing\\label.py:128: DataConversionWarning: A column-vector y was passed when a 1d array was expected. Please change the shape of y to (n_samples, ), for example using ravel().\n",
      "  y = column_or_1d(y, warn=True)\n",
      "C:\\Users\\User\\Anaconda3\\lib\\site-packages\\sklearn\\preprocessing\\label.py:151: DeprecationWarning: The truth value of an empty array is ambiguous. Returning False, but in future this will result in an error. Use `array.size > 0` to check that an array is not empty.\n",
      "  if diff:\n",
      "C:\\Users\\User\\Anaconda3\\lib\\site-packages\\sklearn\\preprocessing\\label.py:95: DataConversionWarning: A column-vector y was passed when a 1d array was expected. Please change the shape of y to (n_samples, ), for example using ravel().\n",
      "  y = column_or_1d(y, warn=True)\n",
      "C:\\Users\\User\\Anaconda3\\lib\\site-packages\\sklearn\\preprocessing\\label.py:128: DataConversionWarning: A column-vector y was passed when a 1d array was expected. Please change the shape of y to (n_samples, ), for example using ravel().\n",
      "  y = column_or_1d(y, warn=True)\n",
      "C:\\Users\\User\\Anaconda3\\lib\\site-packages\\sklearn\\preprocessing\\label.py:151: DeprecationWarning: The truth value of an empty array is ambiguous. Returning False, but in future this will result in an error. Use `array.size > 0` to check that an array is not empty.\n",
      "  if diff:\n"
     ]
    },
    {
     "name": "stdout",
     "output_type": "stream",
     "text": [
      "Accuracy: 0.80 (+/- 0.00) [XGBoost]\n"
     ]
    },
    {
     "name": "stderr",
     "output_type": "stream",
     "text": [
      "C:\\Users\\User\\Anaconda3\\lib\\site-packages\\sklearn\\utils\\validation.py:578: DataConversionWarning: A column-vector y was passed when a 1d array was expected. Please change the shape of y to (n_samples, ), for example using ravel().\n",
      "  y = column_or_1d(y, warn=True)\n",
      "C:\\Users\\User\\Anaconda3\\lib\\site-packages\\sklearn\\utils\\validation.py:578: DataConversionWarning: A column-vector y was passed when a 1d array was expected. Please change the shape of y to (n_samples, ), for example using ravel().\n",
      "  y = column_or_1d(y, warn=True)\n",
      "C:\\Users\\User\\Anaconda3\\lib\\site-packages\\sklearn\\utils\\validation.py:578: DataConversionWarning: A column-vector y was passed when a 1d array was expected. Please change the shape of y to (n_samples, ), for example using ravel().\n",
      "  y = column_or_1d(y, warn=True)\n",
      "C:\\Users\\User\\Anaconda3\\lib\\site-packages\\sklearn\\utils\\validation.py:578: DataConversionWarning: A column-vector y was passed when a 1d array was expected. Please change the shape of y to (n_samples, ), for example using ravel().\n",
      "  y = column_or_1d(y, warn=True)\n",
      "C:\\Users\\User\\Anaconda3\\lib\\site-packages\\sklearn\\utils\\validation.py:578: DataConversionWarning: A column-vector y was passed when a 1d array was expected. Please change the shape of y to (n_samples, ), for example using ravel().\n",
      "  y = column_or_1d(y, warn=True)\n"
     ]
    },
    {
     "name": "stdout",
     "output_type": "stream",
     "text": [
      "Accuracy: 0.75 (+/- 0.00) [Ada Boost]\n"
     ]
    },
    {
     "name": "stderr",
     "output_type": "stream",
     "text": [
      "C:\\Users\\User\\Anaconda3\\lib\\site-packages\\sklearn\\preprocessing\\label.py:95: DataConversionWarning: A column-vector y was passed when a 1d array was expected. Please change the shape of y to (n_samples, ), for example using ravel().\n",
      "  y = column_or_1d(y, warn=True)\n",
      "C:\\Users\\User\\Anaconda3\\lib\\site-packages\\sklearn\\preprocessing\\label.py:128: DataConversionWarning: A column-vector y was passed when a 1d array was expected. Please change the shape of y to (n_samples, ), for example using ravel().\n",
      "  y = column_or_1d(y, warn=True)\n",
      "C:\\Users\\User\\Anaconda3\\lib\\site-packages\\sklearn\\preprocessing\\label.py:151: DeprecationWarning: The truth value of an empty array is ambiguous. Returning False, but in future this will result in an error. Use `array.size > 0` to check that an array is not empty.\n",
      "  if diff:\n",
      "C:\\Users\\User\\Anaconda3\\lib\\site-packages\\sklearn\\preprocessing\\label.py:95: DataConversionWarning: A column-vector y was passed when a 1d array was expected. Please change the shape of y to (n_samples, ), for example using ravel().\n",
      "  y = column_or_1d(y, warn=True)\n",
      "C:\\Users\\User\\Anaconda3\\lib\\site-packages\\sklearn\\preprocessing\\label.py:128: DataConversionWarning: A column-vector y was passed when a 1d array was expected. Please change the shape of y to (n_samples, ), for example using ravel().\n",
      "  y = column_or_1d(y, warn=True)\n",
      "C:\\Users\\User\\Anaconda3\\lib\\site-packages\\sklearn\\preprocessing\\label.py:151: DeprecationWarning: The truth value of an empty array is ambiguous. Returning False, but in future this will result in an error. Use `array.size > 0` to check that an array is not empty.\n",
      "  if diff:\n",
      "C:\\Users\\User\\Anaconda3\\lib\\site-packages\\sklearn\\preprocessing\\label.py:95: DataConversionWarning: A column-vector y was passed when a 1d array was expected. Please change the shape of y to (n_samples, ), for example using ravel().\n",
      "  y = column_or_1d(y, warn=True)\n",
      "C:\\Users\\User\\Anaconda3\\lib\\site-packages\\sklearn\\preprocessing\\label.py:128: DataConversionWarning: A column-vector y was passed when a 1d array was expected. Please change the shape of y to (n_samples, ), for example using ravel().\n",
      "  y = column_or_1d(y, warn=True)\n",
      "C:\\Users\\User\\Anaconda3\\lib\\site-packages\\sklearn\\preprocessing\\label.py:151: DeprecationWarning: The truth value of an empty array is ambiguous. Returning False, but in future this will result in an error. Use `array.size > 0` to check that an array is not empty.\n",
      "  if diff:\n",
      "C:\\Users\\User\\Anaconda3\\lib\\site-packages\\sklearn\\preprocessing\\label.py:95: DataConversionWarning: A column-vector y was passed when a 1d array was expected. Please change the shape of y to (n_samples, ), for example using ravel().\n",
      "  y = column_or_1d(y, warn=True)\n",
      "C:\\Users\\User\\Anaconda3\\lib\\site-packages\\sklearn\\preprocessing\\label.py:128: DataConversionWarning: A column-vector y was passed when a 1d array was expected. Please change the shape of y to (n_samples, ), for example using ravel().\n",
      "  y = column_or_1d(y, warn=True)\n",
      "C:\\Users\\User\\Anaconda3\\lib\\site-packages\\sklearn\\preprocessing\\label.py:151: DeprecationWarning: The truth value of an empty array is ambiguous. Returning False, but in future this will result in an error. Use `array.size > 0` to check that an array is not empty.\n",
      "  if diff:\n",
      "C:\\Users\\User\\Anaconda3\\lib\\site-packages\\sklearn\\preprocessing\\label.py:95: DataConversionWarning: A column-vector y was passed when a 1d array was expected. Please change the shape of y to (n_samples, ), for example using ravel().\n",
      "  y = column_or_1d(y, warn=True)\n",
      "C:\\Users\\User\\Anaconda3\\lib\\site-packages\\sklearn\\preprocessing\\label.py:128: DataConversionWarning: A column-vector y was passed when a 1d array was expected. Please change the shape of y to (n_samples, ), for example using ravel().\n",
      "  y = column_or_1d(y, warn=True)\n",
      "C:\\Users\\User\\Anaconda3\\lib\\site-packages\\sklearn\\preprocessing\\label.py:151: DeprecationWarning: The truth value of an empty array is ambiguous. Returning False, but in future this will result in an error. Use `array.size > 0` to check that an array is not empty.\n",
      "  if diff:\n"
     ]
    },
    {
     "name": "stdout",
     "output_type": "stream",
     "text": [
      "Accuracy: 0.81 (+/- 0.00) [Light GBM]\n"
     ]
    },
    {
     "name": "stderr",
     "output_type": "stream",
     "text": [
      "C:\\Users\\User\\Anaconda3\\lib\\site-packages\\sklearn\\utils\\validation.py:578: DataConversionWarning: A column-vector y was passed when a 1d array was expected. Please change the shape of y to (n_samples, ), for example using ravel().\n",
      "  y = column_or_1d(y, warn=True)\n",
      "C:\\Users\\User\\Anaconda3\\lib\\site-packages\\sklearn\\utils\\validation.py:578: DataConversionWarning: A column-vector y was passed when a 1d array was expected. Please change the shape of y to (n_samples, ), for example using ravel().\n",
      "  y = column_or_1d(y, warn=True)\n",
      "C:\\Users\\User\\Anaconda3\\lib\\site-packages\\sklearn\\utils\\validation.py:578: DataConversionWarning: A column-vector y was passed when a 1d array was expected. Please change the shape of y to (n_samples, ), for example using ravel().\n",
      "  y = column_or_1d(y, warn=True)\n",
      "C:\\Users\\User\\Anaconda3\\lib\\site-packages\\sklearn\\utils\\validation.py:578: DataConversionWarning: A column-vector y was passed when a 1d array was expected. Please change the shape of y to (n_samples, ), for example using ravel().\n",
      "  y = column_or_1d(y, warn=True)\n",
      "C:\\Users\\User\\Anaconda3\\lib\\site-packages\\sklearn\\utils\\validation.py:578: DataConversionWarning: A column-vector y was passed when a 1d array was expected. Please change the shape of y to (n_samples, ), for example using ravel().\n",
      "  y = column_or_1d(y, warn=True)\n"
     ]
    },
    {
     "name": "stdout",
     "output_type": "stream",
     "text": [
      "Accuracy: 0.80 (+/- 0.00) [Gradient Boosting]\n"
     ]
    },
    {
     "name": "stderr",
     "output_type": "stream",
     "text": [
      "C:\\Users\\User\\Anaconda3\\lib\\site-packages\\sklearn\\preprocessing\\label.py:95: DataConversionWarning: A column-vector y was passed when a 1d array was expected. Please change the shape of y to (n_samples, ), for example using ravel().\n",
      "  y = column_or_1d(y, warn=True)\n",
      "C:\\Users\\User\\Anaconda3\\lib\\site-packages\\sklearn\\preprocessing\\label.py:128: DataConversionWarning: A column-vector y was passed when a 1d array was expected. Please change the shape of y to (n_samples, ), for example using ravel().\n",
      "  y = column_or_1d(y, warn=True)\n",
      "C:\\Users\\User\\Anaconda3\\lib\\site-packages\\sklearn\\preprocessing\\label.py:151: DeprecationWarning: The truth value of an empty array is ambiguous. Returning False, but in future this will result in an error. Use `array.size > 0` to check that an array is not empty.\n",
      "  if diff:\n",
      "C:\\Users\\User\\Anaconda3\\lib\\site-packages\\sklearn\\preprocessing\\label.py:95: DataConversionWarning: A column-vector y was passed when a 1d array was expected. Please change the shape of y to (n_samples, ), for example using ravel().\n",
      "  y = column_or_1d(y, warn=True)\n",
      "C:\\Users\\User\\Anaconda3\\lib\\site-packages\\sklearn\\preprocessing\\label.py:128: DataConversionWarning: A column-vector y was passed when a 1d array was expected. Please change the shape of y to (n_samples, ), for example using ravel().\n",
      "  y = column_or_1d(y, warn=True)\n",
      "C:\\Users\\User\\Anaconda3\\lib\\site-packages\\sklearn\\preprocessing\\label.py:151: DeprecationWarning: The truth value of an empty array is ambiguous. Returning False, but in future this will result in an error. Use `array.size > 0` to check that an array is not empty.\n",
      "  if diff:\n",
      "C:\\Users\\User\\Anaconda3\\lib\\site-packages\\sklearn\\preprocessing\\label.py:95: DataConversionWarning: A column-vector y was passed when a 1d array was expected. Please change the shape of y to (n_samples, ), for example using ravel().\n",
      "  y = column_or_1d(y, warn=True)\n",
      "C:\\Users\\User\\Anaconda3\\lib\\site-packages\\sklearn\\preprocessing\\label.py:128: DataConversionWarning: A column-vector y was passed when a 1d array was expected. Please change the shape of y to (n_samples, ), for example using ravel().\n",
      "  y = column_or_1d(y, warn=True)\n",
      "C:\\Users\\User\\Anaconda3\\lib\\site-packages\\sklearn\\preprocessing\\label.py:151: DeprecationWarning: The truth value of an empty array is ambiguous. Returning False, but in future this will result in an error. Use `array.size > 0` to check that an array is not empty.\n",
      "  if diff:\n",
      "C:\\Users\\User\\Anaconda3\\lib\\site-packages\\sklearn\\preprocessing\\label.py:95: DataConversionWarning: A column-vector y was passed when a 1d array was expected. Please change the shape of y to (n_samples, ), for example using ravel().\n",
      "  y = column_or_1d(y, warn=True)\n",
      "C:\\Users\\User\\Anaconda3\\lib\\site-packages\\sklearn\\preprocessing\\label.py:128: DataConversionWarning: A column-vector y was passed when a 1d array was expected. Please change the shape of y to (n_samples, ), for example using ravel().\n",
      "  y = column_or_1d(y, warn=True)\n",
      "C:\\Users\\User\\Anaconda3\\lib\\site-packages\\sklearn\\preprocessing\\label.py:151: DeprecationWarning: The truth value of an empty array is ambiguous. Returning False, but in future this will result in an error. Use `array.size > 0` to check that an array is not empty.\n",
      "  if diff:\n",
      "C:\\Users\\User\\Anaconda3\\lib\\site-packages\\sklearn\\preprocessing\\label.py:95: DataConversionWarning: A column-vector y was passed when a 1d array was expected. Please change the shape of y to (n_samples, ), for example using ravel().\n",
      "  y = column_or_1d(y, warn=True)\n",
      "C:\\Users\\User\\Anaconda3\\lib\\site-packages\\sklearn\\preprocessing\\label.py:128: DataConversionWarning: A column-vector y was passed when a 1d array was expected. Please change the shape of y to (n_samples, ), for example using ravel().\n",
      "  y = column_or_1d(y, warn=True)\n"
     ]
    },
    {
     "name": "stdout",
     "output_type": "stream",
     "text": [
      "Accuracy: 0.81 (+/- 0.00) [Ensemble]\n"
     ]
    },
    {
     "name": "stderr",
     "output_type": "stream",
     "text": [
      "C:\\Users\\User\\Anaconda3\\lib\\site-packages\\sklearn\\preprocessing\\label.py:151: DeprecationWarning: The truth value of an empty array is ambiguous. Returning False, but in future this will result in an error. Use `array.size > 0` to check that an array is not empty.\n",
      "  if diff:\n"
     ]
    }
   ],
   "source": [
    "VC = VotingClassifier(estimators=[('rf', rf), ('xgb', xgb), ('ada', ada), ('gnm', gbm), ('gbc', gbc)], voting='soft')\n",
    "\n",
    "for clf, label in zip([rf, xgb, ada, gbm,gbc, VC], ['Random Forest','XGBoost','Ada Boost', 'Light GBM', 'Gradient Boosting', 'Ensemble']):\n",
    "    scores = cross_val_score(clf, X, y, cv=5, scoring='accuracy')\n",
    "    print(\"Accuracy: %0.2f (+/- %0.2f) [%s]\" % (scores.mean(), scores.std(), label))"
   ]
  },
  {
   "cell_type": "markdown",
   "metadata": {},
   "source": [
    "We realized that some of our model where lowering down the score of our Ensemble model, therefore we only use the Random Forest with Light GBM for our final prediction - which gave us our best score."
   ]
  },
  {
   "cell_type": "markdown",
   "metadata": {},
   "source": [
    "#### Best element ensemble"
   ]
  },
  {
   "cell_type": "code",
   "execution_count": 130,
   "metadata": {
    "collapsed": true
   },
   "outputs": [],
   "source": [
    "VC = VotingClassifier(estimators=[('rf', rf),('gnm', gbm)], voting='soft')"
   ]
  },
  {
   "cell_type": "markdown",
   "metadata": {},
   "source": [
    "### Prediction"
   ]
  },
  {
   "cell_type": "code",
   "execution_count": 131,
   "metadata": {
    "collapsed": true
   },
   "outputs": [],
   "source": [
    "prediction = VC.fit(X,y).predict(testing_features)"
   ]
  },
  {
   "cell_type": "code",
   "execution_count": 133,
   "metadata": {
    "collapsed": true
   },
   "outputs": [],
   "source": [
    "submission = pd.DataFrame()\n",
    "submission['id'] = test_id\n",
    "submission['status_group'] = prediction\n",
    "\n",
    "submission.to_csv(\"Final_score2\",index = False)"
   ]
  },
  {
   "cell_type": "markdown",
   "metadata": {},
   "source": [
    "### Conclusion\n",
    "#### Interpretation <br>\n",
    "To try to improve our best single results we used soft Voting Classifier to create an element Ensemble. We use a *soft* voting method which predicts the class label based on the argmax of the sums of the predicted probability. <br>\n",
    "As such, it is actually not simple to interpret our final model. The only thing we found to interpret is to look at the feature importance for both random forest and lightgbm. <br>\n",
    "Below, we printed to top 10 most \"important\" features for both models separately. We notice that they share 8 out of the top 10 in both cases. We can say that the following are the most important features of our model: Longitute, lattitute, gps_height, date_recorded, wpt_name, construction, ward and population. <br>\n",
    "Note: The feature_importances_ is an estimate to what fraction of the input samples' classification a feature contributes to.<br>\n",
    "1.0 would mean you have a feature that alone classifies all samples, 0.0 would indicate a feature that can add no (additional) value for classification in the case of random forest.\n"
   ]
  },
  {
   "cell_type": "markdown",
   "metadata": {},
   "source": [
    "#### Further improvement \n",
    "\n",
    "we could have used external data sources to impute some missing values based on the geolocation coordinate – we could also have used Autoencoder Neural Network to reduce the dimensions of the data set, it might have performed better that PCA because it would have capture non-linear dependencies between the features (PCA only captures linear dependencies). "
   ]
  },
  {
   "cell_type": "code",
   "execution_count": 124,
   "metadata": {},
   "outputs": [
    {
     "data": {
      "text/html": [
       "<div>\n",
       "<style scoped>\n",
       "    .dataframe tbody tr th:only-of-type {\n",
       "        vertical-align: middle;\n",
       "    }\n",
       "\n",
       "    .dataframe tbody tr th {\n",
       "        vertical-align: top;\n",
       "    }\n",
       "\n",
       "    .dataframe thead th {\n",
       "        text-align: right;\n",
       "    }\n",
       "</style>\n",
       "<table border=\"1\" class=\"dataframe\">\n",
       "  <thead>\n",
       "    <tr style=\"text-align: right;\">\n",
       "      <th></th>\n",
       "      <th>Feature</th>\n",
       "      <th>Importance</th>\n",
       "    </tr>\n",
       "  </thead>\n",
       "  <tbody>\n",
       "    <tr>\n",
       "      <th>5</th>\n",
       "      <td>longitude</td>\n",
       "      <td>0.104954</td>\n",
       "    </tr>\n",
       "    <tr>\n",
       "      <th>6</th>\n",
       "      <td>latitude</td>\n",
       "      <td>0.098413</td>\n",
       "    </tr>\n",
       "    <tr>\n",
       "      <th>30</th>\n",
       "      <td>quantity_group</td>\n",
       "      <td>0.071755</td>\n",
       "    </tr>\n",
       "    <tr>\n",
       "      <th>29</th>\n",
       "      <td>quantity</td>\n",
       "      <td>0.058926</td>\n",
       "    </tr>\n",
       "    <tr>\n",
       "      <th>3</th>\n",
       "      <td>gps_height</td>\n",
       "      <td>0.050851</td>\n",
       "    </tr>\n",
       "    <tr>\n",
       "      <th>1</th>\n",
       "      <td>date_recorded</td>\n",
       "      <td>0.048012</td>\n",
       "    </tr>\n",
       "    <tr>\n",
       "      <th>7</th>\n",
       "      <td>wpt_name</td>\n",
       "      <td>0.040965</td>\n",
       "    </tr>\n",
       "    <tr>\n",
       "      <th>19</th>\n",
       "      <td>construction_year</td>\n",
       "      <td>0.038178</td>\n",
       "    </tr>\n",
       "    <tr>\n",
       "      <th>13</th>\n",
       "      <td>ward</td>\n",
       "      <td>0.036610</td>\n",
       "    </tr>\n",
       "    <tr>\n",
       "      <th>14</th>\n",
       "      <td>population</td>\n",
       "      <td>0.035528</td>\n",
       "    </tr>\n",
       "  </tbody>\n",
       "</table>\n",
       "</div>"
      ],
      "text/plain": [
       "              Feature  Importance\n",
       "5           longitude    0.104954\n",
       "6            latitude    0.098413\n",
       "30     quantity_group    0.071755\n",
       "29           quantity    0.058926\n",
       "3          gps_height    0.050851\n",
       "1       date_recorded    0.048012\n",
       "7            wpt_name    0.040965\n",
       "19  construction_year    0.038178\n",
       "13               ward    0.036610\n",
       "14         population    0.035528"
      ]
     },
     "execution_count": 124,
     "metadata": {},
     "output_type": "execute_result"
    }
   ],
   "source": [
    "df = pd.DataFrame(list(zip(X.columns.values, rf.fit(X,y).feature_importances_ )), columns = ['Feature', 'Importance']).sort_values('Importance', ascending = False)\n",
    "df.head(10)"
   ]
  },
  {
   "cell_type": "code",
   "execution_count": 129,
   "metadata": {},
   "outputs": [
    {
     "data": {
      "text/html": [
       "<div>\n",
       "<style scoped>\n",
       "    .dataframe tbody tr th:only-of-type {\n",
       "        vertical-align: middle;\n",
       "    }\n",
       "\n",
       "    .dataframe tbody tr th {\n",
       "        vertical-align: top;\n",
       "    }\n",
       "\n",
       "    .dataframe thead th {\n",
       "        text-align: right;\n",
       "    }\n",
       "</style>\n",
       "<table border=\"1\" class=\"dataframe\">\n",
       "  <thead>\n",
       "    <tr style=\"text-align: right;\">\n",
       "      <th></th>\n",
       "      <th>Feature</th>\n",
       "      <th>Importance</th>\n",
       "    </tr>\n",
       "  </thead>\n",
       "  <tbody>\n",
       "    <tr>\n",
       "      <th>3</th>\n",
       "      <td>gps_height</td>\n",
       "      <td>2884</td>\n",
       "    </tr>\n",
       "    <tr>\n",
       "      <th>6</th>\n",
       "      <td>latitude</td>\n",
       "      <td>2807</td>\n",
       "    </tr>\n",
       "    <tr>\n",
       "      <th>1</th>\n",
       "      <td>date_recorded</td>\n",
       "      <td>2789</td>\n",
       "    </tr>\n",
       "    <tr>\n",
       "      <th>13</th>\n",
       "      <td>ward</td>\n",
       "      <td>2748</td>\n",
       "    </tr>\n",
       "    <tr>\n",
       "      <th>7</th>\n",
       "      <td>wpt_name</td>\n",
       "      <td>2667</td>\n",
       "    </tr>\n",
       "    <tr>\n",
       "      <th>14</th>\n",
       "      <td>population</td>\n",
       "      <td>2633</td>\n",
       "    </tr>\n",
       "    <tr>\n",
       "      <th>5</th>\n",
       "      <td>longitude</td>\n",
       "      <td>2495</td>\n",
       "    </tr>\n",
       "    <tr>\n",
       "      <th>2</th>\n",
       "      <td>funder</td>\n",
       "      <td>1834</td>\n",
       "    </tr>\n",
       "    <tr>\n",
       "      <th>19</th>\n",
       "      <td>construction_year</td>\n",
       "      <td>1680</td>\n",
       "    </tr>\n",
       "    <tr>\n",
       "      <th>17</th>\n",
       "      <td>scheme_name</td>\n",
       "      <td>1536</td>\n",
       "    </tr>\n",
       "  </tbody>\n",
       "</table>\n",
       "</div>"
      ],
      "text/plain": [
       "              Feature  Importance\n",
       "3          gps_height        2884\n",
       "6            latitude        2807\n",
       "1       date_recorded        2789\n",
       "13               ward        2748\n",
       "7            wpt_name        2667\n",
       "14         population        2633\n",
       "5           longitude        2495\n",
       "2              funder        1834\n",
       "19  construction_year        1680\n",
       "17        scheme_name        1536"
      ]
     },
     "execution_count": 129,
     "metadata": {},
     "output_type": "execute_result"
    }
   ],
   "source": [
    "df = pd.DataFrame(list(zip(X.columns.values, gbm.fit(X,y).feature_importances_ )), columns = ['Feature', 'Importance']).sort_values('Importance', ascending = False)\n",
    "df.head(10)"
   ]
  },
  {
   "cell_type": "markdown",
   "metadata": {},
   "source": [
    "### Conclusion"
   ]
  },
  {
   "cell_type": "markdown",
   "metadata": {
    "collapsed": true
   },
   "source": [
    "### AD Hoc Finding best Parameters for algroithms - gridsearch"
   ]
  },
  {
   "cell_type": "markdown",
   "metadata": {},
   "source": [
    "Warning: all the code below takes a really long time to run<br>\n",
    "RF"
   ]
  },
  {
   "cell_type": "code",
   "execution_count": 414,
   "metadata": {},
   "outputs": [
    {
     "name": "stdout",
     "output_type": "stream",
     "text": [
      "Fitting 7 folds for each of 240 candidates, totalling 1680 fits\n"
     ]
    },
    {
     "name": "stderr",
     "output_type": "stream",
     "text": [
      "[Parallel(n_jobs=2)]: Done   1 tasks      | elapsed:   17.0s\n",
      "[Parallel(n_jobs=2)]: Done   4 tasks      | elapsed:   36.3s\n",
      "[Parallel(n_jobs=2)]: Done   9 tasks      | elapsed:  1.7min\n",
      "[Parallel(n_jobs=2)]: Done  14 tasks      | elapsed:  2.9min\n",
      "[Parallel(n_jobs=2)]: Done  21 tasks      | elapsed:  7.6min\n",
      "[Parallel(n_jobs=2)]: Done  28 tasks      | elapsed: 14.3min\n",
      "[Parallel(n_jobs=2)]: Done  37 tasks      | elapsed: 22.4min\n",
      "[Parallel(n_jobs=2)]: Done  46 tasks      | elapsed: 24.3min\n",
      "[Parallel(n_jobs=2)]: Done  57 tasks      | elapsed: 30.7min\n",
      "[Parallel(n_jobs=2)]: Done  68 tasks      | elapsed: 42.7min\n",
      "[Parallel(n_jobs=2)]: Done  81 tasks      | elapsed: 46.1min\n",
      "[Parallel(n_jobs=2)]: Done  94 tasks      | elapsed: 53.8min\n",
      "[Parallel(n_jobs=2)]: Done 109 tasks      | elapsed: 66.2min\n",
      "[Parallel(n_jobs=2)]: Done 124 tasks      | elapsed: 70.9min\n",
      "[Parallel(n_jobs=2)]: Done 141 tasks      | elapsed: 84.5min\n",
      "[Parallel(n_jobs=2)]: Done 158 tasks      | elapsed: 90.5min\n",
      "[Parallel(n_jobs=2)]: Done 177 tasks      | elapsed: 109.6min\n",
      "[Parallel(n_jobs=2)]: Done 196 tasks      | elapsed: 117.9min\n",
      "[Parallel(n_jobs=2)]: Done 217 tasks      | elapsed: 135.6min\n",
      "[Parallel(n_jobs=2)]: Done 238 tasks      | elapsed: 149.2min\n",
      "[Parallel(n_jobs=2)]: Done 261 tasks      | elapsed: 161.3min\n",
      "[Parallel(n_jobs=2)]: Done 284 tasks      | elapsed: 179.4min\n",
      "[Parallel(n_jobs=2)]: Done 309 tasks      | elapsed: 195.8min\n",
      "[Parallel(n_jobs=2)]: Done 334 tasks      | elapsed: 209.8min\n",
      "[Parallel(n_jobs=2)]: Done 361 tasks      | elapsed: 229.4min\n",
      "[Parallel(n_jobs=2)]: Done 388 tasks      | elapsed: 250.5min\n",
      "[Parallel(n_jobs=2)]: Done 417 tasks      | elapsed: 268.3min\n",
      "[Parallel(n_jobs=2)]: Done 446 tasks      | elapsed: 275.9min\n",
      "[Parallel(n_jobs=2)]: Done 477 tasks      | elapsed: 283.0min\n",
      "[Parallel(n_jobs=2)]: Done 508 tasks      | elapsed: 290.3min\n",
      "[Parallel(n_jobs=2)]: Done 541 tasks      | elapsed: 298.2min\n",
      "[Parallel(n_jobs=2)]: Done 574 tasks      | elapsed: 306.5min\n",
      "[Parallel(n_jobs=2)]: Done 609 tasks      | elapsed: 316.3min\n",
      "[Parallel(n_jobs=2)]: Done 644 tasks      | elapsed: 327.3min\n",
      "[Parallel(n_jobs=2)]: Done 681 tasks      | elapsed: 338.4min\n",
      "[Parallel(n_jobs=2)]: Done 718 tasks      | elapsed: 348.5min\n",
      "[Parallel(n_jobs=2)]: Done 757 tasks      | elapsed: 360.2min\n",
      "[Parallel(n_jobs=2)]: Done 796 tasks      | elapsed: 372.4min\n",
      "[Parallel(n_jobs=2)]: Done 837 tasks      | elapsed: 385.1min\n",
      "[Parallel(n_jobs=2)]: Done 878 tasks      | elapsed: 397.5min\n",
      "[Parallel(n_jobs=2)]: Done 921 tasks      | elapsed: 409.8min\n",
      "[Parallel(n_jobs=2)]: Done 964 tasks      | elapsed: 422.6min\n",
      "[Parallel(n_jobs=2)]: Done 1009 tasks      | elapsed: 439.1min\n",
      "[Parallel(n_jobs=2)]: Done 1054 tasks      | elapsed: 455.4min\n",
      "[Parallel(n_jobs=2)]: Done 1101 tasks      | elapsed: 469.5min\n",
      "[Parallel(n_jobs=2)]: Done 1148 tasks      | elapsed: 487.5min\n",
      "[Parallel(n_jobs=2)]: Done 1197 tasks      | elapsed: 504.6min\n",
      "[Parallel(n_jobs=2)]: Done 1246 tasks      | elapsed: 520.5min\n",
      "[Parallel(n_jobs=2)]: Done 1297 tasks      | elapsed: 542.8min\n",
      "[Parallel(n_jobs=2)]: Done 1348 tasks      | elapsed: 561.0min\n",
      "[Parallel(n_jobs=2)]: Done 1401 tasks      | elapsed: 584.5min\n",
      "[Parallel(n_jobs=2)]: Done 1454 tasks      | elapsed: 604.1min\n",
      "[Parallel(n_jobs=2)]: Done 1509 tasks      | elapsed: 631.4min\n",
      "[Parallel(n_jobs=2)]: Done 1564 tasks      | elapsed: 653.6min\n",
      "[Parallel(n_jobs=2)]: Done 1621 tasks      | elapsed: 678.7min\n",
      "[Parallel(n_jobs=2)]: Done 1680 out of 1680 | elapsed: 709.0min finished\n"
     ]
    },
    {
     "name": "stdout",
     "output_type": "stream",
     "text": [
      "best parameters:  {'max_depth': None, 'max_features': 'auto', 'min_samples_split': 2, 'n_estimators': 500, 'random_state': 42}\n",
      "0.817929743169\n"
     ]
    }
   ],
   "source": [
    "grid = {\n",
    "   'n_estimators': [100, 200, 500, 800, 1000],\n",
    "    'max_features': ['log2', 'auto', 'sqrt'],\n",
    "    'max_depth' : [None,6,8, 10],\n",
    "    \"min_samples_split\" : [2, 5, 20,50],\n",
    "    'random_state':[42]\n",
    "}\n",
    "\n",
    "\"Sklearn\"\n",
    "\"-----------------------\"\n",
    "rf_grid_search = GridSearchCV(rf, param_grid = grid, cv = kfold, verbose = 10, n_jobs = 2, pre_dispatch = '2*n_jobs')\n",
    "rf_grid_search.fit(X, y)\n",
    "print(\"best parameters: \", rf_grid_search.best_params_)\n",
    "best_rf_grid_search = rf_grid_search.best_estimator_\n",
    "best_rf_grid_search.fit(X,y)\n",
    "cross_val =  cross_val_score(best_rf_grid_search.fit(X,y), X, y, scoring='accuracy', cv = kfold)\n",
    "print(cross_val.mean())\n"
   ]
  },
  {
   "cell_type": "code",
   "execution_count": 418,
   "metadata": {},
   "outputs": [
    {
     "data": {
      "text/plain": [
       "RandomForestClassifier(bootstrap=True, class_weight=None, criterion='gini',\n",
       "            max_depth=None, max_features='auto', max_leaf_nodes=None,\n",
       "            min_impurity_decrease=0.0, min_impurity_split=None,\n",
       "            min_samples_leaf=2, min_samples_split=2,\n",
       "            min_weight_fraction_leaf=0.0, n_estimators=500, n_jobs=1,\n",
       "            oob_score=False, random_state=42, verbose=0, warm_start=False)"
      ]
     },
     "execution_count": 418,
     "metadata": {},
     "output_type": "execute_result"
    }
   ],
   "source": [
    "best_rf_grid_search"
   ]
  },
  {
   "cell_type": "code",
   "execution_count": 412,
   "metadata": {},
   "outputs": [
    {
     "name": "stdout",
     "output_type": "stream",
     "text": [
      "Fitting 7 folds for each of 32 candidates, totalling 224 fits\n"
     ]
    },
    {
     "name": "stderr",
     "output_type": "stream",
     "text": [
      "[Parallel(n_jobs=2)]: Done   1 tasks      | elapsed:  1.4min\n",
      "[Parallel(n_jobs=2)]: Done   4 tasks      | elapsed:  2.7min\n",
      "[Parallel(n_jobs=2)]: Done   9 tasks      | elapsed:  6.7min\n",
      "[Parallel(n_jobs=2)]: Done  14 tasks      | elapsed:  9.5min\n",
      "[Parallel(n_jobs=2)]: Done  21 tasks      | elapsed: 16.4min\n",
      "[Parallel(n_jobs=2)]: Done  28 tasks      | elapsed: 21.9min\n",
      "[Parallel(n_jobs=2)]: Done  37 tasks      | elapsed: 33.3min\n",
      "[Parallel(n_jobs=2)]: Done  46 tasks      | elapsed: 44.2min\n",
      "[Parallel(n_jobs=2)]: Done  57 tasks      | elapsed: 60.2min\n",
      "[Parallel(n_jobs=2)]: Done  68 tasks      | elapsed: 67.1min\n",
      "[Parallel(n_jobs=2)]: Done  81 tasks      | elapsed: 78.5min\n",
      "[Parallel(n_jobs=2)]: Done  94 tasks      | elapsed: 92.6min\n",
      "[Parallel(n_jobs=2)]: Done 109 tasks      | elapsed: 114.1min\n",
      "[Parallel(n_jobs=2)]: Done 124 tasks      | elapsed: 125.8min\n",
      "[Parallel(n_jobs=2)]: Done 141 tasks      | elapsed: 140.6min\n",
      "[Parallel(n_jobs=2)]: Done 158 tasks      | elapsed: 161.4min\n",
      "[Parallel(n_jobs=2)]: Done 177 tasks      | elapsed: 181.3min\n",
      "[Parallel(n_jobs=2)]: Done 196 tasks      | elapsed: 197.3min\n",
      "[Parallel(n_jobs=2)]: Done 217 tasks      | elapsed: 224.2min\n",
      "[Parallel(n_jobs=2)]: Done 224 out of 224 | elapsed: 233.8min finished\n"
     ]
    },
    {
     "name": "stdout",
     "output_type": "stream",
     "text": [
      "best parameters:  {'learning_rate': 0.4, 'n_estimators': 1000, 'objective': 'multi:softmax'}\n",
      "0.804023522929\n"
     ]
    }
   ],
   "source": [
    "xgb = XGBClassifier()\n",
    "grid = {\n",
    "    'n_estimators': [450, 600, 800, 1000],\n",
    "    'learning_rate': [.2, .4, .6, .8],\n",
    "    'objective':['multi:softmax', 'binary:logistic'],\n",
    "    #'min_child_weight':[1,3],\n",
    "    #'max_depth':[5,6,8],\n",
    "    \n",
    "    \n",
    "}\n",
    "\n",
    "xgb_grid_search = GridSearchCV(xgb, param_grid = grid, cv = kfold, verbose = 10, n_jobs = 2, pre_dispatch = '2*n_jobs')\n",
    "xgb_grid_search.fit(X, y)\n",
    "\n",
    "\n",
    "print(\"best parameters: \", xgb_grid_search.best_params_)\n",
    "best_xgb_grid_search = xgb_grid_search.best_estimator_\n",
    "best_xgb_grid_search.fit(X,y)\n",
    "cross_val =  cross_val_score(best_xgb_grid_search, X, y, scoring='accuracy', cv = kfold)\n",
    "print(cross_val.mean())\n"
   ]
  },
  {
   "cell_type": "code",
   "execution_count": 419,
   "metadata": {},
   "outputs": [
    {
     "data": {
      "text/plain": [
       "XGBClassifier(base_score=0.5, booster='gbtree', colsample_bylevel=1,\n",
       "       colsample_bytree=1, gamma=0, learning_rate=0.4, max_delta_step=0,\n",
       "       max_depth=3, min_child_weight=1, missing=None, n_estimators=1000,\n",
       "       n_jobs=1, nthread=None, objective='multi:softprob', random_state=0,\n",
       "       reg_alpha=0, reg_lambda=1, scale_pos_weight=1, seed=None,\n",
       "       silent=True, subsample=1)"
      ]
     },
     "execution_count": 419,
     "metadata": {},
     "output_type": "execute_result"
    }
   ],
   "source": [
    "best_xgb_grid_search"
   ]
  },
  {
   "cell_type": "code",
   "execution_count": 413,
   "metadata": {},
   "outputs": [
    {
     "name": "stdout",
     "output_type": "stream",
     "text": [
      "Fitting 7 folds for each of 54 candidates, totalling 378 fits\n"
     ]
    },
    {
     "name": "stderr",
     "output_type": "stream",
     "text": [
      "[Parallel(n_jobs=2)]: Done   1 tasks      | elapsed:    6.5s\n",
      "[Parallel(n_jobs=2)]: Done   4 tasks      | elapsed:   14.8s\n",
      "[Parallel(n_jobs=2)]: Done   9 tasks      | elapsed:   28.2s\n",
      "[Parallel(n_jobs=2)]: Done  14 tasks      | elapsed:   41.6s\n",
      "[Parallel(n_jobs=2)]: Done  21 tasks      | elapsed:  1.0min\n",
      "[Parallel(n_jobs=2)]: Done  28 tasks      | elapsed:  1.4min\n",
      "[Parallel(n_jobs=2)]: Done  37 tasks      | elapsed:  1.8min\n",
      "[Parallel(n_jobs=2)]: Done  46 tasks      | elapsed:  2.5min\n",
      "[Parallel(n_jobs=2)]: Done  57 tasks      | elapsed:  3.9min\n",
      "[Parallel(n_jobs=2)]: Done  68 tasks      | elapsed:  5.3min\n",
      "[Parallel(n_jobs=2)]: Done  81 tasks      | elapsed:  7.2min\n",
      "[Parallel(n_jobs=2)]: Done  94 tasks      | elapsed: 10.5min\n",
      "[Parallel(n_jobs=2)]: Done 109 tasks      | elapsed: 15.6min\n",
      "[Parallel(n_jobs=2)]: Done 124 tasks      | elapsed: 20.5min\n",
      "[Parallel(n_jobs=2)]: Done 141 tasks      | elapsed: 22.0min\n",
      "[Parallel(n_jobs=2)]: Done 158 tasks      | elapsed: 22.8min\n",
      "[Parallel(n_jobs=2)]: Done 177 tasks      | elapsed: 24.4min\n",
      "[Parallel(n_jobs=2)]: Done 196 tasks      | elapsed: 26.5min\n",
      "[Parallel(n_jobs=2)]: Done 217 tasks      | elapsed: 30.8min\n",
      "[Parallel(n_jobs=2)]: Done 238 tasks      | elapsed: 37.2min\n",
      "[Parallel(n_jobs=2)]: Done 261 tasks      | elapsed: 42.7min\n",
      "[Parallel(n_jobs=2)]: Done 284 tasks      | elapsed: 43.7min\n",
      "[Parallel(n_jobs=2)]: Done 309 tasks      | elapsed: 46.0min\n",
      "[Parallel(n_jobs=2)]: Done 334 tasks      | elapsed: 49.4min\n",
      "[Parallel(n_jobs=2)]: Done 361 tasks      | elapsed: 58.6min\n",
      "[Parallel(n_jobs=2)]: Done 378 out of 378 | elapsed: 66.5min finished\n"
     ]
    },
    {
     "name": "stdout",
     "output_type": "stream",
     "text": [
      "best parameters:  {'boosting_type': 'gbdt', 'learning_rate': 0.3, 'n_estimators': 300, 'num_leaves': 40, 'objective': 'binary'}\n",
      "0.810236014433\n"
     ]
    }
   ],
   "source": [
    "lgm = LGBMClassifier()\n",
    "grid = {'boosting_type':['gbdt'],\n",
    "        'n_estimators':[100,300,800],\n",
    "        'learning_rate':[0.3,0.6,0.8],\n",
    "        #'min_data_in_leaf':[15,20,35],\n",
    "        #'cat_smooth':[10,20,30],\n",
    "        'num_leaves':[31,40,50],\n",
    "        'objective':['binary', 'multiclass']}\n",
    "\n",
    "lightgbm_grid_search = GridSearchCV(lgm, param_grid = grid, cv = kfold, verbose = 10, n_jobs = 2, pre_dispatch = '2*n_jobs')             \n",
    "lightgbm_grid_search.fit(X,y)\n",
    "\n",
    "print(\"best parameters: \", lightgbm_grid_search.best_params_)\n",
    "best_lightgbm_grid_search= lightgbm_grid_search.best_estimator_\n",
    "best_lightgbm_grid_search.fit(X,y)\n",
    "cross_val =  cross_val_score(best_lightgbm_grid_search, X, y, scoring='accuracy', cv = kfold)\n",
    "print(cross_val.mean())"
   ]
  },
  {
   "cell_type": "code",
   "execution_count": 415,
   "metadata": {},
   "outputs": [
    {
     "name": "stdout",
     "output_type": "stream",
     "text": [
      "Fitting 7 folds for each of 16 candidates, totalling 112 fits\n"
     ]
    },
    {
     "name": "stderr",
     "output_type": "stream",
     "text": [
      "[Parallel(n_jobs=2)]: Done   1 tasks      | elapsed:  1.5min\n",
      "[Parallel(n_jobs=2)]: Done   4 tasks      | elapsed:  3.0min\n",
      "[Parallel(n_jobs=2)]: Done   9 tasks      | elapsed:  7.3min\n",
      "[Parallel(n_jobs=2)]: Done  14 tasks      | elapsed: 11.3min\n",
      "[Parallel(n_jobs=2)]: Done  21 tasks      | elapsed: 20.0min\n",
      "[Parallel(n_jobs=2)]: Done  28 tasks      | elapsed: 30.2min\n",
      "[Parallel(n_jobs=2)]: Done  37 tasks      | elapsed: 36.0min\n",
      "[Parallel(n_jobs=2)]: Done  46 tasks      | elapsed: 45.6min\n",
      "[Parallel(n_jobs=2)]: Done  57 tasks      | elapsed: 59.5min\n",
      "[Parallel(n_jobs=2)]: Done  68 tasks      | elapsed: 67.8min\n",
      "[Parallel(n_jobs=2)]: Done  81 tasks      | elapsed: 84.0min\n",
      "[Parallel(n_jobs=2)]: Done  94 tasks      | elapsed: 95.5min\n",
      "[Parallel(n_jobs=2)]: Done 109 tasks      | elapsed: 112.3min\n",
      "[Parallel(n_jobs=2)]: Done 112 out of 112 | elapsed: 116.7min finished\n"
     ]
    },
    {
     "name": "stdout",
     "output_type": "stream",
     "text": [
      "best parameters:  {'learning_rate': 0.8, 'n_estimators': 1000, 'random_state': 42}\n"
     ]
    }
   ],
   "source": [
    "ada = AdaBoostClassifier()\n",
    "grid = {\n",
    "    'n_estimators': [450, 600, 800, 1000],\n",
    "    'learning_rate': [.1, .4, .6, .8],\n",
    "    'random_state':[42]\n",
    "}\n",
    "\n",
    "ada_grid_search = GridSearchCV(ada, param_grid = grid, cv = kfold, verbose = 10, n_jobs = 2, pre_dispatch = '2*n_jobs')\n",
    "ada_grid_search.fit(X, y)\n",
    "print(\"best parameters: \", ada_grid_search.best_params_)\n"
   ]
  },
  {
   "cell_type": "code",
   "execution_count": 416,
   "metadata": {},
   "outputs": [
    {
     "name": "stdout",
     "output_type": "stream",
     "text": [
      "Fitting 7 folds for each of 24 candidates, totalling 168 fits\n"
     ]
    },
    {
     "name": "stderr",
     "output_type": "stream",
     "text": [
      "[Parallel(n_jobs=2)]: Done   1 tasks      | elapsed:   47.8s\n",
      "[Parallel(n_jobs=2)]: Done   4 tasks      | elapsed:  1.6min\n",
      "[Parallel(n_jobs=2)]: Done   9 tasks      | elapsed:  5.1min\n",
      "[Parallel(n_jobs=2)]: Done  14 tasks      | elapsed: 10.8min\n",
      "[Parallel(n_jobs=2)]: Done  21 tasks      | elapsed: 31.2min\n",
      "[Parallel(n_jobs=2)]: Done  28 tasks      | elapsed: 53.3min\n",
      "[Parallel(n_jobs=2)]: Done  37 tasks      | elapsed: 67.5min\n",
      "[Parallel(n_jobs=2)]: Done  46 tasks      | elapsed: 115.8min\n",
      "[Parallel(n_jobs=2)]: Done  57 tasks      | elapsed: 195.2min\n",
      "[Parallel(n_jobs=2)]: Done  68 tasks      | elapsed: 206.2min\n",
      "[Parallel(n_jobs=2)]: Done  81 tasks      | elapsed: 241.9min\n",
      "[Parallel(n_jobs=2)]: Done  94 tasks      | elapsed: 267.1min\n",
      "[Parallel(n_jobs=2)]: Done 109 tasks      | elapsed: 364.4min\n",
      "[Parallel(n_jobs=2)]: Done 124 tasks      | elapsed: 393.3min\n",
      "[Parallel(n_jobs=2)]: Done 141 tasks      | elapsed: 435.7min\n",
      "[Parallel(n_jobs=2)]: Done 158 tasks      | elapsed: 488.7min\n",
      "[Parallel(n_jobs=2)]: Done 168 out of 168 | elapsed: 568.1min finished\n"
     ]
    },
    {
     "name": "stdout",
     "output_type": "stream",
     "text": [
      "best parameters:  {'boosting_type': 'gbdt', 'learning_rate': 0.3, 'n_estimators': 300, 'num_leaves': 40, 'objective': 'binary'}\n",
      "0.810236014433\n"
     ]
    }
   ],
   "source": [
    "gbc = GradientBoostingClassifier()\n",
    "grid = {\n",
    "        'n_estimators':[100,300,800, 1000],\n",
    "        'learning_rate':[0.6,0.8, 1],\n",
    "         'max_depth': [3,6]}\n",
    "gbc_grid_search = GridSearchCV(gbc, param_grid = grid, cv = kfold, verbose = 10, n_jobs = 2, pre_dispatch = '2*n_jobs')\n",
    "gbc_grid_search.fit(X, y)\n",
    "print(\"best parameters: \", gbc_grid_search.best_params_)\n",
    "best_gbc_grid_search= gbc_grid_search.best_estimator_\n",
    "#best_lightgbm_grid_search.fit(X,y)\n",
    "#cross_val =  cross_val_score(best_lightgbm_grid_search, X, y, scoring='accuracy', cv = kfold)\n",
    "#print(cross_val.mean())\n"
   ]
  },
  {
   "cell_type": "code",
   "execution_count": 420,
   "metadata": {},
   "outputs": [
    {
     "data": {
      "text/plain": [
       "LGBMClassifier(boosting_type='gbdt', class_weight=None, colsample_bytree=1.0,\n",
       "        learning_rate=0.3, max_depth=-1, min_child_samples=20,\n",
       "        min_child_weight=0.001, min_split_gain=0.0, n_estimators=300,\n",
       "        n_jobs=-1, num_leaves=40, objective='binary', random_state=None,\n",
       "        reg_alpha=0.0, reg_lambda=0.0, silent=True, subsample=1.0,\n",
       "        subsample_for_bin=200000, subsample_freq=1)"
      ]
     },
     "execution_count": 420,
     "metadata": {},
     "output_type": "execute_result"
    }
   ],
   "source": [
    "best_lightgbm_grid_search"
   ]
  },
  {
   "cell_type": "code",
   "execution_count": 421,
   "metadata": {},
   "outputs": [
    {
     "name": "stdout",
     "output_type": "stream",
     "text": [
      "best parameters:  {'learning_rate': 0.6, 'max_depth': 6, 'n_estimators': 1000}\n"
     ]
    }
   ],
   "source": [
    "print(\"best parameters: \", gbc_grid_search.best_params_)\n",
    "best_gbc_grid_search= gbc_grid_search.best_estimator_"
   ]
  },
  {
   "cell_type": "code",
   "execution_count": 422,
   "metadata": {},
   "outputs": [
    {
     "data": {
      "text/plain": [
       "GradientBoostingClassifier(criterion='friedman_mse', init=None,\n",
       "              learning_rate=0.6, loss='deviance', max_depth=6,\n",
       "              max_features=None, max_leaf_nodes=None,\n",
       "              min_impurity_decrease=0.0, min_impurity_split=None,\n",
       "              min_samples_leaf=1, min_samples_split=2,\n",
       "              min_weight_fraction_leaf=0.0, n_estimators=1000,\n",
       "              presort='auto', random_state=None, subsample=1.0, verbose=0,\n",
       "              warm_start=False)"
      ]
     },
     "execution_count": 422,
     "metadata": {},
     "output_type": "execute_result"
    }
   ],
   "source": [
    "best_gbc_grid_search"
   ]
  },
  {
   "cell_type": "code",
   "execution_count": null,
   "metadata": {
    "collapsed": true
   },
   "outputs": [],
   "source": []
  }
 ],
 "metadata": {
  "kernelspec": {
   "display_name": "Python 3",
   "language": "python",
   "name": "python3"
  },
  "language_info": {
   "codemirror_mode": {
    "name": "ipython",
    "version": 3
   },
   "file_extension": ".py",
   "mimetype": "text/x-python",
   "name": "python",
   "nbconvert_exporter": "python",
   "pygments_lexer": "ipython3",
   "version": "3.6.3"
  }
 },
 "nbformat": 4,
 "nbformat_minor": 2
}
