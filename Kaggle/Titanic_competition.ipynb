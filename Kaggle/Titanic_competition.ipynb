{
 "cells": [
  {
   "cell_type": "markdown",
   "metadata": {},
   "source": [
    "# Titanic: Machine Learning from Disaster"
   ]
  },
  {
   "cell_type": "markdown",
   "metadata": {},
   "source": [
    "My goal in the notebook was to play around with genetic programming (gplearn) and especially H20 Framework and compare the results obtains between sklearn and H20. Even those, I have a descent score on Kaggle, I did not use complicated nor advance features transformation and; I believe, if I would like to improve my score, I would have to spend more time features engineering – which was not the principal object.\n",
    "\n",
    "### Data understanding\n",
    "- 1)  Understand Target: understand the target distribution and what type of problem it is\n",
    "- 2) Features preparation: merge training and test for a faster features engineering \n",
    "\n",
    "### Features engineering\n",
    "- 1) hunting NaNs: find missing values and replace or discard them\n",
    "- 2) Outlier Detection: find outlier in the dataset\n",
    "- 3) Skewness: apply log transformation to some numerical features to approximate gaussian distribution\n",
    "\n",
    "### Dimensionality reduction\n",
    "Reduce high-dimensional features to a lower level by merging “similar” levels together\n",
    "\n",
    "### Features Creation\n",
    "Using Genetic programming (gplean) to generate new combination of features\n",
    "\n",
    "### Modelling\n",
    "\n",
    "- 1) Base model: Random Forest\n",
    "- 2) Element Ensemble: Voting Classifier\n",
    "\n",
    "## H20 Framework\n",
    "- 1) Transform Pandas data frame to H20 data frame\n",
    "- 2) h2o single model – GBM\n",
    "- 3) h2o single model RF\n",
    "- 4) h2o Stacking with metalearner\n",
    "- 5) Out of sample submission\n",
    "\n",
    "### Conclusion\n",
    "Quick explanation of the results of some of my models and few points on further improvement\n",
    "\n",
    "**Best out of sample score: 0.798 - Top 12% as of April 2018**\n",
    "\n",
    "**Main sources**\n",
    "\n",
    "- [Kaggle, Titanic: Machine Learning from Disaster](https://www.kaggle.com/c/titanic)\n",
    "- [H20 main page](https://www.h2o.ai/)\n",
    "- [Genetic Programming: gplearn](http://gplearn.readthedocs.io/en/stable/intro.html)\n",
    "\n",
    "### Author: Cedric Viret"
   ]
  },
  {
   "cell_type": "markdown",
   "metadata": {},
   "source": [
    "#### Basic Library"
   ]
  },
  {
   "cell_type": "code",
   "execution_count": 121,
   "metadata": {
    "collapsed": true
   },
   "outputs": [],
   "source": [
    "import pandas as pd\n",
    "import numpy as np\n",
    "import seaborn as sns\n",
    "import matplotlib as plt\n",
    "%matplotlib inline\n",
    "from scipy.stats import skew\n",
    "\n",
    "pd.set_option(\"max_columns\", None)"
   ]
  },
  {
   "cell_type": "markdown",
   "metadata": {},
   "source": [
    "#### Loading Data"
   ]
  },
  {
   "cell_type": "code",
   "execution_count": 122,
   "metadata": {
    "collapsed": true
   },
   "outputs": [],
   "source": [
    "path = \"input/\"\n",
    "train = pd.read_csv(path+\"train.csv\")\n",
    "test = pd.read_csv(path+\"test.csv\")"
   ]
  },
  {
   "cell_type": "markdown",
   "metadata": {},
   "source": [
    "#### Glimpse of the data"
   ]
  },
  {
   "cell_type": "code",
   "execution_count": 123,
   "metadata": {},
   "outputs": [
    {
     "data": {
      "text/html": [
       "<div>\n",
       "<style>\n",
       "    .dataframe thead tr:only-child th {\n",
       "        text-align: right;\n",
       "    }\n",
       "\n",
       "    .dataframe thead th {\n",
       "        text-align: left;\n",
       "    }\n",
       "\n",
       "    .dataframe tbody tr th {\n",
       "        vertical-align: top;\n",
       "    }\n",
       "</style>\n",
       "<table border=\"1\" class=\"dataframe\">\n",
       "  <thead>\n",
       "    <tr style=\"text-align: right;\">\n",
       "      <th></th>\n",
       "      <th>PassengerId</th>\n",
       "      <th>Survived</th>\n",
       "      <th>Pclass</th>\n",
       "      <th>Name</th>\n",
       "      <th>Sex</th>\n",
       "      <th>Age</th>\n",
       "      <th>SibSp</th>\n",
       "      <th>Parch</th>\n",
       "      <th>Ticket</th>\n",
       "      <th>Fare</th>\n",
       "      <th>Cabin</th>\n",
       "      <th>Embarked</th>\n",
       "    </tr>\n",
       "  </thead>\n",
       "  <tbody>\n",
       "    <tr>\n",
       "      <th>0</th>\n",
       "      <td>1</td>\n",
       "      <td>0</td>\n",
       "      <td>3</td>\n",
       "      <td>Braund, Mr. Owen Harris</td>\n",
       "      <td>male</td>\n",
       "      <td>22.0</td>\n",
       "      <td>1</td>\n",
       "      <td>0</td>\n",
       "      <td>A/5 21171</td>\n",
       "      <td>7.2500</td>\n",
       "      <td>NaN</td>\n",
       "      <td>S</td>\n",
       "    </tr>\n",
       "    <tr>\n",
       "      <th>1</th>\n",
       "      <td>2</td>\n",
       "      <td>1</td>\n",
       "      <td>1</td>\n",
       "      <td>Cumings, Mrs. John Bradley (Florence Briggs Th...</td>\n",
       "      <td>female</td>\n",
       "      <td>38.0</td>\n",
       "      <td>1</td>\n",
       "      <td>0</td>\n",
       "      <td>PC 17599</td>\n",
       "      <td>71.2833</td>\n",
       "      <td>C85</td>\n",
       "      <td>C</td>\n",
       "    </tr>\n",
       "    <tr>\n",
       "      <th>2</th>\n",
       "      <td>3</td>\n",
       "      <td>1</td>\n",
       "      <td>3</td>\n",
       "      <td>Heikkinen, Miss. Laina</td>\n",
       "      <td>female</td>\n",
       "      <td>26.0</td>\n",
       "      <td>0</td>\n",
       "      <td>0</td>\n",
       "      <td>STON/O2. 3101282</td>\n",
       "      <td>7.9250</td>\n",
       "      <td>NaN</td>\n",
       "      <td>S</td>\n",
       "    </tr>\n",
       "    <tr>\n",
       "      <th>3</th>\n",
       "      <td>4</td>\n",
       "      <td>1</td>\n",
       "      <td>1</td>\n",
       "      <td>Futrelle, Mrs. Jacques Heath (Lily May Peel)</td>\n",
       "      <td>female</td>\n",
       "      <td>35.0</td>\n",
       "      <td>1</td>\n",
       "      <td>0</td>\n",
       "      <td>113803</td>\n",
       "      <td>53.1000</td>\n",
       "      <td>C123</td>\n",
       "      <td>S</td>\n",
       "    </tr>\n",
       "    <tr>\n",
       "      <th>4</th>\n",
       "      <td>5</td>\n",
       "      <td>0</td>\n",
       "      <td>3</td>\n",
       "      <td>Allen, Mr. William Henry</td>\n",
       "      <td>male</td>\n",
       "      <td>35.0</td>\n",
       "      <td>0</td>\n",
       "      <td>0</td>\n",
       "      <td>373450</td>\n",
       "      <td>8.0500</td>\n",
       "      <td>NaN</td>\n",
       "      <td>S</td>\n",
       "    </tr>\n",
       "  </tbody>\n",
       "</table>\n",
       "</div>"
      ],
      "text/plain": [
       "   PassengerId  Survived  Pclass  \\\n",
       "0            1         0       3   \n",
       "1            2         1       1   \n",
       "2            3         1       3   \n",
       "3            4         1       1   \n",
       "4            5         0       3   \n",
       "\n",
       "                                                Name     Sex   Age  SibSp  \\\n",
       "0                            Braund, Mr. Owen Harris    male  22.0      1   \n",
       "1  Cumings, Mrs. John Bradley (Florence Briggs Th...  female  38.0      1   \n",
       "2                             Heikkinen, Miss. Laina  female  26.0      0   \n",
       "3       Futrelle, Mrs. Jacques Heath (Lily May Peel)  female  35.0      1   \n",
       "4                           Allen, Mr. William Henry    male  35.0      0   \n",
       "\n",
       "   Parch            Ticket     Fare Cabin Embarked  \n",
       "0      0         A/5 21171   7.2500   NaN        S  \n",
       "1      0          PC 17599  71.2833   C85        C  \n",
       "2      0  STON/O2. 3101282   7.9250   NaN        S  \n",
       "3      0            113803  53.1000  C123        S  \n",
       "4      0            373450   8.0500   NaN        S  "
      ]
     },
     "execution_count": 123,
     "metadata": {},
     "output_type": "execute_result"
    }
   ],
   "source": [
    "train.head()"
   ]
  },
  {
   "cell_type": "markdown",
   "metadata": {},
   "source": [
    "### Data understanding"
   ]
  },
  {
   "cell_type": "markdown",
   "metadata": {},
   "source": [
    "#### Understand Target"
   ]
  },
  {
   "cell_type": "code",
   "execution_count": 124,
   "metadata": {},
   "outputs": [
    {
     "data": {
      "text/plain": [
       "<matplotlib.axes._subplots.AxesSubplot at 0x10fc84489e8>"
      ]
     },
     "execution_count": 124,
     "metadata": {},
     "output_type": "execute_result"
    },
    {
     "data": {
      "image/png": "[encoded data removed]",
      "text/plain": [
       "<matplotlib.figure.Figure at 0x10fbe871a58>"
      ]
     },
     "metadata": {},
     "output_type": "display_data"
    }
   ],
   "source": [
    "#understand target\n",
    "train.groupby(\"Survived\")[\"Survived\"].count().plot.pie(figsize=(6,6), autopct='%.2f', legend=True, title=\"Survived\",colormap =\"Paired\")\n",
    "\n",
    "#understand target data by gender\n"
   ]
  },
  {
   "cell_type": "markdown",
   "metadata": {},
   "source": [
    "**It is a balance binary classification problem**"
   ]
  },
  {
   "cell_type": "markdown",
   "metadata": {},
   "source": [
    "### Features preparation\n",
    "- Drop the target column and assign it to y_train\n",
    "- Merge train and test set (it avoids doing double transformation on train and test set)\n",
    "\n"
   ]
  },
  {
   "cell_type": "code",
   "execution_count": 125,
   "metadata": {},
   "outputs": [
    {
     "name": "stdout",
     "output_type": "stream",
     "text": [
      "train shape (891, 11)\n",
      "test shape (418, 11)\n",
      "y_train (891,)\n",
      "All good-total amount of rows: 1309\n"
     ]
    }
   ],
   "source": [
    "#y_train\n",
    "y_train = train[\"Survived\"]\n",
    "\n",
    "#drop target form training\n",
    "train = train.drop(\"Survived\", inplace = False, axis = 1)\n",
    "\n",
    "#concat training and testing\n",
    "features = pd.concat([train, test]).reset_index(drop=True)\n",
    "\n",
    "#store training and testing shape\n",
    "train_shape = train.shape\n",
    "test_shape = test.shape\n",
    "y_train_shape = y_train.shape\n",
    "\n",
    "#saving the test index\n",
    "test_id = test.PassengerId\n",
    "\n",
    "print(\"train shape\", train_shape)\n",
    "print(\"test shape\", test_shape)\n",
    "print(\"y_train\", y_train_shape)\n",
    "\n",
    "#making sure features have the same lenght as combine train and test\n",
    "if (features.shape[0]-(train_shape[0]+test_shape[0]))==0:\n",
    "    print(\"All good-total amount of rows:\", features.shape[0])\n",
    "else:\n",
    "    print(\"something went wrong!\")\n"
   ]
  },
  {
   "cell_type": "markdown",
   "metadata": {},
   "source": [
    "Analysis the features (excluding the target):\n",
    "- understand the type of features\n",
    "- if we can drop some features because they are unique (especially  thinking about “PassengerId” and “Tickets”)\n"
   ]
  },
  {
   "cell_type": "code",
   "execution_count": 126,
   "metadata": {},
   "outputs": [
    {
     "data": {
      "text/plain": [
       "PassengerId      int64\n",
       "Pclass           int64\n",
       "Name            object\n",
       "Sex             object\n",
       "Age            float64\n",
       "SibSp            int64\n",
       "Parch            int64\n",
       "Ticket          object\n",
       "Fare           float64\n",
       "Cabin           object\n",
       "Embarked        object\n",
       "dtype: object"
      ]
     },
     "execution_count": 126,
     "metadata": {},
     "output_type": "execute_result"
    }
   ],
   "source": [
    "features.dtypes"
   ]
  },
  {
   "cell_type": "code",
   "execution_count": 127,
   "metadata": {},
   "outputs": [
    {
     "data": {
      "text/html": [
       "<div>\n",
       "<style>\n",
       "    .dataframe thead tr:only-child th {\n",
       "        text-align: right;\n",
       "    }\n",
       "\n",
       "    .dataframe thead th {\n",
       "        text-align: left;\n",
       "    }\n",
       "\n",
       "    .dataframe tbody tr th {\n",
       "        vertical-align: top;\n",
       "    }\n",
       "</style>\n",
       "<table border=\"1\" class=\"dataframe\">\n",
       "  <thead>\n",
       "    <tr style=\"text-align: right;\">\n",
       "      <th></th>\n",
       "      <th>amt_unique</th>\n",
       "      <th>unique</th>\n",
       "    </tr>\n",
       "  </thead>\n",
       "  <tbody>\n",
       "    <tr>\n",
       "      <th>PassengerId</th>\n",
       "      <td>1309</td>\n",
       "      <td>unique</td>\n",
       "    </tr>\n",
       "    <tr>\n",
       "      <th>Name</th>\n",
       "      <td>1307</td>\n",
       "      <td>not unique</td>\n",
       "    </tr>\n",
       "    <tr>\n",
       "      <th>Ticket</th>\n",
       "      <td>929</td>\n",
       "      <td>not unique</td>\n",
       "    </tr>\n",
       "    <tr>\n",
       "      <th>Fare</th>\n",
       "      <td>282</td>\n",
       "      <td>not unique</td>\n",
       "    </tr>\n",
       "    <tr>\n",
       "      <th>Cabin</th>\n",
       "      <td>187</td>\n",
       "      <td>not unique</td>\n",
       "    </tr>\n",
       "    <tr>\n",
       "      <th>Age</th>\n",
       "      <td>99</td>\n",
       "      <td>not unique</td>\n",
       "    </tr>\n",
       "    <tr>\n",
       "      <th>Parch</th>\n",
       "      <td>8</td>\n",
       "      <td>not unique</td>\n",
       "    </tr>\n",
       "    <tr>\n",
       "      <th>SibSp</th>\n",
       "      <td>7</td>\n",
       "      <td>not unique</td>\n",
       "    </tr>\n",
       "    <tr>\n",
       "      <th>Embarked</th>\n",
       "      <td>4</td>\n",
       "      <td>not unique</td>\n",
       "    </tr>\n",
       "    <tr>\n",
       "      <th>Pclass</th>\n",
       "      <td>3</td>\n",
       "      <td>not unique</td>\n",
       "    </tr>\n",
       "    <tr>\n",
       "      <th>Sex</th>\n",
       "      <td>2</td>\n",
       "      <td>not unique</td>\n",
       "    </tr>\n",
       "  </tbody>\n",
       "</table>\n",
       "</div>"
      ],
      "text/plain": [
       "             amt_unique      unique\n",
       "PassengerId        1309      unique\n",
       "Name               1307  not unique\n",
       "Ticket              929  not unique\n",
       "Fare                282  not unique\n",
       "Cabin               187  not unique\n",
       "Age                  99  not unique\n",
       "Parch                 8  not unique\n",
       "SibSp                 7  not unique\n",
       "Embarked              4  not unique\n",
       "Pclass                3  not unique\n",
       "Sex                   2  not unique"
      ]
     },
     "execution_count": 127,
     "metadata": {},
     "output_type": "execute_result"
    }
   ],
   "source": [
    "#amount of unique values per columns and columns name\n",
    "values = [len(features.loc[:,serie].unique()) for serie in features.columns]\n",
    "index = [name for name in features.columns]\n",
    "\n",
    "#create a DataFrame\n",
    "df_unique=pd.DataFrame(values, index=index, columns=[\"amt_unique\"]).sort_values(\"amt_unique\", ascending=False)\n",
    "\n",
    "#append column unique\n",
    "df_unique[\"unique\"] = df_unique.amt_unique.apply(lambda x: \"unique\" if x == features.shape[0] else \"not unique\")\n",
    "\n",
    "df_unique"
   ]
  },
  {
   "cell_type": "markdown",
   "metadata": {},
   "source": [
    "Looking at the results of the data frame we can easily see that “PassengerId” is unique, so it can be removed and so as Name (almost unique). Moreover, the name of a passenger should not tell if one survives or not."
   ]
  },
  {
   "cell_type": "code",
   "execution_count": 128,
   "metadata": {},
   "outputs": [
    {
     "name": "stdout",
     "output_type": "stream",
     "text": [
      "Features dropped, so columns is of: 9\n"
     ]
    }
   ],
   "source": [
    "features.drop([\"PassengerId\", \"Name\"], inplace = True, axis = 1)\n",
    "print(\"Features dropped, so columns is of:\",features.shape[1])"
   ]
  },
  {
   "cell_type": "markdown",
   "metadata": {},
   "source": [
    "### Features engineering\n",
    "- hunting NaNs\n",
    "- preform some NaNs imputation\n",
    "- outlier detections\n",
    "- transform some skewed numerical features\n",
    "- dimensionality reduction (not using PCA or LDA)\n"
   ]
  },
  {
   "cell_type": "code",
   "execution_count": 129,
   "metadata": {
    "collapsed": true
   },
   "outputs": [],
   "source": [
    "#print missing value pre features\n",
    "def is_null(serie):\n",
    "    if features.loc[:,serie].isnull().sum() >0:\n",
    "        print(serie,\"has some missing values:\", features.loc[:,serie].isnull().sum())\n",
    "    else:\n",
    "        print(serie,\"no missing values\")"
   ]
  },
  {
   "cell_type": "markdown",
   "metadata": {},
   "source": [
    "#### hunting NaNs<br>\n",
    "Understand the missing value distribution into the data set.\n"
   ]
  },
  {
   "cell_type": "code",
   "execution_count": 130,
   "metadata": {},
   "outputs": [
    {
     "data": {
      "text/html": [
       "<div>\n",
       "<style>\n",
       "    .dataframe thead tr:only-child th {\n",
       "        text-align: right;\n",
       "    }\n",
       "\n",
       "    .dataframe thead th {\n",
       "        text-align: left;\n",
       "    }\n",
       "\n",
       "    .dataframe tbody tr th {\n",
       "        vertical-align: top;\n",
       "    }\n",
       "</style>\n",
       "<table border=\"1\" class=\"dataframe\">\n",
       "  <thead>\n",
       "    <tr style=\"text-align: right;\">\n",
       "      <th></th>\n",
       "      <th>amt_na</th>\n",
       "    </tr>\n",
       "  </thead>\n",
       "  <tbody>\n",
       "    <tr>\n",
       "      <th>Cabin</th>\n",
       "      <td>1014</td>\n",
       "    </tr>\n",
       "    <tr>\n",
       "      <th>Age</th>\n",
       "      <td>263</td>\n",
       "    </tr>\n",
       "    <tr>\n",
       "      <th>Embarked</th>\n",
       "      <td>2</td>\n",
       "    </tr>\n",
       "    <tr>\n",
       "      <th>Fare</th>\n",
       "      <td>1</td>\n",
       "    </tr>\n",
       "    <tr>\n",
       "      <th>Pclass</th>\n",
       "      <td>0</td>\n",
       "    </tr>\n",
       "    <tr>\n",
       "      <th>Sex</th>\n",
       "      <td>0</td>\n",
       "    </tr>\n",
       "    <tr>\n",
       "      <th>SibSp</th>\n",
       "      <td>0</td>\n",
       "    </tr>\n",
       "    <tr>\n",
       "      <th>Parch</th>\n",
       "      <td>0</td>\n",
       "    </tr>\n",
       "    <tr>\n",
       "      <th>Ticket</th>\n",
       "      <td>0</td>\n",
       "    </tr>\n",
       "  </tbody>\n",
       "</table>\n",
       "</div>"
      ],
      "text/plain": [
       "          amt_na\n",
       "Cabin       1014\n",
       "Age          263\n",
       "Embarked       2\n",
       "Fare           1\n",
       "Pclass         0\n",
       "Sex            0\n",
       "SibSp          0\n",
       "Parch          0\n",
       "Ticket         0"
      ]
     },
     "execution_count": 130,
     "metadata": {},
     "output_type": "execute_result"
    }
   ],
   "source": [
    "values_na = [len(features[features.loc[:,serie].isnull()==True]) for serie in features.columns]\n",
    "index = [name for name in features.columns]\n",
    "\n",
    "#create a DataFrame\n",
    "df_na=pd.DataFrame(values_na, index=index, columns=[\"amt_na\"]).sort_values(\"amt_na\", ascending=False)\n",
    "\n",
    "df_na"
   ]
  },
  {
   "cell_type": "markdown",
   "metadata": {},
   "source": [
    "##### NaNs imputation for Embarked and Fare"
   ]
  },
  {
   "cell_type": "code",
   "execution_count": 131,
   "metadata": {},
   "outputs": [
    {
     "name": "stdout",
     "output_type": "stream",
     "text": [
      "     Pclass     Sex   Age  SibSp  Parch  Ticket  Fare Cabin Embarked\n",
      "61        1  female  38.0      0      0  113572  80.0   B28      NaN\n",
      "829       1  female  62.0      0      0  113572  80.0   B28      NaN\n",
      "      Pclass   Sex   Age  SibSp  Parch Ticket  Fare Cabin Embarked\n",
      "1043       3  male  60.5      0      0   3701   NaN   NaN        S\n"
     ]
    }
   ],
   "source": [
    "#Embarked and Fare Understanding\n",
    "print(features[features.Embarked.isnull() == True])\n",
    "print(features[features.Fare.isnull() == True])\n"
   ]
  },
  {
   "cell_type": "markdown",
   "metadata": {},
   "source": [
    "Let's focus first on Embarket:<br>\n",
    "**Ticket number are the same for both passenger- so it make sense to impute the same \"Embarked\" value for both**."
   ]
  },
  {
   "cell_type": "code",
   "execution_count": 132,
   "metadata": {},
   "outputs": [
    {
     "data": {
      "text/plain": [
       "<matplotlib.axes._subplots.AxesSubplot at 0x10fba0a1470>"
      ]
     },
     "execution_count": 132,
     "metadata": {},
     "output_type": "execute_result"
    },
    {
     "data": {
      "image/png": "[encoded data removed]",
      "text/plain": [
       "<matplotlib.figure.Figure at 0x10fba0a1160>"
      ]
     },
     "metadata": {},
     "output_type": "display_data"
    }
   ],
   "source": [
    "features[(features[\"Sex\"]==\"female\") & (features[\"Pclass\"]==1)][\"Age\"].plot.hist()"
   ]
  },
  {
   "cell_type": "markdown",
   "metadata": {},
   "source": [
    "The age distribution of the female in first class does not tell us a lot about which \"Embarked\" letter we should impute... So let ‘see from which Embarked the first class passenger come from:"
   ]
  },
  {
   "cell_type": "code",
   "execution_count": 133,
   "metadata": {},
   "outputs": [
    {
     "data": {
      "text/plain": [
       "Embarked\n",
       "C    71\n",
       "Q     2\n",
       "S    69\n",
       "Name: Embarked, dtype: int64"
      ]
     },
     "execution_count": 133,
     "metadata": {},
     "output_type": "execute_result"
    }
   ],
   "source": [
    "features[(features[\"Pclass\"]==1) & (features[\"Sex\"]==\"female\")].groupby(\"Embarked\")[\"Embarked\"].count()\n"
   ]
  },
  {
   "cell_type": "markdown",
   "metadata": {},
   "source": [
    "We still don't have a lot of more info, I decide to impute the \"Embarked\" missing values by \"S\".\n",
    "**Reason: if look at the neighbour cabin from B28, most of the passenger come from \"Southampton\" (S) - hence I will impute \"S\"**\n"
   ]
  },
  {
   "cell_type": "code",
   "execution_count": 134,
   "metadata": {
    "collapsed": true
   },
   "outputs": [],
   "source": [
    "features.Embarked.fillna(\"S\", inplace = True)"
   ]
  },
  {
   "cell_type": "markdown",
   "metadata": {},
   "source": [
    "Now on focusing on \"Fare\":<br>\n",
    "NaN imputation with the median of the male in first class "
   ]
  },
  {
   "cell_type": "code",
   "execution_count": 135,
   "metadata": {
    "collapsed": true
   },
   "outputs": [],
   "source": [
    "#replace Fare with the median of male in class 3 coming for S\n",
    "fare_replace = features[(features[\"Pclass\"]==1) & (features[\"Sex\"]==\"male\") & (features[\"Embarked\"]==\"S\")][\"Fare\"].median()\n",
    "features.Fare.fillna(fare_replace, inplace = True)\n"
   ]
  },
  {
   "cell_type": "markdown",
   "metadata": {},
   "source": [
    "#### NaNs Imputation for \"Cabin\"\n",
    "Replacing missing values by “X”\n"
   ]
  },
  {
   "cell_type": "code",
   "execution_count": 136,
   "metadata": {
    "collapsed": true
   },
   "outputs": [],
   "source": [
    "#replace Cabin by \"X\"\n",
    "features.Cabin.fillna(\"X\", inplace = True)"
   ]
  },
  {
   "cell_type": "markdown",
   "metadata": {},
   "source": [
    "#### Age imputation\n",
    "I will impute the NaNs for Age base on similar (complete) row according to “Pclass”, “Parch” and “SibSp”.\n",
    "Function take from:https://www.kaggle.com/yassineghouzam/titanic-top-4-with-ensemble-modeling\n"
   ]
  },
  {
   "cell_type": "code",
   "execution_count": 137,
   "metadata": {},
   "outputs": [
    {
     "name": "stderr",
     "output_type": "stream",
     "text": [
      "C:\\Users\\viret\\Anaconda3\\lib\\site-packages\\pandas\\core\\indexing.py:179: SettingWithCopyWarning: \n",
      "A value is trying to be set on a copy of a slice from a DataFrame\n",
      "\n",
      "See the caveats in the documentation: http://pandas.pydata.org/pandas-docs/stable/indexing.html#indexing-view-versus-copy\n",
      "  self._setitem_with_indexer(indexer, value)\n"
     ]
    }
   ],
   "source": [
    "## Fill Age with the median age of similar rows according to Pclass, Parch and SibSp\n",
    "# Index of NaN age rows\n",
    "index_NaN_age = list(features[\"Age\"][features[\"Age\"].isnull()].index)\n",
    "\n",
    "for i in index_NaN_age :\n",
    "    age_med = features[\"Age\"].median()\n",
    "    age_pred = features[\"Age\"][((features['SibSp'] == features.iloc[i][\"SibSp\"]) & (features['Parch'] == features.iloc[i][\"Parch\"]) & (features['Pclass'] == features.iloc[i][\"Pclass\"]))].median()\n",
    "    if not np.isnan(age_pred) :\n",
    "        features['Age'].iloc[i] = age_pred\n",
    "    else :\n",
    "        features['Age'].iloc[i] = age_med"
   ]
  },
  {
   "cell_type": "code",
   "execution_count": 138,
   "metadata": {},
   "outputs": [
    {
     "name": "stdout",
     "output_type": "stream",
     "text": [
      "Pclass no missing values\n",
      "Sex no missing values\n",
      "Age no missing values\n",
      "SibSp no missing values\n",
      "Parch no missing values\n",
      "Ticket no missing values\n",
      "Fare no missing values\n",
      "Cabin no missing values\n",
      "Embarked no missing values\n"
     ]
    }
   ],
   "source": [
    "#Check remaining missing values:\n",
    "for col in features.columns:\n",
    "    is_null(col)"
   ]
  },
  {
   "cell_type": "markdown",
   "metadata": {},
   "source": [
    "#### Outlier Detection"
   ]
  },
  {
   "cell_type": "code",
   "execution_count": 139,
   "metadata": {},
   "outputs": [
    {
     "data": {
      "text/html": [
       "<div>\n",
       "<style>\n",
       "    .dataframe thead tr:only-child th {\n",
       "        text-align: right;\n",
       "    }\n",
       "\n",
       "    .dataframe thead th {\n",
       "        text-align: left;\n",
       "    }\n",
       "\n",
       "    .dataframe tbody tr th {\n",
       "        vertical-align: top;\n",
       "    }\n",
       "</style>\n",
       "<table border=\"1\" class=\"dataframe\">\n",
       "  <thead>\n",
       "    <tr style=\"text-align: right;\">\n",
       "      <th></th>\n",
       "      <th>Pclass</th>\n",
       "      <th>Age</th>\n",
       "      <th>SibSp</th>\n",
       "      <th>Parch</th>\n",
       "      <th>Fare</th>\n",
       "    </tr>\n",
       "  </thead>\n",
       "  <tbody>\n",
       "    <tr>\n",
       "      <th>count</th>\n",
       "      <td>1309.000000</td>\n",
       "      <td>1309.000000</td>\n",
       "      <td>1309.000000</td>\n",
       "      <td>1309.000000</td>\n",
       "      <td>1309.000000</td>\n",
       "    </tr>\n",
       "    <tr>\n",
       "      <th>mean</th>\n",
       "      <td>2.294882</td>\n",
       "      <td>29.179656</td>\n",
       "      <td>0.498854</td>\n",
       "      <td>0.385027</td>\n",
       "      <td>33.297163</td>\n",
       "    </tr>\n",
       "    <tr>\n",
       "      <th>std</th>\n",
       "      <td>0.837836</td>\n",
       "      <td>13.269138</td>\n",
       "      <td>1.041658</td>\n",
       "      <td>0.865560</td>\n",
       "      <td>51.738915</td>\n",
       "    </tr>\n",
       "    <tr>\n",
       "      <th>min</th>\n",
       "      <td>1.000000</td>\n",
       "      <td>0.170000</td>\n",
       "      <td>0.000000</td>\n",
       "      <td>0.000000</td>\n",
       "      <td>0.000000</td>\n",
       "    </tr>\n",
       "    <tr>\n",
       "      <th>25%</th>\n",
       "      <td>2.000000</td>\n",
       "      <td>22.000000</td>\n",
       "      <td>0.000000</td>\n",
       "      <td>0.000000</td>\n",
       "      <td>7.895800</td>\n",
       "    </tr>\n",
       "    <tr>\n",
       "      <th>50%</th>\n",
       "      <td>3.000000</td>\n",
       "      <td>26.000000</td>\n",
       "      <td>0.000000</td>\n",
       "      <td>0.000000</td>\n",
       "      <td>14.454200</td>\n",
       "    </tr>\n",
       "    <tr>\n",
       "      <th>75%</th>\n",
       "      <td>3.000000</td>\n",
       "      <td>37.000000</td>\n",
       "      <td>1.000000</td>\n",
       "      <td>0.000000</td>\n",
       "      <td>31.275000</td>\n",
       "    </tr>\n",
       "    <tr>\n",
       "      <th>max</th>\n",
       "      <td>3.000000</td>\n",
       "      <td>80.000000</td>\n",
       "      <td>8.000000</td>\n",
       "      <td>9.000000</td>\n",
       "      <td>512.329200</td>\n",
       "    </tr>\n",
       "  </tbody>\n",
       "</table>\n",
       "</div>"
      ],
      "text/plain": [
       "            Pclass          Age        SibSp        Parch         Fare\n",
       "count  1309.000000  1309.000000  1309.000000  1309.000000  1309.000000\n",
       "mean      2.294882    29.179656     0.498854     0.385027    33.297163\n",
       "std       0.837836    13.269138     1.041658     0.865560    51.738915\n",
       "min       1.000000     0.170000     0.000000     0.000000     0.000000\n",
       "25%       2.000000    22.000000     0.000000     0.000000     7.895800\n",
       "50%       3.000000    26.000000     0.000000     0.000000    14.454200\n",
       "75%       3.000000    37.000000     1.000000     0.000000    31.275000\n",
       "max       3.000000    80.000000     8.000000     9.000000   512.329200"
      ]
     },
     "execution_count": 139,
     "metadata": {},
     "output_type": "execute_result"
    }
   ],
   "source": [
    "features.describe()"
   ]
  },
  {
   "cell_type": "markdown",
   "metadata": {},
   "source": [
    "It does not seem that some values are totally out of range BUT “Fare” seem to be skewed\n"
   ]
  },
  {
   "cell_type": "markdown",
   "metadata": {},
   "source": [
    "#### Skewness"
   ]
  },
  {
   "cell_type": "code",
   "execution_count": 140,
   "metadata": {},
   "outputs": [
    {
     "name": "stdout",
     "output_type": "stream",
     "text": [
      "Fare skewness in value: 4.36926776234\n"
     ]
    },
    {
     "data": {
      "image/png": "[encoded data removed]",
      "text/plain": [
       "<matplotlib.figure.Figure at 0x10fb9b19668>"
      ]
     },
     "metadata": {},
     "output_type": "display_data"
    }
   ],
   "source": [
    "#plot skew\n",
    "sns.distplot(features[\"Fare\"])\n",
    "\n",
    "#skew in values\n",
    "print(\"Fare skewness in value:\",features[\"Fare\"].skew())\n",
    "\n"
   ]
  },
  {
   "cell_type": "code",
   "execution_count": 141,
   "metadata": {},
   "outputs": [
    {
     "data": {
      "text/plain": [
       "<matplotlib.axes._subplots.AxesSubplot at 0x10fba13a748>"
      ]
     },
     "execution_count": 141,
     "metadata": {},
     "output_type": "execute_result"
    },
    {
     "data": {
      "image/png": "[encoded data removed]",
      "text/plain": [
       "<matplotlib.figure.Figure at 0x10fd110c630>"
      ]
     },
     "metadata": {},
     "output_type": "display_data"
    }
   ],
   "source": [
    "features[\"Fare\"] = features[\"Fare\"].map(lambda x: np.log(x) if x > 0 else 0)\n",
    "\n",
    "#plot skew\n",
    "sns.distplot(features[\"Fare\"], color= \"r\")"
   ]
  },
  {
   "cell_type": "markdown",
   "metadata": {},
   "source": [
    "### Dimensionality reduction<br>\n",
    "\"Cabin\" has a lot of dimensions - I will reduce then by only considering the letter of the cabin and not the number\n"
   ]
  },
  {
   "cell_type": "code",
   "execution_count": 142,
   "metadata": {},
   "outputs": [
    {
     "data": {
      "text/plain": [
       "<matplotlib.axes._subplots.AxesSubplot at 0x10fba6e8128>"
      ]
     },
     "execution_count": 142,
     "metadata": {},
     "output_type": "execute_result"
    },
    {
     "data": {
      "image/png": "[encoded data removed]",
      "text/plain": [
       "<matplotlib.figure.Figure at 0x10fba330630>"
      ]
     },
     "metadata": {},
     "output_type": "display_data"
    }
   ],
   "source": [
    "#Reduce the Cabin dimension to it first letter\n",
    "features[\"Cabin\"] = features.Cabin.apply(lambda x: x[0])\n",
    "\n",
    "#quick view of the remaining levels\n",
    "features.groupby(\"Cabin\")[\"Cabin\"].count().plot.bar()"
   ]
  },
  {
   "cell_type": "markdown",
   "metadata": {},
   "source": [
    "\"ticket\" also have a lot of dimensions, so I will reduce them by only considering the letter of the ticket (without the \".\" or \"/\" ) - for the numerical ticket such as \"11129292\" I will replace them by the letter \"W\""
   ]
  },
  {
   "cell_type": "code",
   "execution_count": 143,
   "metadata": {
    "collapsed": true
   },
   "outputs": [],
   "source": [
    "#clean ticket of . and /\n",
    "ticket_clean = [i.replace(\".\",\"\").replace(\"/\",\"\").strip().split(' ')[0] if not i.isdigit() else \"W\" for i in list(features.Ticket)]\n",
    "\n",
    "#append to ticket\n",
    "features[\"Ticket\"] = ticket_clean\n",
    "\n",
    "#reduce the level even more\n",
    "a_val = ['A', 'A4', 'A5','AQ3', 'AQ4', 'AS']\n",
    "c_val = ['C', 'CA', 'CASOTON']\n",
    "f_val = ['FC', 'FCC','Fa']\n",
    "l_val = ['LP','LINE']\n",
    "p_val = ['PC','PP','PPP']\n",
    "s_val = ['SC','SCA3','SCA4','SCAH', 'SCOW', 'SCPARIS', 'SCParis'] #s0\n",
    "s_val1 = ['SOC','SOP','SOPP','SP'] #s1\n",
    "s_val2 = ['SOTONO2','SOTONOQ','STONO','STONO2','STONOQ']\n",
    "w_val = ['WC','WEP'] #set as WW\n",
    "\n",
    "#V\n",
    "val = [a_val,c_val,f_val, l_val, p_val, s_val,s_val1,s_val2,w_val]\n",
    "tag = ['A','C','F','L','P','S0','S1','S2','WW']\n",
    "\n",
    "for val, tag in zip(val,tag):\n",
    "                    features.Ticket.replace(val, tag, inplace = True)\n"
   ]
  },
  {
   "cell_type": "code",
   "execution_count": 144,
   "metadata": {},
   "outputs": [
    {
     "data": {
      "text/plain": [
       "Ticket\n",
       "A        42\n",
       "C        77\n",
       "F        13\n",
       "L         5\n",
       "P        98\n",
       "S0       30\n",
       "S1       17\n",
       "S2       49\n",
       "SWPP      2\n",
       "W       957\n",
       "WW       19\n",
       "Name: Ticket, dtype: int64"
      ]
     },
     "execution_count": 144,
     "metadata": {},
     "output_type": "execute_result"
    }
   ],
   "source": [
    "#show remaining dimensions\n",
    "features.groupby(\"Ticket\")[\"Ticket\"].count()"
   ]
  },
  {
   "cell_type": "markdown",
   "metadata": {},
   "source": [
    "Tansforming \"Pclass\" into categorical feature"
   ]
  },
  {
   "cell_type": "code",
   "execution_count": 145,
   "metadata": {
    "collapsed": true
   },
   "outputs": [],
   "source": [
    "#changing Pclass type\n",
    "features[\"Pclass\"] = features[\"Pclass\"].astype(\"str\")\n"
   ]
  },
  {
   "cell_type": "markdown",
   "metadata": {},
   "source": [
    "#### Encoding"
   ]
  },
  {
   "cell_type": "code",
   "execution_count": 146,
   "metadata": {},
   "outputs": [
    {
     "data": {
      "text/plain": [
       "(1309, 32)"
      ]
     },
     "execution_count": 146,
     "metadata": {},
     "output_type": "execute_result"
    }
   ],
   "source": [
    "#copy before encoding\n",
    "features_copy = features.copy()\n",
    "\n",
    "#Enoding\n",
    "features = pd.get_dummies(features)\n",
    "\n",
    "#saving features columns name\n",
    "features_col = features.columns\n",
    "\n",
    "#shape\n",
    "features.shape"
   ]
  },
  {
   "cell_type": "code",
   "execution_count": 147,
   "metadata": {},
   "outputs": [
    {
     "data": {
      "text/html": [
       "<div>\n",
       "<style>\n",
       "    .dataframe thead tr:only-child th {\n",
       "        text-align: right;\n",
       "    }\n",
       "\n",
       "    .dataframe thead th {\n",
       "        text-align: left;\n",
       "    }\n",
       "\n",
       "    .dataframe tbody tr th {\n",
       "        vertical-align: top;\n",
       "    }\n",
       "</style>\n",
       "<table border=\"1\" class=\"dataframe\">\n",
       "  <thead>\n",
       "    <tr style=\"text-align: right;\">\n",
       "      <th></th>\n",
       "      <th>Age</th>\n",
       "      <th>SibSp</th>\n",
       "      <th>Parch</th>\n",
       "      <th>Fare</th>\n",
       "      <th>Pclass_1</th>\n",
       "      <th>Pclass_2</th>\n",
       "      <th>Pclass_3</th>\n",
       "      <th>Sex_female</th>\n",
       "      <th>Sex_male</th>\n",
       "      <th>Ticket_A</th>\n",
       "      <th>Ticket_C</th>\n",
       "      <th>Ticket_F</th>\n",
       "      <th>Ticket_L</th>\n",
       "      <th>Ticket_P</th>\n",
       "      <th>Ticket_S0</th>\n",
       "      <th>Ticket_S1</th>\n",
       "      <th>Ticket_S2</th>\n",
       "      <th>Ticket_SWPP</th>\n",
       "      <th>Ticket_W</th>\n",
       "      <th>Ticket_WW</th>\n",
       "      <th>Cabin_A</th>\n",
       "      <th>Cabin_B</th>\n",
       "      <th>Cabin_C</th>\n",
       "      <th>Cabin_D</th>\n",
       "      <th>Cabin_E</th>\n",
       "      <th>Cabin_F</th>\n",
       "      <th>Cabin_G</th>\n",
       "      <th>Cabin_T</th>\n",
       "      <th>Cabin_X</th>\n",
       "      <th>Embarked_C</th>\n",
       "      <th>Embarked_Q</th>\n",
       "      <th>Embarked_S</th>\n",
       "    </tr>\n",
       "  </thead>\n",
       "  <tbody>\n",
       "    <tr>\n",
       "      <th>0</th>\n",
       "      <td>22.0</td>\n",
       "      <td>1</td>\n",
       "      <td>0</td>\n",
       "      <td>1.981001</td>\n",
       "      <td>0</td>\n",
       "      <td>0</td>\n",
       "      <td>1</td>\n",
       "      <td>0</td>\n",
       "      <td>1</td>\n",
       "      <td>1</td>\n",
       "      <td>0</td>\n",
       "      <td>0</td>\n",
       "      <td>0</td>\n",
       "      <td>0</td>\n",
       "      <td>0</td>\n",
       "      <td>0</td>\n",
       "      <td>0</td>\n",
       "      <td>0</td>\n",
       "      <td>0</td>\n",
       "      <td>0</td>\n",
       "      <td>0</td>\n",
       "      <td>0</td>\n",
       "      <td>0</td>\n",
       "      <td>0</td>\n",
       "      <td>0</td>\n",
       "      <td>0</td>\n",
       "      <td>0</td>\n",
       "      <td>0</td>\n",
       "      <td>1</td>\n",
       "      <td>0</td>\n",
       "      <td>0</td>\n",
       "      <td>1</td>\n",
       "    </tr>\n",
       "    <tr>\n",
       "      <th>1</th>\n",
       "      <td>38.0</td>\n",
       "      <td>1</td>\n",
       "      <td>0</td>\n",
       "      <td>4.266662</td>\n",
       "      <td>1</td>\n",
       "      <td>0</td>\n",
       "      <td>0</td>\n",
       "      <td>1</td>\n",
       "      <td>0</td>\n",
       "      <td>0</td>\n",
       "      <td>0</td>\n",
       "      <td>0</td>\n",
       "      <td>0</td>\n",
       "      <td>1</td>\n",
       "      <td>0</td>\n",
       "      <td>0</td>\n",
       "      <td>0</td>\n",
       "      <td>0</td>\n",
       "      <td>0</td>\n",
       "      <td>0</td>\n",
       "      <td>0</td>\n",
       "      <td>0</td>\n",
       "      <td>1</td>\n",
       "      <td>0</td>\n",
       "      <td>0</td>\n",
       "      <td>0</td>\n",
       "      <td>0</td>\n",
       "      <td>0</td>\n",
       "      <td>0</td>\n",
       "      <td>1</td>\n",
       "      <td>0</td>\n",
       "      <td>0</td>\n",
       "    </tr>\n",
       "    <tr>\n",
       "      <th>2</th>\n",
       "      <td>26.0</td>\n",
       "      <td>0</td>\n",
       "      <td>0</td>\n",
       "      <td>2.070022</td>\n",
       "      <td>0</td>\n",
       "      <td>0</td>\n",
       "      <td>1</td>\n",
       "      <td>1</td>\n",
       "      <td>0</td>\n",
       "      <td>0</td>\n",
       "      <td>0</td>\n",
       "      <td>0</td>\n",
       "      <td>0</td>\n",
       "      <td>0</td>\n",
       "      <td>0</td>\n",
       "      <td>0</td>\n",
       "      <td>1</td>\n",
       "      <td>0</td>\n",
       "      <td>0</td>\n",
       "      <td>0</td>\n",
       "      <td>0</td>\n",
       "      <td>0</td>\n",
       "      <td>0</td>\n",
       "      <td>0</td>\n",
       "      <td>0</td>\n",
       "      <td>0</td>\n",
       "      <td>0</td>\n",
       "      <td>0</td>\n",
       "      <td>1</td>\n",
       "      <td>0</td>\n",
       "      <td>0</td>\n",
       "      <td>1</td>\n",
       "    </tr>\n",
       "    <tr>\n",
       "      <th>3</th>\n",
       "      <td>35.0</td>\n",
       "      <td>1</td>\n",
       "      <td>0</td>\n",
       "      <td>3.972177</td>\n",
       "      <td>1</td>\n",
       "      <td>0</td>\n",
       "      <td>0</td>\n",
       "      <td>1</td>\n",
       "      <td>0</td>\n",
       "      <td>0</td>\n",
       "      <td>0</td>\n",
       "      <td>0</td>\n",
       "      <td>0</td>\n",
       "      <td>0</td>\n",
       "      <td>0</td>\n",
       "      <td>0</td>\n",
       "      <td>0</td>\n",
       "      <td>0</td>\n",
       "      <td>1</td>\n",
       "      <td>0</td>\n",
       "      <td>0</td>\n",
       "      <td>0</td>\n",
       "      <td>1</td>\n",
       "      <td>0</td>\n",
       "      <td>0</td>\n",
       "      <td>0</td>\n",
       "      <td>0</td>\n",
       "      <td>0</td>\n",
       "      <td>0</td>\n",
       "      <td>0</td>\n",
       "      <td>0</td>\n",
       "      <td>1</td>\n",
       "    </tr>\n",
       "    <tr>\n",
       "      <th>4</th>\n",
       "      <td>35.0</td>\n",
       "      <td>0</td>\n",
       "      <td>0</td>\n",
       "      <td>2.085672</td>\n",
       "      <td>0</td>\n",
       "      <td>0</td>\n",
       "      <td>1</td>\n",
       "      <td>0</td>\n",
       "      <td>1</td>\n",
       "      <td>0</td>\n",
       "      <td>0</td>\n",
       "      <td>0</td>\n",
       "      <td>0</td>\n",
       "      <td>0</td>\n",
       "      <td>0</td>\n",
       "      <td>0</td>\n",
       "      <td>0</td>\n",
       "      <td>0</td>\n",
       "      <td>1</td>\n",
       "      <td>0</td>\n",
       "      <td>0</td>\n",
       "      <td>0</td>\n",
       "      <td>0</td>\n",
       "      <td>0</td>\n",
       "      <td>0</td>\n",
       "      <td>0</td>\n",
       "      <td>0</td>\n",
       "      <td>0</td>\n",
       "      <td>1</td>\n",
       "      <td>0</td>\n",
       "      <td>0</td>\n",
       "      <td>1</td>\n",
       "    </tr>\n",
       "  </tbody>\n",
       "</table>\n",
       "</div>"
      ],
      "text/plain": [
       "    Age  SibSp  Parch      Fare  Pclass_1  Pclass_2  Pclass_3  Sex_female  \\\n",
       "0  22.0      1      0  1.981001         0         0         1           0   \n",
       "1  38.0      1      0  4.266662         1         0         0           1   \n",
       "2  26.0      0      0  2.070022         0         0         1           1   \n",
       "3  35.0      1      0  3.972177         1         0         0           1   \n",
       "4  35.0      0      0  2.085672         0         0         1           0   \n",
       "\n",
       "   Sex_male  Ticket_A  Ticket_C  Ticket_F  Ticket_L  Ticket_P  Ticket_S0  \\\n",
       "0         1         1         0         0         0         0          0   \n",
       "1         0         0         0         0         0         1          0   \n",
       "2         0         0         0         0         0         0          0   \n",
       "3         0         0         0         0         0         0          0   \n",
       "4         1         0         0         0         0         0          0   \n",
       "\n",
       "   Ticket_S1  Ticket_S2  Ticket_SWPP  Ticket_W  Ticket_WW  Cabin_A  Cabin_B  \\\n",
       "0          0          0            0         0          0        0        0   \n",
       "1          0          0            0         0          0        0        0   \n",
       "2          0          1            0         0          0        0        0   \n",
       "3          0          0            0         1          0        0        0   \n",
       "4          0          0            0         1          0        0        0   \n",
       "\n",
       "   Cabin_C  Cabin_D  Cabin_E  Cabin_F  Cabin_G  Cabin_T  Cabin_X  Embarked_C  \\\n",
       "0        0        0        0        0        0        0        1           0   \n",
       "1        1        0        0        0        0        0        0           1   \n",
       "2        0        0        0        0        0        0        1           0   \n",
       "3        1        0        0        0        0        0        0           0   \n",
       "4        0        0        0        0        0        0        1           0   \n",
       "\n",
       "   Embarked_Q  Embarked_S  \n",
       "0           0           1  \n",
       "1           0           0  \n",
       "2           0           1  \n",
       "3           0           1  \n",
       "4           0           1  "
      ]
     },
     "execution_count": 147,
     "metadata": {},
     "output_type": "execute_result"
    }
   ],
   "source": [
    "features.head()\n"
   ]
  },
  {
   "cell_type": "markdown",
   "metadata": {},
   "source": [
    "#### Checking dummy columns <br>\n",
    "After creating dummy, I check if some features contain to many “0”. If yes, I will remove then to avoid adding “noise” into the data.\n",
    "\n",
    "**Reason: if a feature is compose of 99.9% of 0, it has no information power but add noise; therefor it can be remove.**\n"
   ]
  },
  {
   "cell_type": "code",
   "execution_count": 148,
   "metadata": {},
   "outputs": [
    {
     "name": "stdout",
     "output_type": "stream",
     "text": [
      "Ticket_L 0.383435582822\n",
      "Ticket_SWPP 0.153022188217\n",
      "Cabin_G 0.383435582822\n",
      "Cabin_T 0.0764525993884\n"
     ]
    }
   ],
   "source": [
    "def zero_amt(serie, thresold):\n",
    "    serie_one = features.groupby(serie)[serie].count()[1]/features.groupby(serie)[serie].count()[0] * 100\n",
    "    if serie_one < thresold:\n",
    "        print(serie, serie_one)\n",
    "        \n",
    "#loop with zerop_amt function\n",
    "thresold = 0.5 #in %\n",
    "for serie in features.columns[4:34]:  #loop thought the categorical features\n",
    "    zero_amt(serie, thresold = thresold)\n",
    "\n"
   ]
  },
  {
   "cell_type": "code",
   "execution_count": 149,
   "metadata": {},
   "outputs": [
    {
     "data": {
      "text/plain": [
       "(1309, 28)"
      ]
     },
     "execution_count": 149,
     "metadata": {},
     "output_type": "execute_result"
    }
   ],
   "source": [
    "#dropping columns\n",
    "features.drop(['Ticket_L', 'Ticket_SWPP','Cabin_G','Cabin_T'], inplace = True, axis = 1)\n",
    "features.shape"
   ]
  },
  {
   "cell_type": "markdown",
   "metadata": {},
   "source": [
    "#### Train and testing (for gplearn"
   ]
  },
  {
   "cell_type": "code",
   "execution_count": 150,
   "metadata": {
    "collapsed": true
   },
   "outputs": [],
   "source": [
    "X_train = features.iloc[:train_shape[0],:]\n",
    "X_test = features.iloc[train_shape[0]:,:]"
   ]
  },
  {
   "cell_type": "markdown",
   "metadata": {},
   "source": [
    "### Features Creation"
   ]
  },
  {
   "cell_type": "markdown",
   "metadata": {},
   "source": [
    "#### Genetic Programming with [gplearn](https://gplearn.readthedocs.io/en/stable/examples.html?highlight=hall_of_fame%20)<br>\n",
    "Generating 20 news features that are non-linear combinations of the existing features. By taking the least correlated features (here 20) and append them with the existing features, it “augments” the dataset. This augmentation might give a better representation of the data and, potentially increases the predicting power of some algorithms.\n",
    "\n",
    "Note: I will use tree-based methods or gradient boosting methods as main family of algorithms. Therefore, even if, the newly created features do not help at solving the classification tasks, it will have no impact on the results, since this “families of algorithm” preform features selection.\n",
    "\n"
   ]
  },
  {
   "cell_type": "code",
   "execution_count": 151,
   "metadata": {},
   "outputs": [
    {
     "name": "stdout",
     "output_type": "stream",
     "text": [
      "    |    Population Average   |             Best Individual              |\n",
      "---- ------------------------- ------------------------------------------ ----------\n",
      " Gen   Length          Fitness   Length          Fitness      OOB Fitness  Time Left\n"
     ]
    },
    {
     "name": "stderr",
     "output_type": "stream",
     "text": [
      "[Parallel(n_jobs=3)]: Done   3 out of   3 | elapsed:    2.2s finished\n"
     ]
    },
    {
     "name": "stdout",
     "output_type": "stream",
     "text": [
      "   0     8.22   0.130786054513        3   0.578600006812   0.548855549135     48.77s\n"
     ]
    },
    {
     "name": "stderr",
     "output_type": "stream",
     "text": [
      "[Parallel(n_jobs=3)]: Done   3 out of   3 | elapsed:    2.6s finished\n"
     ]
    },
    {
     "name": "stdout",
     "output_type": "stream",
     "text": [
      "   1      7.4   0.394261820151       11   0.601270978114   0.670688898806     48.98s\n"
     ]
    },
    {
     "name": "stderr",
     "output_type": "stream",
     "text": [
      "[Parallel(n_jobs=3)]: Done   3 out of   3 | elapsed:    3.0s finished\n"
     ]
    },
    {
     "name": "stdout",
     "output_type": "stream",
     "text": [
      "   2     4.76   0.486446431222       10   0.618084118021   0.526701537212     50.00s\n"
     ]
    },
    {
     "name": "stderr",
     "output_type": "stream",
     "text": [
      "[Parallel(n_jobs=3)]: Done   3 out of   3 | elapsed:    3.0s finished\n"
     ]
    },
    {
     "name": "stdout",
     "output_type": "stream",
     "text": [
      "   3     6.37   0.482232606034        5   0.630861287054   0.245928797347     48.91s\n"
     ]
    },
    {
     "name": "stderr",
     "output_type": "stream",
     "text": [
      "[Parallel(n_jobs=3)]: Done   3 out of   3 | elapsed:    3.5s finished\n"
     ]
    },
    {
     "name": "stdout",
     "output_type": "stream",
     "text": [
      "   4     7.77   0.499143810001       12   0.640773716152   0.348849550653     48.44s\n"
     ]
    },
    {
     "name": "stderr",
     "output_type": "stream",
     "text": [
      "[Parallel(n_jobs=3)]: Done   3 out of   3 | elapsed:    4.0s finished\n"
     ]
    },
    {
     "name": "stdout",
     "output_type": "stream",
     "text": [
      "   5     10.3   0.515045006228       16   0.634433222261   0.428441604951     48.00s\n"
     ]
    },
    {
     "name": "stderr",
     "output_type": "stream",
     "text": [
      "[Parallel(n_jobs=3)]: Done   3 out of   3 | elapsed:    3.9s finished\n"
     ]
    },
    {
     "name": "stdout",
     "output_type": "stream",
     "text": [
      "   6    13.11   0.527748074193       17   0.638797672719   0.511167976764     46.06s\n"
     ]
    },
    {
     "name": "stderr",
     "output_type": "stream",
     "text": [
      "[Parallel(n_jobs=3)]: Done   3 out of   3 | elapsed:    4.4s finished\n"
     ]
    },
    {
     "name": "stdout",
     "output_type": "stream",
     "text": [
      "   7    13.51   0.528526636256       15    0.64221948904    0.51928293368     44.53s\n"
     ]
    },
    {
     "name": "stderr",
     "output_type": "stream",
     "text": [
      "[Parallel(n_jobs=3)]: Done   3 out of   3 | elapsed:    3.1s finished\n"
     ]
    },
    {
     "name": "stdout",
     "output_type": "stream",
     "text": [
      "   8    14.34   0.542472699117       22   0.654701961336   0.355905824343     40.53s\n"
     ]
    },
    {
     "name": "stderr",
     "output_type": "stream",
     "text": [
      "[Parallel(n_jobs=3)]: Done   3 out of   3 | elapsed:    4.8s finished\n"
     ]
    },
    {
     "name": "stdout",
     "output_type": "stream",
     "text": [
      "   9    16.48   0.558058393742       35   0.649663241006   0.415493884551     38.33s\n"
     ]
    },
    {
     "name": "stderr",
     "output_type": "stream",
     "text": [
      "[Parallel(n_jobs=3)]: Done   3 out of   3 | elapsed:    3.5s finished\n"
     ]
    },
    {
     "name": "stdout",
     "output_type": "stream",
     "text": [
      "  10    18.07   0.573869950857       20   0.654884075136   0.386724912634     34.56s\n"
     ]
    },
    {
     "name": "stderr",
     "output_type": "stream",
     "text": [
      "[Parallel(n_jobs=3)]: Done   3 out of   3 | elapsed:    3.2s finished\n"
     ]
    },
    {
     "name": "stdout",
     "output_type": "stream",
     "text": [
      "  11    17.45   0.570943758842       20   0.657264833313   0.416798175079     30.54s\n"
     ]
    },
    {
     "name": "stderr",
     "output_type": "stream",
     "text": [
      "[Parallel(n_jobs=3)]: Done   3 out of   3 | elapsed:    4.0s finished\n"
     ]
    },
    {
     "name": "stdout",
     "output_type": "stream",
     "text": [
      "  12    17.28   0.574314924473        9   0.657211365034   0.381418820684     27.08s\n"
     ]
    },
    {
     "name": "stderr",
     "output_type": "stream",
     "text": [
      "[Parallel(n_jobs=3)]: Done   3 out of   3 | elapsed:    3.6s finished\n"
     ]
    },
    {
     "name": "stdout",
     "output_type": "stream",
     "text": [
      "  13    17.42   0.576535501737       36   0.666747688863   0.314353987809     23.30s\n"
     ]
    },
    {
     "name": "stderr",
     "output_type": "stream",
     "text": [
      "[Parallel(n_jobs=3)]: Done   3 out of   3 | elapsed:    3.4s finished\n"
     ]
    },
    {
     "name": "stdout",
     "output_type": "stream",
     "text": [
      "  14    17.07     0.5805371757       11   0.657332779889   0.372115807165     19.40s\n"
     ]
    },
    {
     "name": "stderr",
     "output_type": "stream",
     "text": [
      "[Parallel(n_jobs=3)]: Done   3 out of   3 | elapsed:    3.8s finished\n"
     ]
    },
    {
     "name": "stdout",
     "output_type": "stream",
     "text": [
      "  15    17.37   0.580410262882       47   0.657218006357   0.434615716192     15.63s\n"
     ]
    },
    {
     "name": "stderr",
     "output_type": "stream",
     "text": [
      "[Parallel(n_jobs=3)]: Done   3 out of   3 | elapsed:    3.5s finished\n"
     ]
    },
    {
     "name": "stdout",
     "output_type": "stream",
     "text": [
      "  16    16.36   0.581368123375       31   0.654425223075   0.464680899156     11.74s\n"
     ]
    },
    {
     "name": "stderr",
     "output_type": "stream",
     "text": [
      "[Parallel(n_jobs=3)]: Done   3 out of   3 | elapsed:    3.3s finished\n"
     ]
    },
    {
     "name": "stdout",
     "output_type": "stream",
     "text": [
      "  17    16.67   0.588655412584       22   0.661340490055   0.409460154706      7.81s\n"
     ]
    },
    {
     "name": "stderr",
     "output_type": "stream",
     "text": [
      "[Parallel(n_jobs=3)]: Done   3 out of   3 | elapsed:    3.7s finished\n"
     ]
    },
    {
     "name": "stdout",
     "output_type": "stream",
     "text": [
      "  18    16.49   0.586540614797       23   0.659109678362   0.458772344919      3.91s\n"
     ]
    },
    {
     "name": "stderr",
     "output_type": "stream",
     "text": [
      "[Parallel(n_jobs=3)]: Done   3 out of   3 | elapsed:    3.3s finished\n"
     ]
    },
    {
     "name": "stdout",
     "output_type": "stream",
     "text": [
      "  19    16.65   0.584217177239       25   0.658094345705   0.427935055515      0.00s\n"
     ]
    }
   ],
   "source": [
    "from gplearn.genetic import SymbolicTransformer\n",
    "\n",
    "# possible ways of combining features for algorithm\n",
    "function_set = ['add', 'sub', 'mul', 'div',\n",
    "                'sqrt', 'log', 'abs', 'neg', 'inv',\n",
    "                'max', 'min', 'sin', 'cos', 'tan']\n",
    "\n",
    "#setting up the genetic algorithm\n",
    "gp = SymbolicTransformer(generations=20,        #number of generation to evolve\n",
    "                         population_size=2000,\n",
    "                         hall_of_fame=100,\n",
    "                         n_components=20,      #number of best \"hall of fame\" to be return (least correlated)\n",
    "                         function_set=function_set,\n",
    "                         parsimony_coefficient=0.0005,\n",
    "                         max_samples=0.9,\n",
    "                         verbose=10,\n",
    "                         random_state=42,\n",
    "                         n_jobs=3,\n",
    "                         metric = 'spearman')\n",
    "\n",
    "#gp fit\n",
    "gp_fit = gp.fit(X_train, y_train)\n",
    "\n",
    "#Transform features\n",
    "gp_transform = gp_fit.transform(features)"
   ]
  },
  {
   "cell_type": "code",
   "execution_count": 152,
   "metadata": {
    "scrolled": true
   },
   "outputs": [
    {
     "data": {
      "text/html": [
       "<div>\n",
       "<style>\n",
       "    .dataframe thead tr:only-child th {\n",
       "        text-align: right;\n",
       "    }\n",
       "\n",
       "    .dataframe thead th {\n",
       "        text-align: left;\n",
       "    }\n",
       "\n",
       "    .dataframe tbody tr th {\n",
       "        vertical-align: top;\n",
       "    }\n",
       "</style>\n",
       "<table border=\"1\" class=\"dataframe\">\n",
       "  <thead>\n",
       "    <tr style=\"text-align: right;\">\n",
       "      <th></th>\n",
       "      <th>Age</th>\n",
       "      <th>SibSp</th>\n",
       "      <th>Parch</th>\n",
       "      <th>Fare</th>\n",
       "      <th>Pclass_1</th>\n",
       "      <th>Pclass_2</th>\n",
       "      <th>Pclass_3</th>\n",
       "      <th>Sex_female</th>\n",
       "      <th>Sex_male</th>\n",
       "      <th>Ticket_A</th>\n",
       "      <th>Ticket_C</th>\n",
       "      <th>Ticket_F</th>\n",
       "      <th>Ticket_P</th>\n",
       "      <th>Ticket_S0</th>\n",
       "      <th>Ticket_S1</th>\n",
       "      <th>Ticket_S2</th>\n",
       "      <th>Ticket_W</th>\n",
       "      <th>Ticket_WW</th>\n",
       "      <th>Cabin_A</th>\n",
       "      <th>Cabin_B</th>\n",
       "      <th>Cabin_C</th>\n",
       "      <th>Cabin_D</th>\n",
       "      <th>Cabin_E</th>\n",
       "      <th>Cabin_F</th>\n",
       "      <th>Cabin_X</th>\n",
       "      <th>Embarked_C</th>\n",
       "      <th>Embarked_Q</th>\n",
       "      <th>Embarked_S</th>\n",
       "      <th>gp_set_0</th>\n",
       "      <th>gp_set_1</th>\n",
       "      <th>gp_set_2</th>\n",
       "      <th>gp_set_3</th>\n",
       "      <th>gp_set_4</th>\n",
       "      <th>gp_set_5</th>\n",
       "      <th>gp_set_6</th>\n",
       "      <th>gp_set_7</th>\n",
       "      <th>gp_set_8</th>\n",
       "      <th>gp_set_9</th>\n",
       "      <th>gp_set_10</th>\n",
       "      <th>gp_set_11</th>\n",
       "      <th>gp_set_12</th>\n",
       "      <th>gp_set_13</th>\n",
       "      <th>gp_set_14</th>\n",
       "      <th>gp_set_15</th>\n",
       "      <th>gp_set_16</th>\n",
       "      <th>gp_set_17</th>\n",
       "      <th>gp_set_18</th>\n",
       "      <th>gp_set_19</th>\n",
       "    </tr>\n",
       "  </thead>\n",
       "  <tbody>\n",
       "    <tr>\n",
       "      <th>0</th>\n",
       "      <td>22.0</td>\n",
       "      <td>1</td>\n",
       "      <td>0</td>\n",
       "      <td>1.981001</td>\n",
       "      <td>0</td>\n",
       "      <td>0</td>\n",
       "      <td>1</td>\n",
       "      <td>0</td>\n",
       "      <td>1</td>\n",
       "      <td>1</td>\n",
       "      <td>0</td>\n",
       "      <td>0</td>\n",
       "      <td>0</td>\n",
       "      <td>0</td>\n",
       "      <td>0</td>\n",
       "      <td>0</td>\n",
       "      <td>0</td>\n",
       "      <td>0</td>\n",
       "      <td>0</td>\n",
       "      <td>0</td>\n",
       "      <td>0</td>\n",
       "      <td>0</td>\n",
       "      <td>0</td>\n",
       "      <td>0</td>\n",
       "      <td>1</td>\n",
       "      <td>0</td>\n",
       "      <td>0</td>\n",
       "      <td>1</td>\n",
       "      <td>4.0</td>\n",
       "      <td>5.0</td>\n",
       "      <td>2.0</td>\n",
       "      <td>4.0</td>\n",
       "      <td>4.0</td>\n",
       "      <td>6.0</td>\n",
       "      <td>4.0</td>\n",
       "      <td>6.0</td>\n",
       "      <td>3.0</td>\n",
       "      <td>4.0</td>\n",
       "      <td>5.0</td>\n",
       "      <td>6.0</td>\n",
       "      <td>2.000000</td>\n",
       "      <td>3.0</td>\n",
       "      <td>6.0</td>\n",
       "      <td>5.0</td>\n",
       "      <td>7.0</td>\n",
       "      <td>3.0</td>\n",
       "      <td>7.0</td>\n",
       "      <td>6.0</td>\n",
       "    </tr>\n",
       "    <tr>\n",
       "      <th>1</th>\n",
       "      <td>38.0</td>\n",
       "      <td>1</td>\n",
       "      <td>0</td>\n",
       "      <td>4.266662</td>\n",
       "      <td>1</td>\n",
       "      <td>0</td>\n",
       "      <td>0</td>\n",
       "      <td>1</td>\n",
       "      <td>0</td>\n",
       "      <td>0</td>\n",
       "      <td>0</td>\n",
       "      <td>0</td>\n",
       "      <td>1</td>\n",
       "      <td>0</td>\n",
       "      <td>0</td>\n",
       "      <td>0</td>\n",
       "      <td>0</td>\n",
       "      <td>0</td>\n",
       "      <td>0</td>\n",
       "      <td>0</td>\n",
       "      <td>1</td>\n",
       "      <td>0</td>\n",
       "      <td>0</td>\n",
       "      <td>0</td>\n",
       "      <td>0</td>\n",
       "      <td>1</td>\n",
       "      <td>0</td>\n",
       "      <td>0</td>\n",
       "      <td>0.0</td>\n",
       "      <td>0.0</td>\n",
       "      <td>-1.0</td>\n",
       "      <td>0.0</td>\n",
       "      <td>0.0</td>\n",
       "      <td>0.0</td>\n",
       "      <td>0.0</td>\n",
       "      <td>0.0</td>\n",
       "      <td>0.0</td>\n",
       "      <td>1.0</td>\n",
       "      <td>1.0</td>\n",
       "      <td>0.0</td>\n",
       "      <td>0.000000</td>\n",
       "      <td>0.0</td>\n",
       "      <td>1.0</td>\n",
       "      <td>1.0</td>\n",
       "      <td>-1.0</td>\n",
       "      <td>1.0</td>\n",
       "      <td>0.0</td>\n",
       "      <td>0.0</td>\n",
       "    </tr>\n",
       "    <tr>\n",
       "      <th>2</th>\n",
       "      <td>26.0</td>\n",
       "      <td>0</td>\n",
       "      <td>0</td>\n",
       "      <td>2.070022</td>\n",
       "      <td>0</td>\n",
       "      <td>0</td>\n",
       "      <td>1</td>\n",
       "      <td>1</td>\n",
       "      <td>0</td>\n",
       "      <td>0</td>\n",
       "      <td>0</td>\n",
       "      <td>0</td>\n",
       "      <td>0</td>\n",
       "      <td>0</td>\n",
       "      <td>0</td>\n",
       "      <td>1</td>\n",
       "      <td>0</td>\n",
       "      <td>0</td>\n",
       "      <td>0</td>\n",
       "      <td>0</td>\n",
       "      <td>0</td>\n",
       "      <td>0</td>\n",
       "      <td>0</td>\n",
       "      <td>0</td>\n",
       "      <td>1</td>\n",
       "      <td>0</td>\n",
       "      <td>0</td>\n",
       "      <td>1</td>\n",
       "      <td>2.0</td>\n",
       "      <td>3.0</td>\n",
       "      <td>1.0</td>\n",
       "      <td>1.0</td>\n",
       "      <td>2.0</td>\n",
       "      <td>3.0</td>\n",
       "      <td>2.0</td>\n",
       "      <td>2.0</td>\n",
       "      <td>2.0</td>\n",
       "      <td>2.0</td>\n",
       "      <td>3.0</td>\n",
       "      <td>2.0</td>\n",
       "      <td>0.841471</td>\n",
       "      <td>1.0</td>\n",
       "      <td>3.0</td>\n",
       "      <td>2.0</td>\n",
       "      <td>1.0</td>\n",
       "      <td>2.0</td>\n",
       "      <td>3.0</td>\n",
       "      <td>3.0</td>\n",
       "    </tr>\n",
       "    <tr>\n",
       "      <th>3</th>\n",
       "      <td>35.0</td>\n",
       "      <td>1</td>\n",
       "      <td>0</td>\n",
       "      <td>3.972177</td>\n",
       "      <td>1</td>\n",
       "      <td>0</td>\n",
       "      <td>0</td>\n",
       "      <td>1</td>\n",
       "      <td>0</td>\n",
       "      <td>0</td>\n",
       "      <td>0</td>\n",
       "      <td>0</td>\n",
       "      <td>0</td>\n",
       "      <td>0</td>\n",
       "      <td>0</td>\n",
       "      <td>0</td>\n",
       "      <td>1</td>\n",
       "      <td>0</td>\n",
       "      <td>0</td>\n",
       "      <td>0</td>\n",
       "      <td>1</td>\n",
       "      <td>0</td>\n",
       "      <td>0</td>\n",
       "      <td>0</td>\n",
       "      <td>0</td>\n",
       "      <td>0</td>\n",
       "      <td>0</td>\n",
       "      <td>1</td>\n",
       "      <td>0.0</td>\n",
       "      <td>0.0</td>\n",
       "      <td>-1.0</td>\n",
       "      <td>0.0</td>\n",
       "      <td>0.0</td>\n",
       "      <td>0.0</td>\n",
       "      <td>0.0</td>\n",
       "      <td>0.0</td>\n",
       "      <td>0.0</td>\n",
       "      <td>1.0</td>\n",
       "      <td>1.0</td>\n",
       "      <td>0.0</td>\n",
       "      <td>0.000000</td>\n",
       "      <td>0.0</td>\n",
       "      <td>1.0</td>\n",
       "      <td>1.0</td>\n",
       "      <td>-1.0</td>\n",
       "      <td>1.0</td>\n",
       "      <td>0.0</td>\n",
       "      <td>0.0</td>\n",
       "    </tr>\n",
       "    <tr>\n",
       "      <th>4</th>\n",
       "      <td>35.0</td>\n",
       "      <td>0</td>\n",
       "      <td>0</td>\n",
       "      <td>2.085672</td>\n",
       "      <td>0</td>\n",
       "      <td>0</td>\n",
       "      <td>1</td>\n",
       "      <td>0</td>\n",
       "      <td>1</td>\n",
       "      <td>0</td>\n",
       "      <td>0</td>\n",
       "      <td>0</td>\n",
       "      <td>0</td>\n",
       "      <td>0</td>\n",
       "      <td>0</td>\n",
       "      <td>0</td>\n",
       "      <td>1</td>\n",
       "      <td>0</td>\n",
       "      <td>0</td>\n",
       "      <td>0</td>\n",
       "      <td>0</td>\n",
       "      <td>0</td>\n",
       "      <td>0</td>\n",
       "      <td>0</td>\n",
       "      <td>1</td>\n",
       "      <td>0</td>\n",
       "      <td>0</td>\n",
       "      <td>1</td>\n",
       "      <td>4.0</td>\n",
       "      <td>5.0</td>\n",
       "      <td>2.0</td>\n",
       "      <td>4.0</td>\n",
       "      <td>4.0</td>\n",
       "      <td>6.0</td>\n",
       "      <td>4.0</td>\n",
       "      <td>6.0</td>\n",
       "      <td>3.0</td>\n",
       "      <td>4.0</td>\n",
       "      <td>5.0</td>\n",
       "      <td>6.0</td>\n",
       "      <td>2.000000</td>\n",
       "      <td>3.0</td>\n",
       "      <td>6.0</td>\n",
       "      <td>5.0</td>\n",
       "      <td>7.0</td>\n",
       "      <td>3.0</td>\n",
       "      <td>7.0</td>\n",
       "      <td>6.0</td>\n",
       "    </tr>\n",
       "  </tbody>\n",
       "</table>\n",
       "</div>"
      ],
      "text/plain": [
       "    Age  SibSp  Parch      Fare  Pclass_1  Pclass_2  Pclass_3  Sex_female  \\\n",
       "0  22.0      1      0  1.981001         0         0         1           0   \n",
       "1  38.0      1      0  4.266662         1         0         0           1   \n",
       "2  26.0      0      0  2.070022         0         0         1           1   \n",
       "3  35.0      1      0  3.972177         1         0         0           1   \n",
       "4  35.0      0      0  2.085672         0         0         1           0   \n",
       "\n",
       "   Sex_male  Ticket_A  Ticket_C  Ticket_F  Ticket_P  Ticket_S0  Ticket_S1  \\\n",
       "0         1         1         0         0         0          0          0   \n",
       "1         0         0         0         0         1          0          0   \n",
       "2         0         0         0         0         0          0          0   \n",
       "3         0         0         0         0         0          0          0   \n",
       "4         1         0         0         0         0          0          0   \n",
       "\n",
       "   Ticket_S2  Ticket_W  Ticket_WW  Cabin_A  Cabin_B  Cabin_C  Cabin_D  \\\n",
       "0          0         0          0        0        0        0        0   \n",
       "1          0         0          0        0        0        1        0   \n",
       "2          1         0          0        0        0        0        0   \n",
       "3          0         1          0        0        0        1        0   \n",
       "4          0         1          0        0        0        0        0   \n",
       "\n",
       "   Cabin_E  Cabin_F  Cabin_X  Embarked_C  Embarked_Q  Embarked_S  gp_set_0  \\\n",
       "0        0        0        1           0           0           1       4.0   \n",
       "1        0        0        0           1           0           0       0.0   \n",
       "2        0        0        1           0           0           1       2.0   \n",
       "3        0        0        0           0           0           1       0.0   \n",
       "4        0        0        1           0           0           1       4.0   \n",
       "\n",
       "   gp_set_1  gp_set_2  gp_set_3  gp_set_4  gp_set_5  gp_set_6  gp_set_7  \\\n",
       "0       5.0       2.0       4.0       4.0       6.0       4.0       6.0   \n",
       "1       0.0      -1.0       0.0       0.0       0.0       0.0       0.0   \n",
       "2       3.0       1.0       1.0       2.0       3.0       2.0       2.0   \n",
       "3       0.0      -1.0       0.0       0.0       0.0       0.0       0.0   \n",
       "4       5.0       2.0       4.0       4.0       6.0       4.0       6.0   \n",
       "\n",
       "   gp_set_8  gp_set_9  gp_set_10  gp_set_11  gp_set_12  gp_set_13  gp_set_14  \\\n",
       "0       3.0       4.0        5.0        6.0   2.000000        3.0        6.0   \n",
       "1       0.0       1.0        1.0        0.0   0.000000        0.0        1.0   \n",
       "2       2.0       2.0        3.0        2.0   0.841471        1.0        3.0   \n",
       "3       0.0       1.0        1.0        0.0   0.000000        0.0        1.0   \n",
       "4       3.0       4.0        5.0        6.0   2.000000        3.0        6.0   \n",
       "\n",
       "   gp_set_15  gp_set_16  gp_set_17  gp_set_18  gp_set_19  \n",
       "0        5.0        7.0        3.0        7.0        6.0  \n",
       "1        1.0       -1.0        1.0        0.0        0.0  \n",
       "2        2.0        1.0        2.0        3.0        3.0  \n",
       "3        1.0       -1.0        1.0        0.0        0.0  \n",
       "4        5.0        7.0        3.0        7.0        6.0  "
      ]
     },
     "execution_count": 152,
     "metadata": {},
     "output_type": "execute_result"
    }
   ],
   "source": [
    "#Create a DataFrame\n",
    "df_gp = pd.DataFrame(gp_transform)  #create a dataframe\n",
    "df_gp.columns = ['gp_set_' + str(col) for col in df_gp.columns] #assign column name\n",
    "df_gp.index = features.index  #assign index of the features\n",
    "\n",
    "#Concate feature and gp DataFrame\n",
    "features = pd.concat([features, df_gp], axis = 1)\n",
    "\n",
    "features.head()"
   ]
  },
  {
   "cell_type": "code",
   "execution_count": 153,
   "metadata": {
    "collapsed": true
   },
   "outputs": [],
   "source": [
    "#splitting again the features\n",
    "X_train = features.iloc[:train_shape[0],:]\n",
    "X_test = features.iloc[train_shape[0]:,:]"
   ]
  },
  {
   "cell_type": "markdown",
   "metadata": {},
   "source": [
    "## Modelling"
   ]
  },
  {
   "cell_type": "markdown",
   "metadata": {},
   "source": [
    "#### Modelling Libraries"
   ]
  },
  {
   "cell_type": "code",
   "execution_count": 154,
   "metadata": {
    "collapsed": true
   },
   "outputs": [],
   "source": [
    "from sklearn.ensemble import RandomForestClassifier\n",
    "from sklearn.model_selection import KFold\n",
    "from sklearn.model_selection import cross_val_score\n",
    "from sklearn.pipeline import make_pipeline\n",
    "from sklearn.preprocessing import RobustScaler\n",
    "\n",
    "from sklearn.ensemble import GradientBoostingClassifier, RandomForestClassifier, VotingClassifier\n",
    "from sklearn.model_selection import GridSearchCV, train_test_split\n",
    "from xgboost import XGBClassifier\n",
    "from lightgbm import LGBMClassifier\n",
    "from sklearn.model_selection import cross_val_score\n",
    "from sklearn.metrics import accuracy_score\n",
    "from sklearn.model_selection import KFold\n",
    "from sklearn.svm import SVC"
   ]
  },
  {
   "cell_type": "markdown",
   "metadata": {},
   "source": [
    "#### Kfold and Cross Val"
   ]
  },
  {
   "cell_type": "code",
   "execution_count": 155,
   "metadata": {
    "collapsed": true
   },
   "outputs": [],
   "source": [
    "#kfold\n",
    "kfold = KFold(n_splits=3, shuffle=False, random_state=42)\n",
    "\n",
    "#Cross val function\n",
    "def classification_crossvalscore(model, x, y):\n",
    "    acc = cross_val_score(model, x, y, scoring = 'accuracy', cv = kfold)\n",
    "    return acc\n"
   ]
  },
  {
   "cell_type": "markdown",
   "metadata": {},
   "source": [
    "### Base model-RF (no GridSearch)"
   ]
  },
  {
   "cell_type": "code",
   "execution_count": 156,
   "metadata": {
    "collapsed": true
   },
   "outputs": [],
   "source": [
    "#model-RF\n",
    "rf = RandomForestClassifier()\n",
    "\n",
    "#Model fit\n",
    "#RF_fit=RF.fit(X_train,y_train)\n"
   ]
  },
  {
   "cell_type": "markdown",
   "metadata": {},
   "source": [
    "#### In Sampe Scoring"
   ]
  },
  {
   "cell_type": "code",
   "execution_count": 157,
   "metadata": {},
   "outputs": [
    {
     "data": {
      "text/plain": [
       "0.79685746352413023"
      ]
     },
     "execution_count": 157,
     "metadata": {},
     "output_type": "execute_result"
    }
   ],
   "source": [
    "cross_val_score(rf, X_train, y_train).mean()"
   ]
  },
  {
   "cell_type": "markdown",
   "metadata": {},
   "source": [
    "### Voting Classifier-Sklearn"
   ]
  },
  {
   "cell_type": "code",
   "execution_count": 158,
   "metadata": {
    "collapsed": true
   },
   "outputs": [],
   "source": [
    "#GBM\n",
    "model1 = GradientBoostingClassifier(criterion='friedman_mse',\n",
    "                                    learning_rate= 1, \n",
    "                                    loss= 'deviance',\n",
    "                                    max_depth= 100, \n",
    "                                    n_estimators= 100)\n",
    "\n",
    "#XGBoost\n",
    "model2 = XGBClassifier(booster='gbtree',\n",
    "                       gamma= 0.4, \n",
    "                       learning_rate= 0.01,\n",
    "                       max_depth= 10,\n",
    "                       n_estimators= 350, \n",
    "                       objective= 'binary:logistic')\n",
    "\n",
    "#model2 = model2.fit(X_train,y_train)\n",
    "\n",
    "#Random Forest\n",
    "model3 = RandomForestClassifier(criterion= 'gini',\n",
    "                                max_depth = 100,\n",
    "                                max_features = None,\n",
    "                                n_estimators= 600)\n",
    "\n",
    "\n",
    "#lightGBM\n",
    "model4 = LGBMClassifier(boosting_type = 'dart',\n",
    "                        learning_rate = 0.01,\n",
    "                        max_depth = -1,\n",
    "                        n_estimators = 1000,\n",
    "                        num_leaves = 31)\n",
    "\n",
    "#SVM\n",
    "model5 = SVC(C= 50,\n",
    "             gamma= 0.001,\n",
    "             kernel= 'rbf',\n",
    "             probability=True)\n"
   ]
  },
  {
   "cell_type": "code",
   "execution_count": 159,
   "metadata": {},
   "outputs": [
    {
     "name": "stdout",
     "output_type": "stream",
     "text": [
      "gbm 0.810325476992\n",
      "xgb 0.826038159371\n",
      "rf 0.810325476992\n",
      "lgbm 0.821548821549\n",
      "svm 0.837261503928\n",
      "Voting Classifier 0.830527497194\n"
     ]
    }
   ],
   "source": [
    "#Create model Framework\n",
    "cf1 = model1\n",
    "cf2 = model2\n",
    "cf3 = model3\n",
    "cf4 = model4\n",
    "cf5 = model5\n",
    "\n",
    "#list of estimator with names\n",
    "estimators = [('gbm', cf1),('xgb', cf2),('rf', cf3), ('lgbm', cf4), ('svm', cf4)]\n",
    "\n",
    "#Voting Classifier\n",
    "ecf = VotingClassifier(estimators= estimators,\n",
    "                          voting='soft',            #soft for probability\n",
    "                          weights=[0,2,0,2,4],\n",
    "                          n_jobs=1,\n",
    "                          flatten_transform=None)\n",
    "\n",
    "#Display Voting Classifier score\n",
    "for clf, label in zip([cf1, cf2,cf3,cf4,cf5, ecf], ['gbm', 'xgb', 'rf','lgbm','svm','Voting Classifier']):\n",
    "    scores = cross_val_score(clf, X_train, y_train, cv=kfold, scoring='accuracy').mean()\n",
    "    print(label, scores)\n",
    "\n",
    "#Voting Classifier fit\n",
    "vc = ecf.fit(X_train, y_train)\n",
    "\n",
    "#Voting Classifier predict\n",
    "#vc.predict(X_test)"
   ]
  },
  {
   "cell_type": "code",
   "execution_count": 160,
   "metadata": {
    "collapsed": true
   },
   "outputs": [],
   "source": [
    "#Sklearn submission\n",
    "#submission = pd.DataFrame()\n",
    "#submission['PassengerId'] = test_id\n",
    "#submission['Survived'] = prediction\n",
    "#submission.to_csv(\"sklearn_sub\",index = False)"
   ]
  },
  {
   "cell_type": "markdown",
   "metadata": {
    "collapsed": true
   },
   "source": [
    "## [H20](https://www.h2o.ai/) Framework"
   ]
  },
  {
   "cell_type": "markdown",
   "metadata": {},
   "source": [
    "##### Connect to H20"
   ]
  },
  {
   "cell_type": "code",
   "execution_count": 161,
   "metadata": {},
   "outputs": [
    {
     "name": "stdout",
     "output_type": "stream",
     "text": [
      "Checking whether there is an H2O instance running at http://localhost:54323. connected.\n"
     ]
    },
    {
     "data": {
      "text/html": [
       "<div style=\"overflow:auto\"><table style=\"width:50%\"><tr><td>H2O cluster uptime:</td>\n",
       "<td>1 hour 2 mins</td></tr>\n",
       "<tr><td>H2O cluster timezone:</td>\n",
       "<td>Europe/Berlin</td></tr>\n",
       "<tr><td>H2O data parsing timezone:</td>\n",
       "<td>UTC</td></tr>\n",
       "<tr><td>H2O cluster version:</td>\n",
       "<td>3.18.0.8</td></tr>\n",
       "<tr><td>H2O cluster version age:</td>\n",
       "<td>17 days </td></tr>\n",
       "<tr><td>H2O cluster name:</td>\n",
       "<td>H2O_from_python_viret_kgwe4d</td></tr>\n",
       "<tr><td>H2O cluster total nodes:</td>\n",
       "<td>1</td></tr>\n",
       "<tr><td>H2O cluster free memory:</td>\n",
       "<td>1.553 Gb</td></tr>\n",
       "<tr><td>H2O cluster total cores:</td>\n",
       "<td>4</td></tr>\n",
       "<tr><td>H2O cluster allowed cores:</td>\n",
       "<td>4</td></tr>\n",
       "<tr><td>H2O cluster status:</td>\n",
       "<td>locked, healthy</td></tr>\n",
       "<tr><td>H2O connection url:</td>\n",
       "<td>http://localhost:54323</td></tr>\n",
       "<tr><td>H2O connection proxy:</td>\n",
       "<td>None</td></tr>\n",
       "<tr><td>H2O internal security:</td>\n",
       "<td>False</td></tr>\n",
       "<tr><td>H2O API Extensions:</td>\n",
       "<td>Algos, AutoML, Core V3, Core V4</td></tr>\n",
       "<tr><td>Python version:</td>\n",
       "<td>3.6.3 final</td></tr></table></div>"
      ],
      "text/plain": [
       "--------------------------  -------------------------------\n",
       "H2O cluster uptime:         1 hour 2 mins\n",
       "H2O cluster timezone:       Europe/Berlin\n",
       "H2O data parsing timezone:  UTC\n",
       "H2O cluster version:        3.18.0.8\n",
       "H2O cluster version age:    17 days\n",
       "H2O cluster name:           H2O_from_python_viret_kgwe4d\n",
       "H2O cluster total nodes:    1\n",
       "H2O cluster free memory:    1.553 Gb\n",
       "H2O cluster total cores:    4\n",
       "H2O cluster allowed cores:  4\n",
       "H2O cluster status:         locked, healthy\n",
       "H2O connection url:         http://localhost:54323\n",
       "H2O connection proxy:\n",
       "H2O internal security:      False\n",
       "H2O API Extensions:         Algos, AutoML, Core V3, Core V4\n",
       "Python version:             3.6.3 final\n",
       "--------------------------  -------------------------------"
      ]
     },
     "metadata": {},
     "output_type": "display_data"
    }
   ],
   "source": [
    "# Load the H2O library and start up the H2O cluter locally on your machine\n",
    "import h2o\n",
    "h2o.init(ip=\"localhost\", port=54323)\n",
    "\n",
    "#libaries\n",
    "from h2o.estimators.random_forest import H2ORandomForestEstimator\n",
    "from h2o.estimators.gbm import H2OGradientBoostingEstimator\n",
    "from h2o.estimators.stackedensemble import H2OStackedEnsembleEstimator\n",
    "#from h2o.estimators import H2OXGBoostEstimator does not work on windows ;( \n",
    "\n",
    "from h2o.grid.grid_search import H2OGridSearch"
   ]
  },
  {
   "cell_type": "markdown",
   "metadata": {},
   "source": [
    "##### Transform Panda Dataframe to H20 dataframe"
   ]
  },
  {
   "cell_type": "code",
   "execution_count": 162,
   "metadata": {},
   "outputs": [
    {
     "name": "stdout",
     "output_type": "stream",
     "text": [
      "Parse progress: |█████████████████████████████████████████████████████████| 100%\n",
      "Parse progress: |█████████████████████████████████████████████████████████| 100%\n"
     ]
    },
    {
     "data": {
      "text/html": [
       "<table>\n",
       "<thead>\n",
       "<tr><th style=\"text-align: right;\">  Age</th><th style=\"text-align: right;\">  SibSp</th><th style=\"text-align: right;\">  Parch</th><th style=\"text-align: right;\">   Fare</th><th style=\"text-align: right;\">  Pclass_1</th><th style=\"text-align: right;\">  Pclass_2</th><th style=\"text-align: right;\">  Pclass_3</th><th style=\"text-align: right;\">  Sex_female</th><th style=\"text-align: right;\">  Sex_male</th><th style=\"text-align: right;\">  Ticket_A</th><th style=\"text-align: right;\">  Ticket_C</th><th style=\"text-align: right;\">  Ticket_F</th><th style=\"text-align: right;\">  Ticket_P</th><th style=\"text-align: right;\">  Ticket_S0</th><th style=\"text-align: right;\">  Ticket_S1</th><th style=\"text-align: right;\">  Ticket_S2</th><th style=\"text-align: right;\">  Ticket_W</th><th style=\"text-align: right;\">  Ticket_WW</th><th style=\"text-align: right;\">  Cabin_A</th><th style=\"text-align: right;\">  Cabin_B</th><th style=\"text-align: right;\">  Cabin_C</th><th style=\"text-align: right;\">  Cabin_D</th><th style=\"text-align: right;\">  Cabin_E</th><th style=\"text-align: right;\">  Cabin_F</th><th style=\"text-align: right;\">  Cabin_X</th><th style=\"text-align: right;\">  Embarked_C</th><th style=\"text-align: right;\">  Embarked_Q</th><th style=\"text-align: right;\">  Embarked_S</th><th style=\"text-align: right;\">  gp_set_0</th><th style=\"text-align: right;\">  gp_set_1</th><th style=\"text-align: right;\">  gp_set_2</th><th style=\"text-align: right;\">  gp_set_3</th><th style=\"text-align: right;\">  gp_set_4</th><th style=\"text-align: right;\">  gp_set_5</th><th style=\"text-align: right;\">  gp_set_6</th><th style=\"text-align: right;\">  gp_set_7</th><th style=\"text-align: right;\">  gp_set_8</th><th style=\"text-align: right;\">  gp_set_9</th><th style=\"text-align: right;\">  gp_set_10</th><th style=\"text-align: right;\">  gp_set_11</th><th style=\"text-align: right;\">  gp_set_12</th><th style=\"text-align: right;\">  gp_set_13</th><th style=\"text-align: right;\">  gp_set_14</th><th style=\"text-align: right;\">  gp_set_15</th><th style=\"text-align: right;\">  gp_set_16</th><th style=\"text-align: right;\">  gp_set_17</th><th style=\"text-align: right;\">  gp_set_18</th><th style=\"text-align: right;\">  gp_set_19</th><th style=\"text-align: right;\">  Survived</th></tr>\n",
       "</thead>\n",
       "<tbody>\n",
       "<tr><td style=\"text-align: right;\">   22</td><td style=\"text-align: right;\">      1</td><td style=\"text-align: right;\">      0</td><td style=\"text-align: right;\">1.981  </td><td style=\"text-align: right;\">         0</td><td style=\"text-align: right;\">         0</td><td style=\"text-align: right;\">         1</td><td style=\"text-align: right;\">           0</td><td style=\"text-align: right;\">         1</td><td style=\"text-align: right;\">         1</td><td style=\"text-align: right;\">         0</td><td style=\"text-align: right;\">         0</td><td style=\"text-align: right;\">         0</td><td style=\"text-align: right;\">          0</td><td style=\"text-align: right;\">          0</td><td style=\"text-align: right;\">          0</td><td style=\"text-align: right;\">         0</td><td style=\"text-align: right;\">          0</td><td style=\"text-align: right;\">        0</td><td style=\"text-align: right;\">        0</td><td style=\"text-align: right;\">        0</td><td style=\"text-align: right;\">        0</td><td style=\"text-align: right;\">        0</td><td style=\"text-align: right;\">        0</td><td style=\"text-align: right;\">        1</td><td style=\"text-align: right;\">           0</td><td style=\"text-align: right;\">           0</td><td style=\"text-align: right;\">           1</td><td style=\"text-align: right;\">         4</td><td style=\"text-align: right;\">         5</td><td style=\"text-align: right;\">         2</td><td style=\"text-align: right;\">         4</td><td style=\"text-align: right;\">         4</td><td style=\"text-align: right;\">         6</td><td style=\"text-align: right;\">         4</td><td style=\"text-align: right;\">         6</td><td style=\"text-align: right;\">         3</td><td style=\"text-align: right;\">         4</td><td style=\"text-align: right;\">          5</td><td style=\"text-align: right;\">          6</td><td style=\"text-align: right;\">   2       </td><td style=\"text-align: right;\">          3</td><td style=\"text-align: right;\">          6</td><td style=\"text-align: right;\">          5</td><td style=\"text-align: right;\">          7</td><td style=\"text-align: right;\">          3</td><td style=\"text-align: right;\">          7</td><td style=\"text-align: right;\">          6</td><td style=\"text-align: right;\">         0</td></tr>\n",
       "<tr><td style=\"text-align: right;\">   38</td><td style=\"text-align: right;\">      1</td><td style=\"text-align: right;\">      0</td><td style=\"text-align: right;\">4.26666</td><td style=\"text-align: right;\">         1</td><td style=\"text-align: right;\">         0</td><td style=\"text-align: right;\">         0</td><td style=\"text-align: right;\">           1</td><td style=\"text-align: right;\">         0</td><td style=\"text-align: right;\">         0</td><td style=\"text-align: right;\">         0</td><td style=\"text-align: right;\">         0</td><td style=\"text-align: right;\">         1</td><td style=\"text-align: right;\">          0</td><td style=\"text-align: right;\">          0</td><td style=\"text-align: right;\">          0</td><td style=\"text-align: right;\">         0</td><td style=\"text-align: right;\">          0</td><td style=\"text-align: right;\">        0</td><td style=\"text-align: right;\">        0</td><td style=\"text-align: right;\">        1</td><td style=\"text-align: right;\">        0</td><td style=\"text-align: right;\">        0</td><td style=\"text-align: right;\">        0</td><td style=\"text-align: right;\">        0</td><td style=\"text-align: right;\">           1</td><td style=\"text-align: right;\">           0</td><td style=\"text-align: right;\">           0</td><td style=\"text-align: right;\">         0</td><td style=\"text-align: right;\">         0</td><td style=\"text-align: right;\">        -1</td><td style=\"text-align: right;\">         0</td><td style=\"text-align: right;\">         0</td><td style=\"text-align: right;\">         0</td><td style=\"text-align: right;\">         0</td><td style=\"text-align: right;\">         0</td><td style=\"text-align: right;\">         0</td><td style=\"text-align: right;\">         1</td><td style=\"text-align: right;\">          1</td><td style=\"text-align: right;\">          0</td><td style=\"text-align: right;\">   0       </td><td style=\"text-align: right;\">          0</td><td style=\"text-align: right;\">          1</td><td style=\"text-align: right;\">          1</td><td style=\"text-align: right;\">         -1</td><td style=\"text-align: right;\">          1</td><td style=\"text-align: right;\">          0</td><td style=\"text-align: right;\">          0</td><td style=\"text-align: right;\">         1</td></tr>\n",
       "<tr><td style=\"text-align: right;\">   26</td><td style=\"text-align: right;\">      0</td><td style=\"text-align: right;\">      0</td><td style=\"text-align: right;\">2.07002</td><td style=\"text-align: right;\">         0</td><td style=\"text-align: right;\">         0</td><td style=\"text-align: right;\">         1</td><td style=\"text-align: right;\">           1</td><td style=\"text-align: right;\">         0</td><td style=\"text-align: right;\">         0</td><td style=\"text-align: right;\">         0</td><td style=\"text-align: right;\">         0</td><td style=\"text-align: right;\">         0</td><td style=\"text-align: right;\">          0</td><td style=\"text-align: right;\">          0</td><td style=\"text-align: right;\">          1</td><td style=\"text-align: right;\">         0</td><td style=\"text-align: right;\">          0</td><td style=\"text-align: right;\">        0</td><td style=\"text-align: right;\">        0</td><td style=\"text-align: right;\">        0</td><td style=\"text-align: right;\">        0</td><td style=\"text-align: right;\">        0</td><td style=\"text-align: right;\">        0</td><td style=\"text-align: right;\">        1</td><td style=\"text-align: right;\">           0</td><td style=\"text-align: right;\">           0</td><td style=\"text-align: right;\">           1</td><td style=\"text-align: right;\">         2</td><td style=\"text-align: right;\">         3</td><td style=\"text-align: right;\">         1</td><td style=\"text-align: right;\">         1</td><td style=\"text-align: right;\">         2</td><td style=\"text-align: right;\">         3</td><td style=\"text-align: right;\">         2</td><td style=\"text-align: right;\">         2</td><td style=\"text-align: right;\">         2</td><td style=\"text-align: right;\">         2</td><td style=\"text-align: right;\">          3</td><td style=\"text-align: right;\">          2</td><td style=\"text-align: right;\">   0.841471</td><td style=\"text-align: right;\">          1</td><td style=\"text-align: right;\">          3</td><td style=\"text-align: right;\">          2</td><td style=\"text-align: right;\">          1</td><td style=\"text-align: right;\">          2</td><td style=\"text-align: right;\">          3</td><td style=\"text-align: right;\">          3</td><td style=\"text-align: right;\">         1</td></tr>\n",
       "<tr><td style=\"text-align: right;\">   35</td><td style=\"text-align: right;\">      1</td><td style=\"text-align: right;\">      0</td><td style=\"text-align: right;\">3.97218</td><td style=\"text-align: right;\">         1</td><td style=\"text-align: right;\">         0</td><td style=\"text-align: right;\">         0</td><td style=\"text-align: right;\">           1</td><td style=\"text-align: right;\">         0</td><td style=\"text-align: right;\">         0</td><td style=\"text-align: right;\">         0</td><td style=\"text-align: right;\">         0</td><td style=\"text-align: right;\">         0</td><td style=\"text-align: right;\">          0</td><td style=\"text-align: right;\">          0</td><td style=\"text-align: right;\">          0</td><td style=\"text-align: right;\">         1</td><td style=\"text-align: right;\">          0</td><td style=\"text-align: right;\">        0</td><td style=\"text-align: right;\">        0</td><td style=\"text-align: right;\">        1</td><td style=\"text-align: right;\">        0</td><td style=\"text-align: right;\">        0</td><td style=\"text-align: right;\">        0</td><td style=\"text-align: right;\">        0</td><td style=\"text-align: right;\">           0</td><td style=\"text-align: right;\">           0</td><td style=\"text-align: right;\">           1</td><td style=\"text-align: right;\">         0</td><td style=\"text-align: right;\">         0</td><td style=\"text-align: right;\">        -1</td><td style=\"text-align: right;\">         0</td><td style=\"text-align: right;\">         0</td><td style=\"text-align: right;\">         0</td><td style=\"text-align: right;\">         0</td><td style=\"text-align: right;\">         0</td><td style=\"text-align: right;\">         0</td><td style=\"text-align: right;\">         1</td><td style=\"text-align: right;\">          1</td><td style=\"text-align: right;\">          0</td><td style=\"text-align: right;\">   0       </td><td style=\"text-align: right;\">          0</td><td style=\"text-align: right;\">          1</td><td style=\"text-align: right;\">          1</td><td style=\"text-align: right;\">         -1</td><td style=\"text-align: right;\">          1</td><td style=\"text-align: right;\">          0</td><td style=\"text-align: right;\">          0</td><td style=\"text-align: right;\">         1</td></tr>\n",
       "<tr><td style=\"text-align: right;\">   35</td><td style=\"text-align: right;\">      0</td><td style=\"text-align: right;\">      0</td><td style=\"text-align: right;\">2.08567</td><td style=\"text-align: right;\">         0</td><td style=\"text-align: right;\">         0</td><td style=\"text-align: right;\">         1</td><td style=\"text-align: right;\">           0</td><td style=\"text-align: right;\">         1</td><td style=\"text-align: right;\">         0</td><td style=\"text-align: right;\">         0</td><td style=\"text-align: right;\">         0</td><td style=\"text-align: right;\">         0</td><td style=\"text-align: right;\">          0</td><td style=\"text-align: right;\">          0</td><td style=\"text-align: right;\">          0</td><td style=\"text-align: right;\">         1</td><td style=\"text-align: right;\">          0</td><td style=\"text-align: right;\">        0</td><td style=\"text-align: right;\">        0</td><td style=\"text-align: right;\">        0</td><td style=\"text-align: right;\">        0</td><td style=\"text-align: right;\">        0</td><td style=\"text-align: right;\">        0</td><td style=\"text-align: right;\">        1</td><td style=\"text-align: right;\">           0</td><td style=\"text-align: right;\">           0</td><td style=\"text-align: right;\">           1</td><td style=\"text-align: right;\">         4</td><td style=\"text-align: right;\">         5</td><td style=\"text-align: right;\">         2</td><td style=\"text-align: right;\">         4</td><td style=\"text-align: right;\">         4</td><td style=\"text-align: right;\">         6</td><td style=\"text-align: right;\">         4</td><td style=\"text-align: right;\">         6</td><td style=\"text-align: right;\">         3</td><td style=\"text-align: right;\">         4</td><td style=\"text-align: right;\">          5</td><td style=\"text-align: right;\">          6</td><td style=\"text-align: right;\">   2       </td><td style=\"text-align: right;\">          3</td><td style=\"text-align: right;\">          6</td><td style=\"text-align: right;\">          5</td><td style=\"text-align: right;\">          7</td><td style=\"text-align: right;\">          3</td><td style=\"text-align: right;\">          7</td><td style=\"text-align: right;\">          6</td><td style=\"text-align: right;\">         0</td></tr>\n",
       "<tr><td style=\"text-align: right;\">   25</td><td style=\"text-align: right;\">      0</td><td style=\"text-align: right;\">      0</td><td style=\"text-align: right;\">2.13515</td><td style=\"text-align: right;\">         0</td><td style=\"text-align: right;\">         0</td><td style=\"text-align: right;\">         1</td><td style=\"text-align: right;\">           0</td><td style=\"text-align: right;\">         1</td><td style=\"text-align: right;\">         0</td><td style=\"text-align: right;\">         0</td><td style=\"text-align: right;\">         0</td><td style=\"text-align: right;\">         0</td><td style=\"text-align: right;\">          0</td><td style=\"text-align: right;\">          0</td><td style=\"text-align: right;\">          0</td><td style=\"text-align: right;\">         1</td><td style=\"text-align: right;\">          0</td><td style=\"text-align: right;\">        0</td><td style=\"text-align: right;\">        0</td><td style=\"text-align: right;\">        0</td><td style=\"text-align: right;\">        0</td><td style=\"text-align: right;\">        0</td><td style=\"text-align: right;\">        0</td><td style=\"text-align: right;\">        1</td><td style=\"text-align: right;\">           0</td><td style=\"text-align: right;\">           1</td><td style=\"text-align: right;\">           0</td><td style=\"text-align: right;\">         4</td><td style=\"text-align: right;\">         5</td><td style=\"text-align: right;\">         2</td><td style=\"text-align: right;\">         4</td><td style=\"text-align: right;\">         4</td><td style=\"text-align: right;\">         6</td><td style=\"text-align: right;\">         4</td><td style=\"text-align: right;\">         6</td><td style=\"text-align: right;\">         3</td><td style=\"text-align: right;\">         4</td><td style=\"text-align: right;\">          5</td><td style=\"text-align: right;\">          6</td><td style=\"text-align: right;\">   2       </td><td style=\"text-align: right;\">          3</td><td style=\"text-align: right;\">          6</td><td style=\"text-align: right;\">          5</td><td style=\"text-align: right;\">          7</td><td style=\"text-align: right;\">          3</td><td style=\"text-align: right;\">          7</td><td style=\"text-align: right;\">          6</td><td style=\"text-align: right;\">         0</td></tr>\n",
       "<tr><td style=\"text-align: right;\">   54</td><td style=\"text-align: right;\">      0</td><td style=\"text-align: right;\">      0</td><td style=\"text-align: right;\">3.9486 </td><td style=\"text-align: right;\">         1</td><td style=\"text-align: right;\">         0</td><td style=\"text-align: right;\">         0</td><td style=\"text-align: right;\">           0</td><td style=\"text-align: right;\">         1</td><td style=\"text-align: right;\">         0</td><td style=\"text-align: right;\">         0</td><td style=\"text-align: right;\">         0</td><td style=\"text-align: right;\">         0</td><td style=\"text-align: right;\">          0</td><td style=\"text-align: right;\">          0</td><td style=\"text-align: right;\">          0</td><td style=\"text-align: right;\">         1</td><td style=\"text-align: right;\">          0</td><td style=\"text-align: right;\">        0</td><td style=\"text-align: right;\">        0</td><td style=\"text-align: right;\">        0</td><td style=\"text-align: right;\">        0</td><td style=\"text-align: right;\">        1</td><td style=\"text-align: right;\">        0</td><td style=\"text-align: right;\">        0</td><td style=\"text-align: right;\">           0</td><td style=\"text-align: right;\">           0</td><td style=\"text-align: right;\">           1</td><td style=\"text-align: right;\">         2</td><td style=\"text-align: right;\">         2</td><td style=\"text-align: right;\">         1</td><td style=\"text-align: right;\">         3</td><td style=\"text-align: right;\">         3</td><td style=\"text-align: right;\">         3</td><td style=\"text-align: right;\">         2</td><td style=\"text-align: right;\">         4</td><td style=\"text-align: right;\">         2</td><td style=\"text-align: right;\">         2</td><td style=\"text-align: right;\">          3</td><td style=\"text-align: right;\">          4</td><td style=\"text-align: right;\">   1       </td><td style=\"text-align: right;\">          2</td><td style=\"text-align: right;\">          3</td><td style=\"text-align: right;\">          4</td><td style=\"text-align: right;\">          5</td><td style=\"text-align: right;\">          2</td><td style=\"text-align: right;\">          4</td><td style=\"text-align: right;\">          3</td><td style=\"text-align: right;\">         0</td></tr>\n",
       "<tr><td style=\"text-align: right;\">    2</td><td style=\"text-align: right;\">      3</td><td style=\"text-align: right;\">      1</td><td style=\"text-align: right;\">3.04809</td><td style=\"text-align: right;\">         0</td><td style=\"text-align: right;\">         0</td><td style=\"text-align: right;\">         1</td><td style=\"text-align: right;\">           0</td><td style=\"text-align: right;\">         1</td><td style=\"text-align: right;\">         0</td><td style=\"text-align: right;\">         0</td><td style=\"text-align: right;\">         0</td><td style=\"text-align: right;\">         0</td><td style=\"text-align: right;\">          0</td><td style=\"text-align: right;\">          0</td><td style=\"text-align: right;\">          0</td><td style=\"text-align: right;\">         1</td><td style=\"text-align: right;\">          0</td><td style=\"text-align: right;\">        0</td><td style=\"text-align: right;\">        0</td><td style=\"text-align: right;\">        0</td><td style=\"text-align: right;\">        0</td><td style=\"text-align: right;\">        0</td><td style=\"text-align: right;\">        0</td><td style=\"text-align: right;\">        1</td><td style=\"text-align: right;\">           0</td><td style=\"text-align: right;\">           0</td><td style=\"text-align: right;\">           1</td><td style=\"text-align: right;\">         2</td><td style=\"text-align: right;\">         2</td><td style=\"text-align: right;\">         2</td><td style=\"text-align: right;\">         2</td><td style=\"text-align: right;\">         2</td><td style=\"text-align: right;\">         2</td><td style=\"text-align: right;\">         2</td><td style=\"text-align: right;\">         2</td><td style=\"text-align: right;\">         2</td><td style=\"text-align: right;\">         2</td><td style=\"text-align: right;\">          3</td><td style=\"text-align: right;\">          2</td><td style=\"text-align: right;\">   2       </td><td style=\"text-align: right;\">          2</td><td style=\"text-align: right;\">          2</td><td style=\"text-align: right;\">          3</td><td style=\"text-align: right;\">          2</td><td style=\"text-align: right;\">          3</td><td style=\"text-align: right;\">          2</td><td style=\"text-align: right;\">          3</td><td style=\"text-align: right;\">         0</td></tr>\n",
       "<tr><td style=\"text-align: right;\">   27</td><td style=\"text-align: right;\">      0</td><td style=\"text-align: right;\">      2</td><td style=\"text-align: right;\">2.40994</td><td style=\"text-align: right;\">         0</td><td style=\"text-align: right;\">         0</td><td style=\"text-align: right;\">         1</td><td style=\"text-align: right;\">           1</td><td style=\"text-align: right;\">         0</td><td style=\"text-align: right;\">         0</td><td style=\"text-align: right;\">         0</td><td style=\"text-align: right;\">         0</td><td style=\"text-align: right;\">         0</td><td style=\"text-align: right;\">          0</td><td style=\"text-align: right;\">          0</td><td style=\"text-align: right;\">          0</td><td style=\"text-align: right;\">         1</td><td style=\"text-align: right;\">          0</td><td style=\"text-align: right;\">        0</td><td style=\"text-align: right;\">        0</td><td style=\"text-align: right;\">        0</td><td style=\"text-align: right;\">        0</td><td style=\"text-align: right;\">        0</td><td style=\"text-align: right;\">        0</td><td style=\"text-align: right;\">        1</td><td style=\"text-align: right;\">           0</td><td style=\"text-align: right;\">           0</td><td style=\"text-align: right;\">           1</td><td style=\"text-align: right;\">         2</td><td style=\"text-align: right;\">         3</td><td style=\"text-align: right;\">         1</td><td style=\"text-align: right;\">         1</td><td style=\"text-align: right;\">         2</td><td style=\"text-align: right;\">         3</td><td style=\"text-align: right;\">         2</td><td style=\"text-align: right;\">         2</td><td style=\"text-align: right;\">         2</td><td style=\"text-align: right;\">         2</td><td style=\"text-align: right;\">          3</td><td style=\"text-align: right;\">          2</td><td style=\"text-align: right;\">   0.841471</td><td style=\"text-align: right;\">          1</td><td style=\"text-align: right;\">          3</td><td style=\"text-align: right;\">          2</td><td style=\"text-align: right;\">          1</td><td style=\"text-align: right;\">          2</td><td style=\"text-align: right;\">          3</td><td style=\"text-align: right;\">          3</td><td style=\"text-align: right;\">         1</td></tr>\n",
       "<tr><td style=\"text-align: right;\">   14</td><td style=\"text-align: right;\">      1</td><td style=\"text-align: right;\">      0</td><td style=\"text-align: right;\">3.40355</td><td style=\"text-align: right;\">         0</td><td style=\"text-align: right;\">         1</td><td style=\"text-align: right;\">         0</td><td style=\"text-align: right;\">           1</td><td style=\"text-align: right;\">         0</td><td style=\"text-align: right;\">         0</td><td style=\"text-align: right;\">         0</td><td style=\"text-align: right;\">         0</td><td style=\"text-align: right;\">         0</td><td style=\"text-align: right;\">          0</td><td style=\"text-align: right;\">          0</td><td style=\"text-align: right;\">          0</td><td style=\"text-align: right;\">         1</td><td style=\"text-align: right;\">          0</td><td style=\"text-align: right;\">        0</td><td style=\"text-align: right;\">        0</td><td style=\"text-align: right;\">        0</td><td style=\"text-align: right;\">        0</td><td style=\"text-align: right;\">        0</td><td style=\"text-align: right;\">        0</td><td style=\"text-align: right;\">        1</td><td style=\"text-align: right;\">           1</td><td style=\"text-align: right;\">           0</td><td style=\"text-align: right;\">           0</td><td style=\"text-align: right;\">         0</td><td style=\"text-align: right;\">         0</td><td style=\"text-align: right;\">        -1</td><td style=\"text-align: right;\">         0</td><td style=\"text-align: right;\">         0</td><td style=\"text-align: right;\">         0</td><td style=\"text-align: right;\">         1</td><td style=\"text-align: right;\">         0</td><td style=\"text-align: right;\">         0</td><td style=\"text-align: right;\">         1</td><td style=\"text-align: right;\">          2</td><td style=\"text-align: right;\">          0</td><td style=\"text-align: right;\">   0       </td><td style=\"text-align: right;\">          0</td><td style=\"text-align: right;\">          1</td><td style=\"text-align: right;\">          1</td><td style=\"text-align: right;\">         -1</td><td style=\"text-align: right;\">          1</td><td style=\"text-align: right;\">          0</td><td style=\"text-align: right;\">          0</td><td style=\"text-align: right;\">         1</td></tr>\n",
       "</tbody>\n",
       "</table>"
      ]
     },
     "metadata": {},
     "output_type": "display_data"
    },
    {
     "data": {
      "text/plain": []
     },
     "execution_count": 162,
     "metadata": {},
     "output_type": "execute_result"
    }
   ],
   "source": [
    "#create a df for the features\n",
    "features =X_train\n",
    "test = X_test #need string as column name\n",
    "#append traget\n",
    "features[\"Survived\"]=y_train\n",
    "\n",
    "#h2o dataframe\n",
    "h20_features = h2o.H2OFrame(X_train)\n",
    "h20_test = h2o.H2OFrame(X_test)\n",
    "\n",
    "#display h2o dataframe\n",
    "h20_features"
   ]
  },
  {
   "cell_type": "markdown",
   "metadata": {},
   "source": [
    "##### Set up trarget and cross val folds"
   ]
  },
  {
   "cell_type": "code",
   "execution_count": 163,
   "metadata": {
    "collapsed": true
   },
   "outputs": [],
   "source": [
    "x = list(features.columns) #need to be a list of values\n",
    "y = \"Survived\" \n",
    "#x.remove(y)\n",
    "# For binary classification, response should be a factor\n",
    "h20_features[\"Survived\"] = h20_features[\"Survived\"].asfactor()\n",
    "\n",
    "#fold for cross val\n",
    "nfolds = 3"
   ]
  },
  {
   "cell_type": "markdown",
   "metadata": {},
   "source": [
    "#### h2o single model - GBM"
   ]
  },
  {
   "cell_type": "code",
   "execution_count": 165,
   "metadata": {
    "scrolled": true
   },
   "outputs": [
    {
     "name": "stdout",
     "output_type": "stream",
     "text": [
      "gbm Grid Build progress: |████████████████████████████████████████████████| 100%\n"
     ]
    }
   ],
   "source": [
    "#hyper_paramters\n",
    "hyper_params = {'learn_rate': [0.01, 0.1,.2,.3,.4,.5,.6,.7,.8,.9,1],\n",
    "                'max_depth': [3, 5, 9],\n",
    "                'sample_rate': [0.8, 1.0],\n",
    "                'col_sample_rate': [0.2, 0.5, 1.0],\n",
    "                'ntrees': [20, 50, 80, 110, 140, 170, 200]\n",
    "               }\n",
    "\n",
    "#search_criteria\n",
    "search_criteria = {\"strategy\": \"RandomDiscrete\", \"max_models\": 45, \"seed\": 1}\n",
    "\n",
    "# Train the grid\n",
    "grid_GBM = H2OGridSearch(model=H2OGradientBoostingEstimator(seed=1,\n",
    "                                                            nfolds=nfolds,\n",
    "                                                            fold_assignment=\"Modulo\",\n",
    "                                                            keep_cross_validation_predictions=True),\n",
    "                     hyper_params=hyper_params,\n",
    "                     search_criteria=search_criteria,\n",
    "                     grid_id=\"gbm_final\")\n",
    "\n",
    "#model fit\n",
    "grid_GBM.train(x=x, y=y, training_frame=h20_features)"
   ]
  },
  {
   "cell_type": "markdown",
   "metadata": {},
   "source": [
    "#### h2o single model RF"
   ]
  },
  {
   "cell_type": "code",
   "execution_count": 166,
   "metadata": {},
   "outputs": [
    {
     "name": "stdout",
     "output_type": "stream",
     "text": [
      "drf Grid Build progress: |████████████████████████████████████████████████| 100%\n"
     ]
    }
   ],
   "source": [
    "#hyper_paramters\n",
    "hyper_params = { 'balance_classes': [True, False],\n",
    "                'max_after_balance_size': [.85, 1.7,.5],\n",
    "                'max_depth': [3, 5, 9],\n",
    "                'sample_rate': [0.8, 1.0],\n",
    "                'ntrees': [20, 50, 80, 110, 140, 170, 200]\n",
    "               # 'col_sample_rate': [0.2, 0.5, 1.0]\n",
    "               }\n",
    "\n",
    "#search_criteria\n",
    "search_criteria = {\"strategy\": \"RandomDiscrete\", \"max_models\": 45, \"seed\": 1}\n",
    "\n",
    "#search_criteria\n",
    "grid_RF = H2OGridSearch(model=H2ORandomForestEstimator(seed=1,\n",
    "                                                       nfolds=nfolds,\n",
    "                                                       fold_assignment=\"Modulo\",\n",
    "                                                       keep_cross_validation_predictions=True),\n",
    "                     hyper_params=hyper_params,\n",
    "                     search_criteria=search_criteria,\n",
    "                     grid_id=\"drf_final\")\n",
    "#model fit\n",
    "grid_RF.train(x=x, y=y, training_frame=h20_features)"
   ]
  },
  {
   "cell_type": "markdown",
   "metadata": {},
   "source": [
    "#### Models with best parameters"
   ]
  },
  {
   "cell_type": "code",
   "execution_count": 167,
   "metadata": {
    "collapsed": true
   },
   "outputs": [],
   "source": [
    "#GBM\n",
    "best_GBM = grid_GBM.get_grid(sort_by='accuracy', decreasing=True)[0]\n",
    "#RF\n",
    "best_RF = grid_RF.get_grid(sort_by='accuracy', decreasing=True)[0]\n"
   ]
  },
  {
   "cell_type": "code",
   "execution_count": 168,
   "metadata": {},
   "outputs": [
    {
     "name": "stdout",
     "output_type": "stream",
     "text": [
      "Confusion matrix Random Forest\n",
      " Confusion Matrix (Act/Pred) for max accuracy @ threshold = 0.46559040233958404: \n"
     ]
    },
    {
     "data": {
      "text/html": [
       "<div style=\"overflow:auto\"><table style=\"width:50%\"><tr><td><b></b></td>\n",
       "<td><b>0</b></td>\n",
       "<td><b>1</b></td>\n",
       "<td><b>Error</b></td>\n",
       "<td><b>Rate</b></td></tr>\n",
       "<tr><td>0</td>\n",
       "<td>203.0</td>\n",
       "<td>16.0</td>\n",
       "<td>0.0731</td>\n",
       "<td> (16.0/219.0)</td></tr>\n",
       "<tr><td>1</td>\n",
       "<td>62.0</td>\n",
       "<td>153.0</td>\n",
       "<td>0.2884</td>\n",
       "<td> (62.0/215.0)</td></tr>\n",
       "<tr><td>Total</td>\n",
       "<td>265.0</td>\n",
       "<td>169.0</td>\n",
       "<td>0.1797</td>\n",
       "<td> (78.0/434.0)</td></tr></table></div>"
      ],
      "text/plain": [
       "       0    1    Error    Rate\n",
       "-----  ---  ---  -------  ------------\n",
       "0      203  16   0.0731   (16.0/219.0)\n",
       "1      62   153  0.2884   (62.0/215.0)\n",
       "Total  265  169  0.1797   (78.0/434.0)"
      ]
     },
     "metadata": {},
     "output_type": "display_data"
    },
    {
     "name": "stdout",
     "output_type": "stream",
     "text": [
      "\n",
      "Random Forest accuracy: 0.8202764976958525\n",
      "---------------------------------------------------------\n",
      "Confusion matrix Gradient Boosting Methods:\n",
      " Confusion Matrix (Act/Pred) for max accuracy @ threshold = 0.4712919962434185: \n"
     ]
    },
    {
     "data": {
      "text/html": [
       "<div style=\"overflow:auto\"><table style=\"width:50%\"><tr><td><b></b></td>\n",
       "<td><b>0</b></td>\n",
       "<td><b>1</b></td>\n",
       "<td><b>Error</b></td>\n",
       "<td><b>Rate</b></td></tr>\n",
       "<tr><td>0</td>\n",
       "<td>511.0</td>\n",
       "<td>38.0</td>\n",
       "<td>0.0692</td>\n",
       "<td> (38.0/549.0)</td></tr>\n",
       "<tr><td>1</td>\n",
       "<td>67.0</td>\n",
       "<td>275.0</td>\n",
       "<td>0.1959</td>\n",
       "<td> (67.0/342.0)</td></tr>\n",
       "<tr><td>Total</td>\n",
       "<td>578.0</td>\n",
       "<td>313.0</td>\n",
       "<td>0.1178</td>\n",
       "<td> (105.0/891.0)</td></tr></table></div>"
      ],
      "text/plain": [
       "       0    1    Error    Rate\n",
       "-----  ---  ---  -------  -------------\n",
       "0      511  38   0.0692   (38.0/549.0)\n",
       "1      67   275  0.1959   (67.0/342.0)\n",
       "Total  578  313  0.1178   (105.0/891.0)"
      ]
     },
     "metadata": {},
     "output_type": "display_data"
    },
    {
     "name": "stdout",
     "output_type": "stream",
     "text": [
      "\n",
      "Gradient Boosting Methods accuracy: 0.8821548821548821\n"
     ]
    }
   ],
   "source": [
    "#print report of best Random Forest\n",
    "print('Confusion matrix Random Forest\\n', best_RF.confusion_matrix(metrics='accuracy'))\n",
    "print('Random Forest accuracy:', best_RF.accuracy()[0][1])\n",
    "print(\"---------------------------------------------------------\")\n",
    "print('Confusion matrix Gradient Boosting Methods:\\n', best_GBM.confusion_matrix(metrics='accuracy'))\n",
    "print('Gradient Boosting Methods accuracy:', best_GBM.accuracy()[0][1])\n"
   ]
  },
  {
   "cell_type": "markdown",
   "metadata": {},
   "source": [
    "#### h2o Stacking with metalearner"
   ]
  },
  {
   "cell_type": "code",
   "execution_count": 169,
   "metadata": {},
   "outputs": [
    {
     "name": "stdout",
     "output_type": "stream",
     "text": [
      "stackedensemble Model Build progress: |███████████████████████████████████| 100%\n",
      "stackedensemble prediction progress: |████████████████████████████████████| 100%\n"
     ]
    }
   ],
   "source": [
    "#Metalearner params for gbm, drf, glm, and deep deeplearning\n",
    "gbm_param = {'ntrees': [100], 'max_depth':[5]}\n",
    "\n",
    "#create stacking with metalearner\n",
    "ensemble = H2OStackedEnsembleEstimator(model_id=\"meta_gbm\",\n",
    "                                       base_models=[best_GBM,best_RF],\n",
    "                                       metalearner_algorithm=\"gbm\", metalearner_nfolds=3,\n",
    "                                       metalearner_params = gbm_param)\n",
    "#ensemble fit\n",
    "ensemble.train(x=x, y=y, training_frame=h20_features)\n",
    "\n",
    "#ensemble prediction\n",
    "pred = ensemble.predict(h20_test)"
   ]
  },
  {
   "cell_type": "code",
   "execution_count": 170,
   "metadata": {},
   "outputs": [
    {
     "name": "stdout",
     "output_type": "stream",
     "text": [
      "Confusion matrix Ensemble\n",
      " Confusion Matrix (Act/Pred) for max accuracy @ threshold = 0.5360115974079868: \n"
     ]
    },
    {
     "data": {
      "text/html": [
       "<div style=\"overflow:auto\"><table style=\"width:50%\"><tr><td><b></b></td>\n",
       "<td><b>0</b></td>\n",
       "<td><b>1</b></td>\n",
       "<td><b>Error</b></td>\n",
       "<td><b>Rate</b></td></tr>\n",
       "<tr><td>0</td>\n",
       "<td>502.0</td>\n",
       "<td>47.0</td>\n",
       "<td>0.0856</td>\n",
       "<td> (47.0/549.0)</td></tr>\n",
       "<tr><td>1</td>\n",
       "<td>92.0</td>\n",
       "<td>250.0</td>\n",
       "<td>0.269</td>\n",
       "<td> (92.0/342.0)</td></tr>\n",
       "<tr><td>Total</td>\n",
       "<td>594.0</td>\n",
       "<td>297.0</td>\n",
       "<td>0.156</td>\n",
       "<td> (139.0/891.0)</td></tr></table></div>"
      ],
      "text/plain": [
       "       0    1    Error    Rate\n",
       "-----  ---  ---  -------  -------------\n",
       "0      502  47   0.0856   (47.0/549.0)\n",
       "1      92   250  0.269    (92.0/342.0)\n",
       "Total  594  297  0.156    (139.0/891.0)"
      ]
     },
     "metadata": {},
     "output_type": "display_data"
    },
    {
     "name": "stdout",
     "output_type": "stream",
     "text": [
      "\n",
      "Gradient Boosting Methods accuracy: 0.8439955106621774\n"
     ]
    }
   ],
   "source": [
    "print('Confusion matrix Ensemble\\n', ensemble.confusion_matrix(metrics='accuracy'))\n",
    "print('Gradient Boosting Methods accuracy:',ensemble.accuracy()[0][1])"
   ]
  },
  {
   "cell_type": "code",
   "execution_count": 179,
   "metadata": {},
   "outputs": [
    {
     "name": "stdout",
     "output_type": "stream",
     "text": [
      "stackedensemble prediction progress: |████████████████████████████████████| 100%\n"
     ]
    }
   ],
   "source": [
    "pred = ensemble.predict(h20_test)\n"
   ]
  },
  {
   "cell_type": "markdown",
   "metadata": {},
   "source": [
    "#### Submission"
   ]
  },
  {
   "cell_type": "code",
   "execution_count": 178,
   "metadata": {
    "collapsed": true
   },
   "outputs": [],
   "source": [
    "#h2o submission\n",
    "submission = pd.DataFrame()\n",
    "submission['PassengerId'] = test_id\n",
    "submission['Survived'] = h2o.as_list(pred[0]) #transform to a list the binary class\n",
    "\n",
    "submission.to_csv(\"h2o_sub\",index = False)"
   ]
  },
  {
   "cell_type": "markdown",
   "metadata": {},
   "source": [
    "### Conclusion\n",
    "\n",
    "My best out of sample score comes from the H20 gradient boosting method, which is also the high in sample score of all my models (0.88). The H2O stack model of Random Forest and Gradient Boosting Methods has a lower score than the Voting Classifier of Sklearn, most probably since H2O Random Forest does not perform well on the dataset.\n",
    "\n",
    "Unfortunately, H2O Framework does not provide more algorithms such as Xgboost or LightGBM in python. Hopefully, it will change in the coming times because H2O is easy to use and the grid search are way fast that in Sklearn (run on Amazon S3 cloud). In addition, it seems that for single algorithm it gives better results – most probability due to different implementation between H2O and Sklearn.\n",
    "\n",
    "It is also interesting to see that in H20, it is possible to implement a simple feed forward neural network as a metalearner.\n",
    "\n",
    "### Further improvement\n",
    "\n",
    "It is a relatively small and handy dataset, I believe to improve my score, I should try different features engineering techniques and/or try to find other data sources that could help increasing the predication accuracy.\n",
    "\n",
    "Another possibility could be to create some “voting rules” for the best algorithms and create a ranking hierarchy (or another stack models) on top of the voting rules to convert the weak learners into strong learners.\n",
    "\n",
    "However, as mentioned at the beginning of the notebook, my goal was to play around with some features creation using genetic programming and especially experience a new framework (H2O) for machine learning).\n"
   ]
  },
  {
   "cell_type": "markdown",
   "metadata": {
    "collapsed": true
   },
   "source": [
    "## Ad hoc - gridsearch"
   ]
  },
  {
   "cell_type": "code",
   "execution_count": 39,
   "metadata": {
    "collapsed": true
   },
   "outputs": [],
   "source": [
    "def grid_search(model, para):\n",
    "    #grid search\n",
    "    grid_search = GridSearchCV(estimator=model,\n",
    "                                param_grid=para,\n",
    "                                scoring='accuracy',\n",
    "                                fit_params=None,\n",
    "                                n_jobs=4, iid=True,\n",
    "                                refit=True,\n",
    "                                cv=kfold,\n",
    "                                verbose=5,\n",
    "                                pre_dispatch='2*n_jobs',\n",
    "                                error_score='raise',\n",
    "                                return_train_score='warn')\n",
    "\n",
    "\n",
    "    #GridSearch fit\n",
    "    grid_search.fit(X_train,y_train)\n",
    "    \n",
    "    #Best GridSearch Paramters\n",
    "    print(grid_search.best_params_)\n",
    "    "
   ]
  },
  {
   "cell_type": "code",
   "execution_count": 42,
   "metadata": {
    "collapsed": true
   },
   "outputs": [],
   "source": [
    "#Random Forest\n",
    "rf = RandomForestClassifier()\n",
    "\n",
    "para_rf =  {'n_estimators':[100,300, 600, 1000],\n",
    "         'criterion':['gini'],\n",
    "         'max_depth':[None, 100, 300],              \n",
    "         'max_features':['auto', 'log2', None]\n",
    "        }\n",
    "\n",
    "#XGboost\n",
    "xgb = XGBClassifier()\n",
    "\n",
    "para_xgb = {'max_depth':[3,10, 100],\n",
    "            'learning_rate':[0.01, 1, 0.2,0.4, 0.8, 0.9, 1.0], #= \"eta\"\n",
    "            'n_estimators':[100,350],\n",
    "            'objective':['binary:logistic'],  \n",
    "            'booster':['gbtree'],\n",
    "            'gamma':[0,0.1,0.4,1],      \n",
    "\n",
    "            }\n",
    "#SVM\n",
    "svm = SVC()\n",
    "\n",
    "para_svm ={'kernel': ['rbf'],\n",
    "            'gamma': [ 0.001, 0.01, 0.1, 1],\n",
    "            'C': [1, 10, 50, 100,200,300, 1000]}\n",
    "\n",
    "#LightGBM\n",
    "lgbm = LGBMClassifier()\n",
    "\n",
    "para_lgbm = {'boosting_type':['gbdt', 'dart'],\n",
    "            'num_leaves':[31, 50, 80],\n",
    "             #'tree_learner':['serial', 'feature', 'data', 'voting']\n",
    "            'max_depth':[-1,50,100,150],\n",
    "            'learning_rate':[0.01, 1, 0.2,0.4, 0.8, 0.9, 1.0],\n",
    "            'n_estimators':[100,300, 600, 1000]\n",
    "            }\n",
    "\n",
    "#GradientBoosting\n",
    "gbm = GradientBoostingClassifier()\n",
    "\n",
    "para_gbm =  {'loss':['deviance', 'exponential'], # first two for Classification - last four for Regression\n",
    "             'learning_rate':[0.01, 1, 0.2,0.4, 0.8, 0.9, 1.0],\n",
    "             'n_estimators':[100,300, 600, 1000],\n",
    "             'criterion':['friedman_mse'],\n",
    "             'max_depth':[None, 100]\n",
    "            }"
   ]
  },
  {
   "cell_type": "code",
   "execution_count": 724,
   "metadata": {},
   "outputs": [
    {
     "name": "stdout",
     "output_type": "stream",
     "text": [
      "Fitting 3 folds for each of 36 candidates, totalling 108 fits\n"
     ]
    },
    {
     "name": "stderr",
     "output_type": "stream",
     "text": [
      "[Parallel(n_jobs=4)]: Done  10 tasks      | elapsed:    9.0s\n",
      "[Parallel(n_jobs=4)]: Done  64 tasks      | elapsed:   31.4s\n",
      "[Parallel(n_jobs=4)]: Done 108 out of 108 | elapsed:  1.0min finished\n"
     ]
    },
    {
     "name": "stdout",
     "output_type": "stream",
     "text": [
      "{'criterion': 'gini', 'max_depth': 100, 'max_features': None, 'n_estimators': 600}\n"
     ]
    }
   ],
   "source": [
    "#Random forest\n",
    "grid_search(rf,para_rf )"
   ]
  },
  {
   "cell_type": "code",
   "execution_count": 725,
   "metadata": {},
   "outputs": [
    {
     "name": "stdout",
     "output_type": "stream",
     "text": [
      "Fitting 3 folds for each of 672 candidates, totalling 2016 fits\n"
     ]
    },
    {
     "name": "stderr",
     "output_type": "stream",
     "text": [
      "[Parallel(n_jobs=4)]: Done  10 tasks      | elapsed:    8.4s\n",
      "[Parallel(n_jobs=4)]: Done  64 tasks      | elapsed:   28.0s\n",
      "[Parallel(n_jobs=4)]: Done 154 tasks      | elapsed:  1.0min\n",
      "[Parallel(n_jobs=4)]: Done 280 tasks      | elapsed:  1.5min\n",
      "[Parallel(n_jobs=4)]: Done 442 tasks      | elapsed:  2.4min\n",
      "[Parallel(n_jobs=4)]: Done 640 tasks      | elapsed:  3.3min\n",
      "[Parallel(n_jobs=4)]: Done 874 tasks      | elapsed:  4.3min\n",
      "[Parallel(n_jobs=4)]: Done 1144 tasks      | elapsed:  6.4min\n",
      "[Parallel(n_jobs=4)]: Done 1450 tasks      | elapsed: 10.5min\n",
      "[Parallel(n_jobs=4)]: Done 1792 tasks      | elapsed: 14.8min\n",
      "[Parallel(n_jobs=4)]: Done 2016 out of 2016 | elapsed: 17.5min finished\n"
     ]
    },
    {
     "name": "stdout",
     "output_type": "stream",
     "text": [
      "{'boosting_type': 'dart', 'learning_rate': 0.01, 'max_depth': -1, 'n_estimators': 1000, 'num_leaves': 31}\n"
     ]
    }
   ],
   "source": [
    "#light Gbm\n",
    "grid_search(lgbm,para_lgbm )"
   ]
  },
  {
   "cell_type": "code",
   "execution_count": 726,
   "metadata": {},
   "outputs": [
    {
     "name": "stdout",
     "output_type": "stream",
     "text": [
      "Fitting 3 folds for each of 168 candidates, totalling 504 fits\n"
     ]
    },
    {
     "name": "stderr",
     "output_type": "stream",
     "text": [
      "[Parallel(n_jobs=4)]: Done  10 tasks      | elapsed:    8.8s\n",
      "[Parallel(n_jobs=4)]: Done  64 tasks      | elapsed:   20.8s\n",
      "[Parallel(n_jobs=4)]: Done 154 tasks      | elapsed:   39.3s\n",
      "[Parallel(n_jobs=4)]: Done 280 tasks      | elapsed:  1.2min\n",
      "[Parallel(n_jobs=4)]: Done 442 tasks      | elapsed:  1.9min\n",
      "[Parallel(n_jobs=4)]: Done 504 out of 504 | elapsed:  2.2min finished\n"
     ]
    },
    {
     "name": "stdout",
     "output_type": "stream",
     "text": [
      "{'booster': 'gbtree', 'gamma': 0.4, 'learning_rate': 0.01, 'max_depth': 10, 'n_estimators': 350, 'objective': 'binary:logistic'}\n"
     ]
    }
   ],
   "source": [
    "#XGB\n",
    "grid_search(xgb, para_xgb)"
   ]
  },
  {
   "cell_type": "code",
   "execution_count": null,
   "metadata": {},
   "outputs": [
    {
     "name": "stdout",
     "output_type": "stream",
     "text": [
      "Fitting 3 folds for each of 112 candidates, totalling 336 fits\n"
     ]
    },
    {
     "name": "stderr",
     "output_type": "stream",
     "text": [
      "[Parallel(n_jobs=4)]: Done  10 tasks      | elapsed:   18.4s\n",
      "[Parallel(n_jobs=4)]: Done  64 tasks      | elapsed:  1.5min\n",
      "[Parallel(n_jobs=4)]: Done 154 tasks      | elapsed:  3.7min\n",
      "[Parallel(n_jobs=4)]: Done 280 tasks      | elapsed:  7.0min\n",
      "[Parallel(n_jobs=4)]: Done 336 out of 336 | elapsed:  8.7min finished\n"
     ]
    },
    {
     "name": "stdout",
     "output_type": "stream",
     "text": [
      "{'criterion': 'friedman_mse', 'learning_rate': 1, 'loss': 'deviance', 'max_depth': 100, 'n_estimators': 100}\n"
     ]
    }
   ],
   "source": [
    "#gbm\n",
    "grid_search(gbm,para_gbm )"
   ]
  },
  {
   "cell_type": "code",
   "execution_count": 43,
   "metadata": {},
   "outputs": [
    {
     "name": "stdout",
     "output_type": "stream",
     "text": [
      "Fitting 3 folds for each of 28 candidates, totalling 84 fits\n"
     ]
    },
    {
     "name": "stderr",
     "output_type": "stream",
     "text": [
      "[Parallel(n_jobs=4)]: Done   2 tasks      | elapsed:    3.4s\n",
      "[Parallel(n_jobs=4)]: Done  56 tasks      | elapsed:    7.2s\n"
     ]
    },
    {
     "name": "stdout",
     "output_type": "stream",
     "text": [
      "{'C': 50, 'gamma': 0.001, 'kernel': 'rbf'}\n"
     ]
    },
    {
     "name": "stderr",
     "output_type": "stream",
     "text": [
      "[Parallel(n_jobs=4)]: Done  84 out of  84 | elapsed:    8.1s finished\n"
     ]
    }
   ],
   "source": [
    "#SVM with pipeline\n",
    "\n",
    "#grid\n",
    "grid =GridSearchCV(estimator=svm,\n",
    "                                param_grid=para_svm,\n",
    "                                scoring='accuracy',\n",
    "                                fit_params=None,\n",
    "                                n_jobs=4, iid=True,\n",
    "                                refit=True,\n",
    "                                cv=kfold,\n",
    "                                verbose=5,\n",
    "                                pre_dispatch='4*n_jobs',\n",
    "                                error_score='raise',\n",
    "                                return_train_score='warn')\n",
    "\n",
    "\n",
    "#GridSearch fit\n",
    "grid.fit(X_train,y_train)\n",
    "\n",
    "#Best GridSearch Paramters\n",
    "print(grid.best_params_)"
   ]
  }
 ],
 "metadata": {
  "kernelspec": {
   "display_name": "Python 3",
   "language": "python",
   "name": "python3"
  },
  "language_info": {
   "codemirror_mode": {
    "name": "ipython",
    "version": 3
   },
   "file_extension": ".py",
   "mimetype": "text/x-python",
   "name": "python",
   "nbconvert_exporter": "python",
   "pygments_lexer": "ipython3",
   "version": "3.6.3"
  }
 },
 "nbformat": 4,
 "nbformat_minor": 2
}
